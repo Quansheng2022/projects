{
 "cells": [
  {
   "cell_type": "markdown",
   "id": "34fd7adb-fa72-4c77-a2f6-44be7e73a22b",
   "metadata": {
    "dc": {
     "key": "3"
    },
    "run_control": {
     "frozen": true
    },
    "tags": [
     "context"
    ]
   },
   "source": [
    "## 1. DRY: Don't repeat yourself\n",
    "<p><img src=\"https://assets.datacamp.com/production/project_1234/img/survey.png\" style=\"float: center;\" alt=\"A pictogram of a blood bag with blood donation written in it\" width=\"100%\"></p>\n",
    "<p>Have you ever started your data analysis and ended up with repetitive code? Our colleague Brenda who works as a Product Analyst, has found herself in this situation and has asked us for some help. She's written a script to pull Net Promotor Score (NPS) data from various sources. NPS works by asking <em>How likely is it that you would recommend our product to a friend or colleague?</em> with a rating scale of 0 to 10. Brenda has set up this NPS survey in various ways, including emails and pop-ups on the mobile app and website. To compile the data from the different sources, she's written the following code:</p>\n",
    "<pre><code class=\"py language-py\"># Read the NPS email responses into a DataFrame\n",
    "email = pd.read_csv(\"datasets/2020Q4_nps_email.csv\")\n",
    "# Add a column to record the source\n",
    "email['source'] = 'email'\n",
    "\n",
    "# Repeat for NPS mobile and web responses\n",
    "mobile = pd.read_csv(\"datasets/2020Q4_nps_mobile.csv\")\n",
    "mobile['source'] = 'mobile'\n",
    "web = pd.read_csv(\"datasets/2020Q4_nps_web.csv\")\n",
    "web['source'] = 'web'\n",
    "\n",
    "# Combine the DataFrames\n",
    "q4_nps = pd.concat([email,mobile,web])\n",
    "</code></pre>\n",
    "<p>This results in the DataFrame <code>q4_nps</code> that looks like this:</p>\n",
    "<table>\n",
    "<thead>\n",
    "<tr>\n",
    "<th></th>\n",
    "<th><code>response_date</code></th>\n",
    "<th><code>user_id</code></th>\n",
    "<th><code>nps_rating</code></th>\n",
    "<th><code>source</code></th>\n",
    "</tr>\n",
    "</thead>\n",
    "<tbody>\n",
    "<tr>\n",
    "<td>0</td>\n",
    "<td>2020-10-29</td>\n",
    "<td>36742</td>\n",
    "<td>2</td>\n",
    "<td>email</td>\n",
    "</tr>\n",
    "<tr>\n",
    "<td>1</td>\n",
    "<td>2020-11-26</td>\n",
    "<td>31851</td>\n",
    "<td>10</td>\n",
    "<td>email</td>\n",
    "</tr>\n",
    "<tr>\n",
    "<td>2</td>\n",
    "<td>2020-10-27</td>\n",
    "<td>44299</td>\n",
    "<td>10</td>\n",
    "<td>email</td>\n",
    "</tr>\n",
    "<tr>\n",
    "<td>…</td>\n",
    "<td>…</td>\n",
    "<td>…</td>\n",
    "<td>…</td>\n",
    "<td>…</td>\n",
    "</tr>\n",
    "</tbody>\n",
    "</table>\n",
    "<p>This code works, but it violates the Don't Repeat Yourself (DRY) programming principle. Brenda repeats the same code for email, mobile, and web, except with different variable names and file names. While it's often quicker to copy and paste, it makes it easier to introduce errors. For example, if you need to edit one of those lines, you have to do it in multiple places. Enter functions! Repeated code is a sign that we need functions. Let's write a function for Brenda.</p>"
   ]
  },
  {
   "cell_type": "code",
   "execution_count": 1,
   "id": "6312b294-d219-4c55-98fd-71b52e3ad4d0",
   "metadata": {
    "collapsed": true,
    "dc": {
     "key": "3"
    },
    "executionTime": 80,
    "jupyter": {
     "outputs_hidden": true
    },
    "lastSuccessfullyExecutedCode": "# Import pandas with the usual alias\nimport pandas as pd\n\n# Write a function that matches the docstring\ndef convert_csv_to_df(csv_name, source_type):\n    \"\"\" Converts an NPS CSV into a DataFrame with a column for the source. \n    \n    Args:\n        csv_name (str): The name of the NPS CSV file.\n        source_type (str): The source of the NPS responses.\n\n    Returns:\n        A DataFrame with the CSV data and a column, source.\n    \"\"\"   \n    df = pd.read_csv(csv_name)\n    df['source'] = source_type\n    \n    return df\n\n",
    "tags": [
     "sample_code"
    ]
   },
   "outputs": [],
   "source": [
    "# Import pandas with the usual alias\n",
    "import pandas as pd\n",
    "\n",
    "# Write a function that matches the docstring\n",
    "def convert_csv_to_df(csv_name, source_type):\n",
    "    \"\"\" Converts an NPS CSV into a DataFrame with a column for the source. \n",
    "    \n",
    "    Args:\n",
    "        csv_name (str): The name of the NPS CSV file.\n",
    "        source_type (str): The source of the NPS responses.\n",
    "\n",
    "    Returns:\n",
    "        A DataFrame with the CSV data and a column, source.\n",
    "    \"\"\"   \n",
    "    df = pd.read_csv(csv_name)\n",
    "    df['source'] = source_type\n",
    "    \n",
    "    return df\n",
    "\n"
   ]
  },
  {
   "cell_type": "code",
   "execution_count": 2,
   "id": "f483817e-35da-4bd6-ae6e-4cb692fc90ec",
   "metadata": {
    "dc": {
     "key": "3"
    },
    "executionTime": 23,
    "lastSuccessfullyExecutedCode": "# Test the function on the mobile data \nmobile = convert_csv_to_df(\"datasets/2020Q4_nps_mobile.csv\", \"mobile\")\nprint(mobile.head())"
   },
   "outputs": [
    {
     "name": "stdout",
     "output_type": "stream",
     "text": [
      "  response_date  user_id  nps_rating  source\n",
      "0    2020-12-29    14178           3  mobile\n",
      "1    2020-10-29    33221           1  mobile\n",
      "2    2020-11-01    21127          10  mobile\n",
      "3    2020-12-07    42894           3  mobile\n",
      "4    2020-11-26    30501           5  mobile\n"
     ]
    }
   ],
   "source": [
    "# Test the function on the mobile data \n",
    "mobile = convert_csv_to_df(\"datasets/2020Q4_nps_mobile.csv\", \"mobile\")\n",
    "print(mobile.head())"
   ]
  },
  {
   "cell_type": "code",
   "execution_count": 3,
   "id": "9ad79f75-6e2e-48b6-9f1e-b9d84a72ad16",
   "metadata": {
    "dc": {
     "key": "3"
    },
    "executionTime": 43,
    "lastSuccessfullyExecutedCode": "email = convert_csv_to_df(\"datasets/2020Q4_nps_email.csv\", \"email\")\nweb = convert_csv_to_df(\"datasets/2020Q4_nps_web.csv\",\"web\")\nnps = pd.concat([mobile, email, web])\nnps.info()"
   },
   "outputs": [
    {
     "name": "stdout",
     "output_type": "stream",
     "text": [
      "<class 'pandas.core.frame.DataFrame'>\n",
      "Int64Index: 6043 entries, 0 to 2289\n",
      "Data columns (total 4 columns):\n",
      " #   Column         Non-Null Count  Dtype \n",
      "---  ------         --------------  ----- \n",
      " 0   response_date  6043 non-null   object\n",
      " 1   user_id        6043 non-null   int64 \n",
      " 2   nps_rating     6043 non-null   int64 \n",
      " 3   source         6043 non-null   object\n",
      "dtypes: int64(2), object(2)\n",
      "memory usage: 236.1+ KB\n"
     ]
    }
   ],
   "source": [
    "email = convert_csv_to_df(\"datasets/2020Q4_nps_email.csv\", \"email\")\n",
    "web = convert_csv_to_df(\"datasets/2020Q4_nps_web.csv\",\"web\")\n",
    "nps = pd.concat([mobile, email, web])\n",
    "nps.info()"
   ]
  },
  {
   "cell_type": "markdown",
   "id": "39992d7b-818e-4a75-b9f1-8d860f42b14e",
   "metadata": {
    "dc": {
     "key": "10"
    },
    "run_control": {
     "frozen": true
    },
    "tags": [
     "context"
    ]
   },
   "source": [
    "## 2. Verifying the files with the \"with\" keyword\n",
    "<p>Excellent, we have a function that reads and cleans Brenda's CSVs precisely the way she needs! She can call this function in the future for as many different sources as she wants. Before we combine the NPS DataFrames, we want to add a function that verifies that the files inputted are valid. Each of these NPS dataset files should have three columns: <code>response_date</code>, <code>user_id</code>, <code>nps_rating</code>. Previously, Brenda would check this manually by opening each file. </p>\n",
    "<p>Let's write a function that uses the <strong>context manager</strong> <code>with open()</code> so that we properly close the files we open, <a href=\"https://docs.python.org/3/tutorial/inputoutput.html#reading-and-writing-files\">even if an exception is raised</a>. If we don't use the <code>with</code> keyword with <code>open()</code> , we would need to call <code>close()</code> after we're done with the file. Even then, it's risky because an error might be raised before the <code>close()</code> functions are called. </p>\n",
    "<p>The function will return <code>True</code> if the file contains the right columns. Otherwise, it will return <code>False</code>. To test the function, we'll use <code>datasets/corrupted.csv</code> to simulate a corrupted invalid NPS file.</p>"
   ]
  },
  {
   "cell_type": "code",
   "execution_count": 4,
   "id": "4801e89e-189d-438c-a60b-f2ebf7a3d704",
   "metadata": {
    "dc": {
     "key": "10"
    },
    "executionTime": 40,
    "lastSuccessfullyExecutedCode": "# Define a function check_csv which takes csv_name\ndef check_csv(csv_name):\n    \"\"\" Checks if a CSV has three columns: response_date, user_id, nps_rating\n\n    Args:\n        csv_name (str): The name of the CSV file.\n\n    Returns:\n        Boolean: True if the CSV is valid, False otherwise \n    \"\"\"\n    # Open csv_name as f using with open\n    with open(csv_name,\"r\") as f:\n        first_line = f.readline()\n        # Return true if the CSV has the three specified columns\n        if first_line == \"response_date,user_id,nps_rating\\n\":\n            return True\n        # Otherwise, return false    \n        else:\n            return False\n\n# Test the function on a corrupted NPS file\ntest = check_csv(\"datasets/corrupted.csv\")\nprint(test)\n\ntest = check_csv(\"datasets/2020Q4_nps_mobile.csv\")\nprint(test)",
    "tags": [
     "sample_code"
    ]
   },
   "outputs": [
    {
     "name": "stdout",
     "output_type": "stream",
     "text": [
      "False\n",
      "True\n"
     ]
    }
   ],
   "source": [
    "# Define a function check_csv which takes csv_name\n",
    "def check_csv(csv_name):\n",
    "    \"\"\" Checks if a CSV has three columns: response_date, user_id, nps_rating\n",
    "\n",
    "    Args:\n",
    "        csv_name (str): The name of the CSV file.\n",
    "\n",
    "    Returns:\n",
    "        Boolean: True if the CSV is valid, False otherwise \n",
    "    \"\"\"\n",
    "    # Open csv_name as f using with open\n",
    "    with open(csv_name,\"r\") as f:\n",
    "        first_line = f.readline()\n",
    "        # Return true if the CSV has the three specified columns\n",
    "        if first_line == \"response_date,user_id,nps_rating\\n\":\n",
    "            return True\n",
    "        # Otherwise, return false    \n",
    "        else:\n",
    "            return False\n",
    "\n",
    "# Test the function on a corrupted NPS file\n",
    "test = check_csv(\"datasets/corrupted.csv\")\n",
    "print(test)\n",
    "\n",
    "test = check_csv(\"datasets/2020Q4_nps_mobile.csv\")\n",
    "print(test)"
   ]
  },
  {
   "cell_type": "markdown",
   "id": "c1268f1f-a8f0-4b71-b3ee-5bd6895fb9fd",
   "metadata": {
    "dc": {
     "key": "17"
    },
    "run_control": {
     "frozen": true
    },
    "tags": [
     "context"
    ]
   },
   "source": [
    "## 3. Putting it together with nested functions\n",
    "<p>Alright, we now have one function that verifies that the CSVs are valid and another that converts them into the DataFrame format needed by Brenda. What's left? Looking at the script, this is the last line we haven't covered: <code>q4_nps = pd.concat([email,mobile,web])</code>. We could use this line of code, but we'll see more code repetition if we get CSVs from other sources or time periods.</p>\n",
    "<p>To make sure our code is scalable, we're going to write a function called <code>combine_nps_csvs()</code> that takes in a dictionary. Python dictionaries have key:value pairs. In our case, the CSV's name and source type will be the key and value, respectively. That way, we can define a dictionary with as many NPS files as we have and run it through <code>combine_nps_csvs()</code>. For each file, we'll check that it's valid using <code>check_csv()</code>, and if it is, we'll use <code>convert_csv_to_df()</code> to convert it into a DataFrame. At the start of the function, we'll define an empty DataFrame called <code>combined</code> and everytime a CSV is succesfully converted, we'll concatenate it to <code>combined</code>.</p>"
   ]
  },
  {
   "cell_type": "code",
   "execution_count": 5,
   "id": "fbc1cf77-ad7f-43a4-84ee-ee2ed060e62d",
   "metadata": {
    "dc": {
     "key": "17"
    },
    "executionTime": 157,
    "lastSuccessfullyExecutedCode": "# Write a function combine_nps_csvs() with the arg csvs_dict \ndef combine_nps_csvs(csvs_dict):\n    # Define combine as an empty DataFrame\n    combined = pd.DataFrame()\n    # Iterate over csvs_dict to get the name and source of the CSVs\n    for key, value in csvs_dict.items():\n        # Check if the csv is valid using check_csv()\n        print(key)\n        if check_csv(key):\n            # Convert the CSV using convert_csv_to_df() and assign it to temp\n            temp = convert_csv_to_df(key, value)\n            \n            # Concatenate combined and temp and assign it to combined\n            combined = pd.concat([combined,temp])\n         # If the file is not valid, print a message with the CSV's name\n        else:\n            print(key + \" is not a valid file and will not be added.\")\n    # Return the combined DataFrame\n    return combined\n\nmy_files = {\n  \"datasets/2020Q4_nps_email.csv\": \"email\",\n  \"datasets/2020Q4_nps_mobile.csv\": \"mobile\",\n  \"datasets/2020Q4_nps_web.csv\": \"web\",\n  \"datasets/corrupted.csv\": \"social_media\"\n}\n\n# Test the function on the my_files dictionary \nnewdf = combine_nps_csvs(my_files)\nnewdf.head()",
    "tags": [
     "sample_code"
    ]
   },
   "outputs": [
    {
     "name": "stdout",
     "output_type": "stream",
     "text": [
      "datasets/2020Q4_nps_email.csv\n",
      "datasets/2020Q4_nps_mobile.csv\n",
      "datasets/2020Q4_nps_web.csv\n",
      "datasets/corrupted.csv\n",
      "datasets/corrupted.csv is not a valid file and will not be added.\n"
     ]
    },
    {
     "data": {
      "application/com.datacamp.data-table.v1+json": {
       "table": {
        "data": [
         {
          "index": 0,
          "nps_rating": 7,
          "response_date": "2020-11-06",
          "source": "email",
          "user_id": 11037
         },
         {
          "index": 1,
          "nps_rating": 9,
          "response_date": "2020-12-24",
          "source": "email",
          "user_id": 34434
         },
         {
          "index": 2,
          "nps_rating": 8,
          "response_date": "2020-12-03",
          "source": "email",
          "user_id": 49547
         },
         {
          "index": 3,
          "nps_rating": 7,
          "response_date": "2020-10-04",
          "source": "email",
          "user_id": 13821
         },
         {
          "index": 4,
          "nps_rating": 9,
          "response_date": "2020-10-23",
          "source": "email",
          "user_id": 29407
         }
        ],
        "schema": {
         "fields": [
          {
           "name": "index",
           "type": "integer"
          },
          {
           "name": "response_date",
           "type": "string"
          },
          {
           "name": "user_id",
           "type": "integer"
          },
          {
           "name": "nps_rating",
           "type": "integer"
          },
          {
           "name": "source",
           "type": "string"
          }
         ],
         "pandas_version": "1.4.0",
         "primaryKey": [
          "index"
         ]
        }
       },
       "total_rows": 5,
       "truncation_type": null
      },
      "text/html": [
       "<div>\n",
       "<style scoped>\n",
       "    .dataframe tbody tr th:only-of-type {\n",
       "        vertical-align: middle;\n",
       "    }\n",
       "\n",
       "    .dataframe tbody tr th {\n",
       "        vertical-align: top;\n",
       "    }\n",
       "\n",
       "    .dataframe thead th {\n",
       "        text-align: right;\n",
       "    }\n",
       "</style>\n",
       "<table border=\"1\" class=\"dataframe\">\n",
       "  <thead>\n",
       "    <tr style=\"text-align: right;\">\n",
       "      <th></th>\n",
       "      <th>response_date</th>\n",
       "      <th>user_id</th>\n",
       "      <th>nps_rating</th>\n",
       "      <th>source</th>\n",
       "    </tr>\n",
       "  </thead>\n",
       "  <tbody>\n",
       "    <tr>\n",
       "      <th>0</th>\n",
       "      <td>2020-11-06</td>\n",
       "      <td>11037</td>\n",
       "      <td>7</td>\n",
       "      <td>email</td>\n",
       "    </tr>\n",
       "    <tr>\n",
       "      <th>1</th>\n",
       "      <td>2020-12-24</td>\n",
       "      <td>34434</td>\n",
       "      <td>9</td>\n",
       "      <td>email</td>\n",
       "    </tr>\n",
       "    <tr>\n",
       "      <th>2</th>\n",
       "      <td>2020-12-03</td>\n",
       "      <td>49547</td>\n",
       "      <td>8</td>\n",
       "      <td>email</td>\n",
       "    </tr>\n",
       "    <tr>\n",
       "      <th>3</th>\n",
       "      <td>2020-10-04</td>\n",
       "      <td>13821</td>\n",
       "      <td>7</td>\n",
       "      <td>email</td>\n",
       "    </tr>\n",
       "    <tr>\n",
       "      <th>4</th>\n",
       "      <td>2020-10-23</td>\n",
       "      <td>29407</td>\n",
       "      <td>9</td>\n",
       "      <td>email</td>\n",
       "    </tr>\n",
       "  </tbody>\n",
       "</table>\n",
       "</div>"
      ],
      "text/plain": [
       "  response_date  user_id  nps_rating source\n",
       "0    2020-11-06    11037           7  email\n",
       "1    2020-12-24    34434           9  email\n",
       "2    2020-12-03    49547           8  email\n",
       "3    2020-10-04    13821           7  email\n",
       "4    2020-10-23    29407           9  email"
      ]
     },
     "execution_count": 5,
     "metadata": {},
     "output_type": "execute_result"
    }
   ],
   "source": [
    "# Write a function combine_nps_csvs() with the arg csvs_dict \n",
    "def combine_nps_csvs(csvs_dict):\n",
    "    # Define combine as an empty DataFrame\n",
    "    combined = pd.DataFrame()\n",
    "    # Iterate over csvs_dict to get the name and source of the CSVs\n",
    "    for key, value in csvs_dict.items():\n",
    "        # Check if the csv is valid using check_csv()\n",
    "        print(key)\n",
    "        if check_csv(key):\n",
    "            # Convert the CSV using convert_csv_to_df() and assign it to temp\n",
    "            temp = convert_csv_to_df(key, value)\n",
    "            \n",
    "            # Concatenate combined and temp and assign it to combined\n",
    "            combined = pd.concat([combined,temp])\n",
    "         # If the file is not valid, print a message with the CSV's name\n",
    "        else:\n",
    "            print(key + \" is not a valid file and will not be added.\")\n",
    "    # Return the combined DataFrame\n",
    "    return combined\n",
    "\n",
    "my_files = {\n",
    "  \"datasets/2020Q4_nps_email.csv\": \"email\",\n",
    "  \"datasets/2020Q4_nps_mobile.csv\": \"mobile\",\n",
    "  \"datasets/2020Q4_nps_web.csv\": \"web\",\n",
    "  \"datasets/corrupted.csv\": \"social_media\"\n",
    "}\n",
    "\n",
    "# Test the function on the my_files dictionary \n",
    "newdf = combine_nps_csvs(my_files)\n",
    "newdf.head()"
   ]
  },
  {
   "cell_type": "markdown",
   "id": "d71c3c47-b661-4168-a64c-92aac0922c43",
   "metadata": {
    "dc": {
     "key": "24"
    },
    "run_control": {
     "frozen": true
    },
    "tags": [
     "context"
    ]
   },
   "source": [
    "## 4. Detractors, Passives, and Promoters\n",
    "<p>We've summarized our colleague's script into one function: <code>combine_nps_csvs()</code>! Let's move on to analyzing the NPS data, such as actually calculating NPS. As a reminder, NPS works by asking <em>How likely is it that you would recommend our product to a friend or colleague?</em> with a rating scale of 0 to 10.</p>\n",
    "<p>NPS ratings are categorized into three groups. Ratings between 0 to 6 are <strong>detractors</strong>, ratings between 7 to 8 are <strong>passives</strong>, and finally, ratings 9 to 10 are <strong>promoters</strong>. There's more to analyzing NPS, but remember, functions should be small in scope and should just \"do one thing\". So before we get ahead of ourselves, let's write a simple function that takes an NPS rating and categorizes it into the appropriate group.</p>"
   ]
  },
  {
   "cell_type": "code",
   "execution_count": 6,
   "id": "d3927456-22bd-4279-8997-93da7d22d0ab",
   "metadata": {
    "dc": {
     "key": "24"
    },
    "executionTime": 41,
    "lastSuccessfullyExecutedCode": "def categorize_nps(x):\n    \"\"\" \n    Takes a NPS rating and outputs whether it is a \"promoter\", \n    \"passive\", \"detractor\", or \"invalid\" rating. \"invalid\" is\n    returned when the rating is not between 0-10.\n\n    Args:\n        x: The NPS rating\n\n    Returns:\n        String: the NPS category or \"invalid\".\n    \"\"\"\n    # Write the rest of the function to match the docstring\n    if x == 9 or x == 10: \n        return  'promoter'\n    elif x == 7 or x == 8:\n        return 'passive'\n    elif x>= 0 and x <= 6:\n        return 'detractor'\n    else:\n        return 'invalid'\n    \n# Test the function \ncategorize_nps(8)\n",
    "tags": [
     "sample_code"
    ]
   },
   "outputs": [
    {
     "data": {
      "text/plain": [
       "'passive'"
      ]
     },
     "execution_count": 6,
     "metadata": {},
     "output_type": "execute_result"
    }
   ],
   "source": [
    "def categorize_nps(x):\n",
    "    \"\"\" \n",
    "    Takes a NPS rating and outputs whether it is a \"promoter\", \n",
    "    \"passive\", \"detractor\", or \"invalid\" rating. \"invalid\" is\n",
    "    returned when the rating is not between 0-10.\n",
    "\n",
    "    Args:\n",
    "        x: The NPS rating\n",
    "\n",
    "    Returns:\n",
    "        String: the NPS category or \"invalid\".\n",
    "    \"\"\"\n",
    "    # Write the rest of the function to match the docstring\n",
    "    if x == 9 or x == 10: \n",
    "        return  'promoter'\n",
    "    elif x == 7 or x == 8:\n",
    "        return 'passive'\n",
    "    elif x>= 0 and x <= 6:\n",
    "        return 'detractor'\n",
    "    else:\n",
    "        return 'invalid'\n",
    "    \n",
    "# Test the function \n",
    "categorize_nps(8)\n"
   ]
  },
  {
   "cell_type": "markdown",
   "id": "3d3953ff-c87d-46c4-a8d0-8475d97ae3a8",
   "metadata": {
    "dc": {
     "key": "31"
    },
    "run_control": {
     "frozen": true
    },
    "tags": [
     "context"
    ]
   },
   "source": [
    "## 5. Applying our function to a DataFrame\n",
    "<p>So we have a function that takes a score and outputs which NPS response group it belongs to. It would be great to have this as a column in our NPS DataFrames, similar to the <code>source</code> column we added. Since we've modularized our code with functions, all we need to do is edit our <code>convert_cvs_to_df()</code> function and nest <code>categorize_nps()</code> into it. However, the way we'll nest <code>categorize_nps()</code> will be different than previous times. The <code>pandas</code> library has a handy function called <code>apply()</code>, which lets us apply a function to each column or row of a DataFrame. </p>"
   ]
  },
  {
   "cell_type": "code",
   "execution_count": 7,
   "id": "4ee4fcd1-1a10-435f-8545-31ea819987b2",
   "metadata": {
    "dc": {
     "key": "31"
    },
    "executionTime": 3284,
    "lastSuccessfullyExecutedCode": "def convert_csv_to_df(csv_name, source_type):    \n    \"\"\" Convert an NPS CSV into a DataFrame with columns for the source and NPS group.\n\n    Args:\n        csv_name (str): The name of the NPS CSV file.\n        source_type (str): The source of the NPS responses.\n\n    Returns:\n         A DataFrame with the CSV data and columns: source and nps_group.\n    \"\"\"\n    df = pd.read_csv(csv_name)\n    df['source'] = source_type\n    # Define a new column nps_group which applies categorize_nps to nps_rating\n    df['nps_group'] = df['nps_rating'].apply(categorize_nps)\n    return df\n\n# Test the updated function with mobile data\nconvert_csv_to_df(\"datasets/2020Q4_nps_mobile.csv\", \"mobile\")",
    "tags": [
     "sample_code"
    ]
   },
   "outputs": [
    {
     "data": {
      "application/com.datacamp.data-table.v1+json": {
       "table": {
        "data": [
         {
          "index": 0,
          "nps_group": "detractor",
          "nps_rating": 3,
          "response_date": "2020-12-29",
          "source": "mobile",
          "user_id": 14178
         },
         {
          "index": 1,
          "nps_group": "detractor",
          "nps_rating": 1,
          "response_date": "2020-10-29",
          "source": "mobile",
          "user_id": 33221
         },
         {
          "index": 2,
          "nps_group": "promoter",
          "nps_rating": 10,
          "response_date": "2020-11-01",
          "source": "mobile",
          "user_id": 21127
         },
         {
          "index": 3,
          "nps_group": "detractor",
          "nps_rating": 3,
          "response_date": "2020-12-07",
          "source": "mobile",
          "user_id": 42894
         },
         {
          "index": 4,
          "nps_group": "detractor",
          "nps_rating": 5,
          "response_date": "2020-11-26",
          "source": "mobile",
          "user_id": 30501
         },
         {
          "index": 5,
          "nps_group": "promoter",
          "nps_rating": 9,
          "response_date": "2020-12-01",
          "source": "mobile",
          "user_id": 10941
         },
         {
          "index": 6,
          "nps_group": "passive",
          "nps_rating": 7,
          "response_date": "2020-12-15",
          "source": "mobile",
          "user_id": 30251
         },
         {
          "index": 7,
          "nps_group": "passive",
          "nps_rating": 7,
          "response_date": "2020-10-06",
          "source": "mobile",
          "user_id": 36268
         },
         {
          "index": 8,
          "nps_group": "detractor",
          "nps_rating": 2,
          "response_date": "2020-11-09",
          "source": "mobile",
          "user_id": 17365
         },
         {
          "index": 9,
          "nps_group": "promoter",
          "nps_rating": 10,
          "response_date": "2020-12-19",
          "source": "mobile",
          "user_id": 39719
         },
         {
          "index": 10,
          "nps_group": "detractor",
          "nps_rating": 5,
          "response_date": "2020-10-10",
          "source": "mobile",
          "user_id": 40533
         },
         {
          "index": 11,
          "nps_group": "passive",
          "nps_rating": 7,
          "response_date": "2020-12-26",
          "source": "mobile",
          "user_id": 44639
         },
         {
          "index": 12,
          "nps_group": "passive",
          "nps_rating": 8,
          "response_date": "2020-12-31",
          "source": "mobile",
          "user_id": 45804
         },
         {
          "index": 13,
          "nps_group": "promoter",
          "nps_rating": 10,
          "response_date": "2020-11-01",
          "source": "mobile",
          "user_id": 43875
         },
         {
          "index": 14,
          "nps_group": "promoter",
          "nps_rating": 10,
          "response_date": "2020-10-06",
          "source": "mobile",
          "user_id": 23893
         },
         {
          "index": 15,
          "nps_group": "passive",
          "nps_rating": 8,
          "response_date": "2020-12-05",
          "source": "mobile",
          "user_id": 28635
         },
         {
          "index": 16,
          "nps_group": "detractor",
          "nps_rating": 4,
          "response_date": "2020-11-14",
          "source": "mobile",
          "user_id": 12102
         },
         {
          "index": 17,
          "nps_group": "passive",
          "nps_rating": 7,
          "response_date": "2020-10-15",
          "source": "mobile",
          "user_id": 16537
         },
         {
          "index": 18,
          "nps_group": "promoter",
          "nps_rating": 10,
          "response_date": "2020-10-03",
          "source": "mobile",
          "user_id": 34086
         },
         {
          "index": 19,
          "nps_group": "promoter",
          "nps_rating": 9,
          "response_date": "2020-12-11",
          "source": "mobile",
          "user_id": 46288
         },
         {
          "index": 20,
          "nps_group": "detractor",
          "nps_rating": 1,
          "response_date": "2020-10-14",
          "source": "mobile",
          "user_id": 49671
         },
         {
          "index": 21,
          "nps_group": "passive",
          "nps_rating": 7,
          "response_date": "2020-11-16",
          "source": "mobile",
          "user_id": 45576
         },
         {
          "index": 22,
          "nps_group": "detractor",
          "nps_rating": 5,
          "response_date": "2020-10-08",
          "source": "mobile",
          "user_id": 42384
         },
         {
          "index": 23,
          "nps_group": "detractor",
          "nps_rating": 4,
          "response_date": "2020-11-10",
          "source": "mobile",
          "user_id": 22507
         },
         {
          "index": 24,
          "nps_group": "detractor",
          "nps_rating": 6,
          "response_date": "2020-12-13",
          "source": "mobile",
          "user_id": 21452
         },
         {
          "index": 25,
          "nps_group": "detractor",
          "nps_rating": 6,
          "response_date": "2020-11-10",
          "source": "mobile",
          "user_id": 12377
         },
         {
          "index": 26,
          "nps_group": "detractor",
          "nps_rating": 2,
          "response_date": "2020-10-22",
          "source": "mobile",
          "user_id": 34828
         },
         {
          "index": 27,
          "nps_group": "passive",
          "nps_rating": 7,
          "response_date": "2020-10-28",
          "source": "mobile",
          "user_id": 41156
         },
         {
          "index": 28,
          "nps_group": "detractor",
          "nps_rating": 5,
          "response_date": "2020-10-13",
          "source": "mobile",
          "user_id": 20440
         },
         {
          "index": 29,
          "nps_group": "detractor",
          "nps_rating": 6,
          "response_date": "2020-12-21",
          "source": "mobile",
          "user_id": 40153
         },
         {
          "index": 30,
          "nps_group": "passive",
          "nps_rating": 7,
          "response_date": "2020-10-16",
          "source": "mobile",
          "user_id": 29486
         },
         {
          "index": 31,
          "nps_group": "passive",
          "nps_rating": 7,
          "response_date": "2020-12-05",
          "source": "mobile",
          "user_id": 27664
         },
         {
          "index": 32,
          "nps_group": "detractor",
          "nps_rating": 4,
          "response_date": "2020-11-04",
          "source": "mobile",
          "user_id": 10019
         },
         {
          "index": 33,
          "nps_group": "passive",
          "nps_rating": 7,
          "response_date": "2020-12-19",
          "source": "mobile",
          "user_id": 41597
         },
         {
          "index": 34,
          "nps_group": "detractor",
          "nps_rating": 5,
          "response_date": "2020-10-12",
          "source": "mobile",
          "user_id": 12572
         },
         {
          "index": 35,
          "nps_group": "passive",
          "nps_rating": 7,
          "response_date": "2020-12-30",
          "source": "mobile",
          "user_id": 30852
         },
         {
          "index": 36,
          "nps_group": "passive",
          "nps_rating": 8,
          "response_date": "2020-10-12",
          "source": "mobile",
          "user_id": 40664
         },
         {
          "index": 37,
          "nps_group": "detractor",
          "nps_rating": 1,
          "response_date": "2020-10-28",
          "source": "mobile",
          "user_id": 24521
         },
         {
          "index": 38,
          "nps_group": "passive",
          "nps_rating": 7,
          "response_date": "2020-12-17",
          "source": "mobile",
          "user_id": 29079
         },
         {
          "index": 39,
          "nps_group": "detractor",
          "nps_rating": 1,
          "response_date": "2020-12-07",
          "source": "mobile",
          "user_id": 27278
         },
         {
          "index": 40,
          "nps_group": "passive",
          "nps_rating": 7,
          "response_date": "2020-11-23",
          "source": "mobile",
          "user_id": 23656
         },
         {
          "index": 41,
          "nps_group": "passive",
          "nps_rating": 7,
          "response_date": "2020-10-01",
          "source": "mobile",
          "user_id": 33471
         },
         {
          "index": 42,
          "nps_group": "detractor",
          "nps_rating": 5,
          "response_date": "2020-12-29",
          "source": "mobile",
          "user_id": 49198
         },
         {
          "index": 43,
          "nps_group": "detractor",
          "nps_rating": 5,
          "response_date": "2020-12-29",
          "source": "mobile",
          "user_id": 16953
         },
         {
          "index": 44,
          "nps_group": "detractor",
          "nps_rating": 1,
          "response_date": "2020-10-15",
          "source": "mobile",
          "user_id": 10058
         },
         {
          "index": 45,
          "nps_group": "passive",
          "nps_rating": 8,
          "response_date": "2020-11-04",
          "source": "mobile",
          "user_id": 49180
         },
         {
          "index": 46,
          "nps_group": "detractor",
          "nps_rating": 1,
          "response_date": "2020-10-10",
          "source": "mobile",
          "user_id": 20771
         },
         {
          "index": 47,
          "nps_group": "passive",
          "nps_rating": 7,
          "response_date": "2020-11-06",
          "source": "mobile",
          "user_id": 23807
         },
         {
          "index": 48,
          "nps_group": "passive",
          "nps_rating": 7,
          "response_date": "2020-12-14",
          "source": "mobile",
          "user_id": 38591
         },
         {
          "index": 49,
          "nps_group": "passive",
          "nps_rating": 8,
          "response_date": "2020-11-07",
          "source": "mobile",
          "user_id": 12176
         },
         {
          "index": 50,
          "nps_group": "detractor",
          "nps_rating": 3,
          "response_date": "2020-10-07",
          "source": "mobile",
          "user_id": 45467
         },
         {
          "index": 51,
          "nps_group": "promoter",
          "nps_rating": 10,
          "response_date": "2020-10-30",
          "source": "mobile",
          "user_id": 29924
         },
         {
          "index": 52,
          "nps_group": "promoter",
          "nps_rating": 9,
          "response_date": "2020-12-08",
          "source": "mobile",
          "user_id": 13396
         },
         {
          "index": 53,
          "nps_group": "passive",
          "nps_rating": 8,
          "response_date": "2020-11-18",
          "source": "mobile",
          "user_id": 19078
         },
         {
          "index": 54,
          "nps_group": "passive",
          "nps_rating": 8,
          "response_date": "2020-12-24",
          "source": "mobile",
          "user_id": 45181
         },
         {
          "index": 55,
          "nps_group": "passive",
          "nps_rating": 8,
          "response_date": "2020-10-04",
          "source": "mobile",
          "user_id": 21803
         },
         {
          "index": 56,
          "nps_group": "detractor",
          "nps_rating": 6,
          "response_date": "2020-10-29",
          "source": "mobile",
          "user_id": 46649
         },
         {
          "index": 57,
          "nps_group": "promoter",
          "nps_rating": 9,
          "response_date": "2020-12-03",
          "source": "mobile",
          "user_id": 33559
         },
         {
          "index": 58,
          "nps_group": "passive",
          "nps_rating": 7,
          "response_date": "2020-12-03",
          "source": "mobile",
          "user_id": 22532
         },
         {
          "index": 59,
          "nps_group": "promoter",
          "nps_rating": 10,
          "response_date": "2020-10-30",
          "source": "mobile",
          "user_id": 28798
         },
         {
          "index": 60,
          "nps_group": "detractor",
          "nps_rating": 6,
          "response_date": "2020-10-01",
          "source": "mobile",
          "user_id": 40211
         },
         {
          "index": 61,
          "nps_group": "detractor",
          "nps_rating": 3,
          "response_date": "2020-12-02",
          "source": "mobile",
          "user_id": 44951
         },
         {
          "index": 62,
          "nps_group": "passive",
          "nps_rating": 7,
          "response_date": "2020-12-01",
          "source": "mobile",
          "user_id": 32357
         },
         {
          "index": 63,
          "nps_group": "detractor",
          "nps_rating": 6,
          "response_date": "2020-11-07",
          "source": "mobile",
          "user_id": 39191
         },
         {
          "index": 64,
          "nps_group": "detractor",
          "nps_rating": 3,
          "response_date": "2020-10-21",
          "source": "mobile",
          "user_id": 26811
         },
         {
          "index": 65,
          "nps_group": "detractor",
          "nps_rating": 1,
          "response_date": "2020-10-28",
          "source": "mobile",
          "user_id": 32471
         },
         {
          "index": 66,
          "nps_group": "detractor",
          "nps_rating": 4,
          "response_date": "2020-12-08",
          "source": "mobile",
          "user_id": 15593
         },
         {
          "index": 67,
          "nps_group": "detractor",
          "nps_rating": 4,
          "response_date": "2020-10-08",
          "source": "mobile",
          "user_id": 31865
         },
         {
          "index": 68,
          "nps_group": "passive",
          "nps_rating": 8,
          "response_date": "2020-11-02",
          "source": "mobile",
          "user_id": 40832
         },
         {
          "index": 69,
          "nps_group": "promoter",
          "nps_rating": 9,
          "response_date": "2020-10-28",
          "source": "mobile",
          "user_id": 23316
         },
         {
          "index": 70,
          "nps_group": "passive",
          "nps_rating": 8,
          "response_date": "2020-12-03",
          "source": "mobile",
          "user_id": 16159
         },
         {
          "index": 71,
          "nps_group": "promoter",
          "nps_rating": 10,
          "response_date": "2020-10-27",
          "source": "mobile",
          "user_id": 47446
         },
         {
          "index": 72,
          "nps_group": "detractor",
          "nps_rating": 1,
          "response_date": "2020-12-28",
          "source": "mobile",
          "user_id": 14135
         },
         {
          "index": 73,
          "nps_group": "promoter",
          "nps_rating": 9,
          "response_date": "2020-12-27",
          "source": "mobile",
          "user_id": 43148
         },
         {
          "index": 74,
          "nps_group": "passive",
          "nps_rating": 7,
          "response_date": "2020-11-23",
          "source": "mobile",
          "user_id": 46606
         },
         {
          "index": 75,
          "nps_group": "promoter",
          "nps_rating": 10,
          "response_date": "2020-12-08",
          "source": "mobile",
          "user_id": 38285
         },
         {
          "index": 76,
          "nps_group": "passive",
          "nps_rating": 7,
          "response_date": "2020-12-09",
          "source": "mobile",
          "user_id": 48866
         },
         {
          "index": 77,
          "nps_group": "detractor",
          "nps_rating": 5,
          "response_date": "2020-12-23",
          "source": "mobile",
          "user_id": 22084
         },
         {
          "index": 78,
          "nps_group": "detractor",
          "nps_rating": 6,
          "response_date": "2020-11-05",
          "source": "mobile",
          "user_id": 47110
         },
         {
          "index": 79,
          "nps_group": "detractor",
          "nps_rating": 5,
          "response_date": "2020-10-10",
          "source": "mobile",
          "user_id": 30266
         },
         {
          "index": 80,
          "nps_group": "promoter",
          "nps_rating": 9,
          "response_date": "2020-12-15",
          "source": "mobile",
          "user_id": 32495
         },
         {
          "index": 81,
          "nps_group": "detractor",
          "nps_rating": 6,
          "response_date": "2020-11-08",
          "source": "mobile",
          "user_id": 12517
         },
         {
          "index": 82,
          "nps_group": "passive",
          "nps_rating": 7,
          "response_date": "2020-10-27",
          "source": "mobile",
          "user_id": 26003
         },
         {
          "index": 83,
          "nps_group": "detractor",
          "nps_rating": 1,
          "response_date": "2020-11-06",
          "source": "mobile",
          "user_id": 13370
         },
         {
          "index": 84,
          "nps_group": "detractor",
          "nps_rating": 3,
          "response_date": "2020-10-31",
          "source": "mobile",
          "user_id": 18595
         },
         {
          "index": 85,
          "nps_group": "promoter",
          "nps_rating": 9,
          "response_date": "2020-11-19",
          "source": "mobile",
          "user_id": 40182
         },
         {
          "index": 86,
          "nps_group": "promoter",
          "nps_rating": 10,
          "response_date": "2020-11-22",
          "source": "mobile",
          "user_id": 12560
         },
         {
          "index": 87,
          "nps_group": "detractor",
          "nps_rating": 6,
          "response_date": "2020-11-04",
          "source": "mobile",
          "user_id": 45021
         },
         {
          "index": 88,
          "nps_group": "promoter",
          "nps_rating": 10,
          "response_date": "2020-10-21",
          "source": "mobile",
          "user_id": 33946
         },
         {
          "index": 89,
          "nps_group": "passive",
          "nps_rating": 7,
          "response_date": "2020-11-02",
          "source": "mobile",
          "user_id": 12565
         },
         {
          "index": 90,
          "nps_group": "passive",
          "nps_rating": 7,
          "response_date": "2020-11-30",
          "source": "mobile",
          "user_id": 31662
         },
         {
          "index": 91,
          "nps_group": "detractor",
          "nps_rating": 3,
          "response_date": "2020-11-06",
          "source": "mobile",
          "user_id": 24790
         },
         {
          "index": 92,
          "nps_group": "promoter",
          "nps_rating": 10,
          "response_date": "2020-12-01",
          "source": "mobile",
          "user_id": 46495
         },
         {
          "index": 93,
          "nps_group": "detractor",
          "nps_rating": 1,
          "response_date": "2020-11-05",
          "source": "mobile",
          "user_id": 11581
         },
         {
          "index": 94,
          "nps_group": "detractor",
          "nps_rating": 6,
          "response_date": "2020-11-01",
          "source": "mobile",
          "user_id": 14275
         },
         {
          "index": 95,
          "nps_group": "detractor",
          "nps_rating": 6,
          "response_date": "2020-12-08",
          "source": "mobile",
          "user_id": 49885
         },
         {
          "index": 96,
          "nps_group": "passive",
          "nps_rating": 7,
          "response_date": "2020-12-11",
          "source": "mobile",
          "user_id": 18073
         },
         {
          "index": 97,
          "nps_group": "passive",
          "nps_rating": 8,
          "response_date": "2020-12-09",
          "source": "mobile",
          "user_id": 32877
         },
         {
          "index": 98,
          "nps_group": "detractor",
          "nps_rating": 4,
          "response_date": "2020-11-08",
          "source": "mobile",
          "user_id": 26848
         },
         {
          "index": 99,
          "nps_group": "promoter",
          "nps_rating": 9,
          "response_date": "2020-11-08",
          "source": "mobile",
          "user_id": 32496
         },
         {
          "index": 100,
          "nps_group": "passive",
          "nps_rating": 7,
          "response_date": "2020-12-26",
          "source": "mobile",
          "user_id": 20295
         },
         {
          "index": 101,
          "nps_group": "detractor",
          "nps_rating": 4,
          "response_date": "2020-11-09",
          "source": "mobile",
          "user_id": 44375
         },
         {
          "index": 102,
          "nps_group": "passive",
          "nps_rating": 7,
          "response_date": "2020-11-30",
          "source": "mobile",
          "user_id": 47554
         },
         {
          "index": 103,
          "nps_group": "passive",
          "nps_rating": 7,
          "response_date": "2020-11-14",
          "source": "mobile",
          "user_id": 32852
         },
         {
          "index": 104,
          "nps_group": "detractor",
          "nps_rating": 4,
          "response_date": "2020-10-29",
          "source": "mobile",
          "user_id": 25535
         },
         {
          "index": 105,
          "nps_group": "promoter",
          "nps_rating": 10,
          "response_date": "2020-12-11",
          "source": "mobile",
          "user_id": 31622
         },
         {
          "index": 106,
          "nps_group": "detractor",
          "nps_rating": 5,
          "response_date": "2020-10-22",
          "source": "mobile",
          "user_id": 24569
         },
         {
          "index": 107,
          "nps_group": "promoter",
          "nps_rating": 10,
          "response_date": "2020-10-18",
          "source": "mobile",
          "user_id": 31255
         },
         {
          "index": 108,
          "nps_group": "passive",
          "nps_rating": 7,
          "response_date": "2020-10-23",
          "source": "mobile",
          "user_id": 17673
         },
         {
          "index": 109,
          "nps_group": "promoter",
          "nps_rating": 9,
          "response_date": "2020-11-01",
          "source": "mobile",
          "user_id": 14008
         },
         {
          "index": 110,
          "nps_group": "passive",
          "nps_rating": 8,
          "response_date": "2020-12-13",
          "source": "mobile",
          "user_id": 15877
         },
         {
          "index": 111,
          "nps_group": "detractor",
          "nps_rating": 6,
          "response_date": "2020-11-04",
          "source": "mobile",
          "user_id": 46692
         },
         {
          "index": 112,
          "nps_group": "detractor",
          "nps_rating": 4,
          "response_date": "2020-11-30",
          "source": "mobile",
          "user_id": 16426
         },
         {
          "index": 113,
          "nps_group": "detractor",
          "nps_rating": 6,
          "response_date": "2020-12-30",
          "source": "mobile",
          "user_id": 32392
         },
         {
          "index": 114,
          "nps_group": "detractor",
          "nps_rating": 4,
          "response_date": "2020-11-29",
          "source": "mobile",
          "user_id": 14870
         },
         {
          "index": 115,
          "nps_group": "passive",
          "nps_rating": 7,
          "response_date": "2020-10-19",
          "source": "mobile",
          "user_id": 36083
         },
         {
          "index": 116,
          "nps_group": "detractor",
          "nps_rating": 4,
          "response_date": "2020-10-31",
          "source": "mobile",
          "user_id": 49405
         },
         {
          "index": 117,
          "nps_group": "detractor",
          "nps_rating": 5,
          "response_date": "2020-10-27",
          "source": "mobile",
          "user_id": 30747
         },
         {
          "index": 118,
          "nps_group": "promoter",
          "nps_rating": 9,
          "response_date": "2020-11-02",
          "source": "mobile",
          "user_id": 17474
         },
         {
          "index": 119,
          "nps_group": "promoter",
          "nps_rating": 10,
          "response_date": "2020-11-07",
          "source": "mobile",
          "user_id": 40359
         },
         {
          "index": 120,
          "nps_group": "detractor",
          "nps_rating": 6,
          "response_date": "2020-12-06",
          "source": "mobile",
          "user_id": 40246
         },
         {
          "index": 121,
          "nps_group": "passive",
          "nps_rating": 8,
          "response_date": "2020-12-04",
          "source": "mobile",
          "user_id": 39445
         },
         {
          "index": 122,
          "nps_group": "passive",
          "nps_rating": 7,
          "response_date": "2020-11-07",
          "source": "mobile",
          "user_id": 11034
         },
         {
          "index": 123,
          "nps_group": "detractor",
          "nps_rating": 2,
          "response_date": "2020-10-14",
          "source": "mobile",
          "user_id": 33997
         },
         {
          "index": 124,
          "nps_group": "detractor",
          "nps_rating": 5,
          "response_date": "2020-11-13",
          "source": "mobile",
          "user_id": 38920
         },
         {
          "index": 125,
          "nps_group": "detractor",
          "nps_rating": 5,
          "response_date": "2020-10-16",
          "source": "mobile",
          "user_id": 24233
         },
         {
          "index": 126,
          "nps_group": "passive",
          "nps_rating": 7,
          "response_date": "2020-10-01",
          "source": "mobile",
          "user_id": 46694
         },
         {
          "index": 127,
          "nps_group": "promoter",
          "nps_rating": 10,
          "response_date": "2020-10-04",
          "source": "mobile",
          "user_id": 17766
         },
         {
          "index": 128,
          "nps_group": "passive",
          "nps_rating": 7,
          "response_date": "2020-12-19",
          "source": "mobile",
          "user_id": 19489
         },
         {
          "index": 129,
          "nps_group": "passive",
          "nps_rating": 8,
          "response_date": "2020-12-14",
          "source": "mobile",
          "user_id": 23176
         },
         {
          "index": 130,
          "nps_group": "detractor",
          "nps_rating": 6,
          "response_date": "2020-11-06",
          "source": "mobile",
          "user_id": 22160
         },
         {
          "index": 131,
          "nps_group": "promoter",
          "nps_rating": 10,
          "response_date": "2020-11-28",
          "source": "mobile",
          "user_id": 18336
         },
         {
          "index": 132,
          "nps_group": "detractor",
          "nps_rating": 6,
          "response_date": "2020-11-04",
          "source": "mobile",
          "user_id": 32267
         },
         {
          "index": 133,
          "nps_group": "promoter",
          "nps_rating": 10,
          "response_date": "2020-12-01",
          "source": "mobile",
          "user_id": 18630
         },
         {
          "index": 134,
          "nps_group": "passive",
          "nps_rating": 7,
          "response_date": "2020-11-19",
          "source": "mobile",
          "user_id": 41984
         },
         {
          "index": 135,
          "nps_group": "detractor",
          "nps_rating": 6,
          "response_date": "2020-12-14",
          "source": "mobile",
          "user_id": 23248
         },
         {
          "index": 136,
          "nps_group": "promoter",
          "nps_rating": 9,
          "response_date": "2020-10-23",
          "source": "mobile",
          "user_id": 38575
         },
         {
          "index": 137,
          "nps_group": "passive",
          "nps_rating": 7,
          "response_date": "2020-10-12",
          "source": "mobile",
          "user_id": 26269
         },
         {
          "index": 138,
          "nps_group": "detractor",
          "nps_rating": 3,
          "response_date": "2020-12-15",
          "source": "mobile",
          "user_id": 36662
         },
         {
          "index": 139,
          "nps_group": "detractor",
          "nps_rating": 5,
          "response_date": "2020-11-19",
          "source": "mobile",
          "user_id": 19083
         },
         {
          "index": 140,
          "nps_group": "passive",
          "nps_rating": 7,
          "response_date": "2020-11-21",
          "source": "mobile",
          "user_id": 41401
         },
         {
          "index": 141,
          "nps_group": "passive",
          "nps_rating": 7,
          "response_date": "2020-10-24",
          "source": "mobile",
          "user_id": 33062
         },
         {
          "index": 142,
          "nps_group": "passive",
          "nps_rating": 8,
          "response_date": "2020-11-08",
          "source": "mobile",
          "user_id": 25817
         },
         {
          "index": 143,
          "nps_group": "detractor",
          "nps_rating": 5,
          "response_date": "2020-10-23",
          "source": "mobile",
          "user_id": 21416
         },
         {
          "index": 144,
          "nps_group": "passive",
          "nps_rating": 7,
          "response_date": "2020-12-31",
          "source": "mobile",
          "user_id": 28192
         },
         {
          "index": 145,
          "nps_group": "passive",
          "nps_rating": 8,
          "response_date": "2020-10-09",
          "source": "mobile",
          "user_id": 41277
         },
         {
          "index": 146,
          "nps_group": "passive",
          "nps_rating": 8,
          "response_date": "2020-10-27",
          "source": "mobile",
          "user_id": 27551
         },
         {
          "index": 147,
          "nps_group": "passive",
          "nps_rating": 7,
          "response_date": "2020-12-29",
          "source": "mobile",
          "user_id": 23955
         },
         {
          "index": 148,
          "nps_group": "passive",
          "nps_rating": 7,
          "response_date": "2020-12-09",
          "source": "mobile",
          "user_id": 24562
         },
         {
          "index": 149,
          "nps_group": "passive",
          "nps_rating": 7,
          "response_date": "2020-10-06",
          "source": "mobile",
          "user_id": 19320
         },
         {
          "index": 150,
          "nps_group": "detractor",
          "nps_rating": 5,
          "response_date": "2020-11-25",
          "source": "mobile",
          "user_id": 40223
         },
         {
          "index": 151,
          "nps_group": "passive",
          "nps_rating": 7,
          "response_date": "2020-12-02",
          "source": "mobile",
          "user_id": 18644
         },
         {
          "index": 152,
          "nps_group": "detractor",
          "nps_rating": 5,
          "response_date": "2020-10-23",
          "source": "mobile",
          "user_id": 44109
         },
         {
          "index": 153,
          "nps_group": "passive",
          "nps_rating": 7,
          "response_date": "2020-10-26",
          "source": "mobile",
          "user_id": 30156
         },
         {
          "index": 154,
          "nps_group": "passive",
          "nps_rating": 7,
          "response_date": "2020-11-04",
          "source": "mobile",
          "user_id": 31270
         },
         {
          "index": 155,
          "nps_group": "promoter",
          "nps_rating": 10,
          "response_date": "2020-12-14",
          "source": "mobile",
          "user_id": 17102
         },
         {
          "index": 156,
          "nps_group": "passive",
          "nps_rating": 7,
          "response_date": "2020-12-26",
          "source": "mobile",
          "user_id": 29881
         },
         {
          "index": 157,
          "nps_group": "promoter",
          "nps_rating": 10,
          "response_date": "2020-11-22",
          "source": "mobile",
          "user_id": 19905
         },
         {
          "index": 158,
          "nps_group": "promoter",
          "nps_rating": 10,
          "response_date": "2020-11-21",
          "source": "mobile",
          "user_id": 32846
         },
         {
          "index": 159,
          "nps_group": "passive",
          "nps_rating": 7,
          "response_date": "2020-11-22",
          "source": "mobile",
          "user_id": 30588
         },
         {
          "index": 160,
          "nps_group": "detractor",
          "nps_rating": 3,
          "response_date": "2020-10-20",
          "source": "mobile",
          "user_id": 39211
         },
         {
          "index": 161,
          "nps_group": "promoter",
          "nps_rating": 9,
          "response_date": "2020-11-10",
          "source": "mobile",
          "user_id": 42139
         },
         {
          "index": 162,
          "nps_group": "passive",
          "nps_rating": 7,
          "response_date": "2020-10-05",
          "source": "mobile",
          "user_id": 13303
         },
         {
          "index": 163,
          "nps_group": "detractor",
          "nps_rating": 5,
          "response_date": "2020-11-26",
          "source": "mobile",
          "user_id": 31372
         },
         {
          "index": 164,
          "nps_group": "detractor",
          "nps_rating": 6,
          "response_date": "2020-10-27",
          "source": "mobile",
          "user_id": 43034
         },
         {
          "index": 165,
          "nps_group": "promoter",
          "nps_rating": 10,
          "response_date": "2020-11-24",
          "source": "mobile",
          "user_id": 24628
         },
         {
          "index": 166,
          "nps_group": "detractor",
          "nps_rating": 3,
          "response_date": "2020-12-15",
          "source": "mobile",
          "user_id": 42495
         },
         {
          "index": 167,
          "nps_group": "promoter",
          "nps_rating": 10,
          "response_date": "2020-10-26",
          "source": "mobile",
          "user_id": 26841
         },
         {
          "index": 168,
          "nps_group": "promoter",
          "nps_rating": 10,
          "response_date": "2020-11-04",
          "source": "mobile",
          "user_id": 38099
         },
         {
          "index": 169,
          "nps_group": "promoter",
          "nps_rating": 9,
          "response_date": "2020-12-31",
          "source": "mobile",
          "user_id": 16379
         },
         {
          "index": 170,
          "nps_group": "promoter",
          "nps_rating": 10,
          "response_date": "2020-10-10",
          "source": "mobile",
          "user_id": 33492
         },
         {
          "index": 171,
          "nps_group": "detractor",
          "nps_rating": 2,
          "response_date": "2020-12-23",
          "source": "mobile",
          "user_id": 41476
         },
         {
          "index": 172,
          "nps_group": "promoter",
          "nps_rating": 9,
          "response_date": "2020-11-06",
          "source": "mobile",
          "user_id": 11013
         },
         {
          "index": 173,
          "nps_group": "passive",
          "nps_rating": 7,
          "response_date": "2020-11-29",
          "source": "mobile",
          "user_id": 33040
         },
         {
          "index": 174,
          "nps_group": "passive",
          "nps_rating": 7,
          "response_date": "2020-10-22",
          "source": "mobile",
          "user_id": 37077
         },
         {
          "index": 175,
          "nps_group": "promoter",
          "nps_rating": 10,
          "response_date": "2020-12-25",
          "source": "mobile",
          "user_id": 49027
         },
         {
          "index": 176,
          "nps_group": "passive",
          "nps_rating": 7,
          "response_date": "2020-12-20",
          "source": "mobile",
          "user_id": 39924
         },
         {
          "index": 177,
          "nps_group": "promoter",
          "nps_rating": 10,
          "response_date": "2020-12-04",
          "source": "mobile",
          "user_id": 37932
         },
         {
          "index": 178,
          "nps_group": "promoter",
          "nps_rating": 9,
          "response_date": "2020-10-26",
          "source": "mobile",
          "user_id": 23413
         },
         {
          "index": 179,
          "nps_group": "detractor",
          "nps_rating": 4,
          "response_date": "2020-10-31",
          "source": "mobile",
          "user_id": 27417
         },
         {
          "index": 180,
          "nps_group": "promoter",
          "nps_rating": 9,
          "response_date": "2020-11-06",
          "source": "mobile",
          "user_id": 41279
         },
         {
          "index": 181,
          "nps_group": "promoter",
          "nps_rating": 10,
          "response_date": "2020-11-22",
          "source": "mobile",
          "user_id": 16702
         },
         {
          "index": 182,
          "nps_group": "detractor",
          "nps_rating": 1,
          "response_date": "2020-10-09",
          "source": "mobile",
          "user_id": 34579
         },
         {
          "index": 183,
          "nps_group": "detractor",
          "nps_rating": 5,
          "response_date": "2020-10-07",
          "source": "mobile",
          "user_id": 16605
         },
         {
          "index": 184,
          "nps_group": "passive",
          "nps_rating": 8,
          "response_date": "2020-10-05",
          "source": "mobile",
          "user_id": 31993
         },
         {
          "index": 185,
          "nps_group": "detractor",
          "nps_rating": 6,
          "response_date": "2020-12-13",
          "source": "mobile",
          "user_id": 36473
         },
         {
          "index": 186,
          "nps_group": "passive",
          "nps_rating": 8,
          "response_date": "2020-10-27",
          "source": "mobile",
          "user_id": 22304
         },
         {
          "index": 187,
          "nps_group": "detractor",
          "nps_rating": 5,
          "response_date": "2020-12-20",
          "source": "mobile",
          "user_id": 35499
         },
         {
          "index": 188,
          "nps_group": "passive",
          "nps_rating": 8,
          "response_date": "2020-10-21",
          "source": "mobile",
          "user_id": 45349
         },
         {
          "index": 189,
          "nps_group": "detractor",
          "nps_rating": 6,
          "response_date": "2020-11-20",
          "source": "mobile",
          "user_id": 34872
         },
         {
          "index": 190,
          "nps_group": "detractor",
          "nps_rating": 6,
          "response_date": "2020-10-19",
          "source": "mobile",
          "user_id": 42506
         },
         {
          "index": 191,
          "nps_group": "passive",
          "nps_rating": 7,
          "response_date": "2020-12-12",
          "source": "mobile",
          "user_id": 43815
         },
         {
          "index": 192,
          "nps_group": "promoter",
          "nps_rating": 10,
          "response_date": "2020-12-04",
          "source": "mobile",
          "user_id": 30522
         },
         {
          "index": 193,
          "nps_group": "detractor",
          "nps_rating": 5,
          "response_date": "2020-10-25",
          "source": "mobile",
          "user_id": 48989
         },
         {
          "index": 194,
          "nps_group": "passive",
          "nps_rating": 8,
          "response_date": "2020-12-17",
          "source": "mobile",
          "user_id": 29571
         },
         {
          "index": 195,
          "nps_group": "detractor",
          "nps_rating": 5,
          "response_date": "2020-12-19",
          "source": "mobile",
          "user_id": 30817
         },
         {
          "index": 196,
          "nps_group": "passive",
          "nps_rating": 8,
          "response_date": "2020-10-31",
          "source": "mobile",
          "user_id": 25497
         },
         {
          "index": 197,
          "nps_group": "detractor",
          "nps_rating": 5,
          "response_date": "2020-11-01",
          "source": "mobile",
          "user_id": 15704
         },
         {
          "index": 198,
          "nps_group": "passive",
          "nps_rating": 7,
          "response_date": "2020-11-19",
          "source": "mobile",
          "user_id": 13774
         },
         {
          "index": 199,
          "nps_group": "detractor",
          "nps_rating": 3,
          "response_date": "2020-11-04",
          "source": "mobile",
          "user_id": 10184
         },
         {
          "index": 200,
          "nps_group": "passive",
          "nps_rating": 7,
          "response_date": "2020-10-30",
          "source": "mobile",
          "user_id": 45931
         },
         {
          "index": 201,
          "nps_group": "detractor",
          "nps_rating": 6,
          "response_date": "2020-10-12",
          "source": "mobile",
          "user_id": 25349
         },
         {
          "index": 202,
          "nps_group": "passive",
          "nps_rating": 7,
          "response_date": "2020-11-18",
          "source": "mobile",
          "user_id": 35893
         },
         {
          "index": 203,
          "nps_group": "detractor",
          "nps_rating": 3,
          "response_date": "2020-10-23",
          "source": "mobile",
          "user_id": 31761
         },
         {
          "index": 204,
          "nps_group": "detractor",
          "nps_rating": 3,
          "response_date": "2020-10-16",
          "source": "mobile",
          "user_id": 16249
         },
         {
          "index": 205,
          "nps_group": "passive",
          "nps_rating": 8,
          "response_date": "2020-11-04",
          "source": "mobile",
          "user_id": 26006
         },
         {
          "index": 206,
          "nps_group": "promoter",
          "nps_rating": 9,
          "response_date": "2020-11-18",
          "source": "mobile",
          "user_id": 12573
         },
         {
          "index": 207,
          "nps_group": "detractor",
          "nps_rating": 6,
          "response_date": "2020-10-01",
          "source": "mobile",
          "user_id": 32074
         },
         {
          "index": 208,
          "nps_group": "promoter",
          "nps_rating": 9,
          "response_date": "2020-10-11",
          "source": "mobile",
          "user_id": 30917
         },
         {
          "index": 209,
          "nps_group": "detractor",
          "nps_rating": 4,
          "response_date": "2020-10-07",
          "source": "mobile",
          "user_id": 34681
         },
         {
          "index": 210,
          "nps_group": "passive",
          "nps_rating": 8,
          "response_date": "2020-10-10",
          "source": "mobile",
          "user_id": 18590
         },
         {
          "index": 211,
          "nps_group": "detractor",
          "nps_rating": 5,
          "response_date": "2020-11-06",
          "source": "mobile",
          "user_id": 18188
         },
         {
          "index": 212,
          "nps_group": "detractor",
          "nps_rating": 2,
          "response_date": "2020-10-04",
          "source": "mobile",
          "user_id": 27778
         },
         {
          "index": 213,
          "nps_group": "detractor",
          "nps_rating": 2,
          "response_date": "2020-11-25",
          "source": "mobile",
          "user_id": 24864
         },
         {
          "index": 214,
          "nps_group": "promoter",
          "nps_rating": 9,
          "response_date": "2020-12-26",
          "source": "mobile",
          "user_id": 22059
         },
         {
          "index": 215,
          "nps_group": "detractor",
          "nps_rating": 5,
          "response_date": "2020-12-31",
          "source": "mobile",
          "user_id": 26590
         },
         {
          "index": 216,
          "nps_group": "passive",
          "nps_rating": 7,
          "response_date": "2020-12-24",
          "source": "mobile",
          "user_id": 26813
         },
         {
          "index": 217,
          "nps_group": "detractor",
          "nps_rating": 5,
          "response_date": "2020-11-15",
          "source": "mobile",
          "user_id": 43061
         },
         {
          "index": 218,
          "nps_group": "detractor",
          "nps_rating": 4,
          "response_date": "2020-11-27",
          "source": "mobile",
          "user_id": 26626
         },
         {
          "index": 219,
          "nps_group": "detractor",
          "nps_rating": 5,
          "response_date": "2020-11-07",
          "source": "mobile",
          "user_id": 24103
         },
         {
          "index": 220,
          "nps_group": "detractor",
          "nps_rating": 6,
          "response_date": "2020-10-16",
          "source": "mobile",
          "user_id": 18088
         },
         {
          "index": 221,
          "nps_group": "promoter",
          "nps_rating": 9,
          "response_date": "2020-11-04",
          "source": "mobile",
          "user_id": 49239
         },
         {
          "index": 222,
          "nps_group": "passive",
          "nps_rating": 8,
          "response_date": "2020-11-11",
          "source": "mobile",
          "user_id": 33186
         },
         {
          "index": 223,
          "nps_group": "detractor",
          "nps_rating": 3,
          "response_date": "2020-11-17",
          "source": "mobile",
          "user_id": 26105
         },
         {
          "index": 224,
          "nps_group": "promoter",
          "nps_rating": 10,
          "response_date": "2020-10-09",
          "source": "mobile",
          "user_id": 43176
         },
         {
          "index": 225,
          "nps_group": "promoter",
          "nps_rating": 9,
          "response_date": "2020-10-06",
          "source": "mobile",
          "user_id": 18625
         },
         {
          "index": 226,
          "nps_group": "detractor",
          "nps_rating": 5,
          "response_date": "2020-11-23",
          "source": "mobile",
          "user_id": 31697
         },
         {
          "index": 227,
          "nps_group": "passive",
          "nps_rating": 8,
          "response_date": "2020-10-02",
          "source": "mobile",
          "user_id": 25739
         },
         {
          "index": 228,
          "nps_group": "promoter",
          "nps_rating": 10,
          "response_date": "2020-10-29",
          "source": "mobile",
          "user_id": 15898
         },
         {
          "index": 229,
          "nps_group": "detractor",
          "nps_rating": 1,
          "response_date": "2020-12-02",
          "source": "mobile",
          "user_id": 45170
         },
         {
          "index": 230,
          "nps_group": "detractor",
          "nps_rating": 2,
          "response_date": "2020-10-08",
          "source": "mobile",
          "user_id": 12012
         },
         {
          "index": 231,
          "nps_group": "detractor",
          "nps_rating": 6,
          "response_date": "2020-11-21",
          "source": "mobile",
          "user_id": 24565
         },
         {
          "index": 232,
          "nps_group": "detractor",
          "nps_rating": 5,
          "response_date": "2020-11-17",
          "source": "mobile",
          "user_id": 24685
         },
         {
          "index": 233,
          "nps_group": "passive",
          "nps_rating": 8,
          "response_date": "2020-12-29",
          "source": "mobile",
          "user_id": 39541
         },
         {
          "index": 234,
          "nps_group": "detractor",
          "nps_rating": 3,
          "response_date": "2020-10-02",
          "source": "mobile",
          "user_id": 22263
         },
         {
          "index": 235,
          "nps_group": "detractor",
          "nps_rating": 3,
          "response_date": "2020-10-04",
          "source": "mobile",
          "user_id": 41997
         },
         {
          "index": 236,
          "nps_group": "passive",
          "nps_rating": 7,
          "response_date": "2020-12-29",
          "source": "mobile",
          "user_id": 28940
         },
         {
          "index": 237,
          "nps_group": "detractor",
          "nps_rating": 4,
          "response_date": "2020-11-28",
          "source": "mobile",
          "user_id": 21101
         },
         {
          "index": 238,
          "nps_group": "detractor",
          "nps_rating": 3,
          "response_date": "2020-10-06",
          "source": "mobile",
          "user_id": 49634
         },
         {
          "index": 239,
          "nps_group": "detractor",
          "nps_rating": 5,
          "response_date": "2020-10-18",
          "source": "mobile",
          "user_id": 47728
         },
         {
          "index": 240,
          "nps_group": "passive",
          "nps_rating": 7,
          "response_date": "2020-10-09",
          "source": "mobile",
          "user_id": 46878
         },
         {
          "index": 241,
          "nps_group": "passive",
          "nps_rating": 8,
          "response_date": "2020-12-25",
          "source": "mobile",
          "user_id": 14901
         },
         {
          "index": 242,
          "nps_group": "passive",
          "nps_rating": 7,
          "response_date": "2020-12-17",
          "source": "mobile",
          "user_id": 20211
         },
         {
          "index": 243,
          "nps_group": "promoter",
          "nps_rating": 10,
          "response_date": "2020-11-18",
          "source": "mobile",
          "user_id": 17458
         },
         {
          "index": 244,
          "nps_group": "promoter",
          "nps_rating": 9,
          "response_date": "2020-10-04",
          "source": "mobile",
          "user_id": 49989
         },
         {
          "index": 245,
          "nps_group": "promoter",
          "nps_rating": 9,
          "response_date": "2020-10-06",
          "source": "mobile",
          "user_id": 44825
         },
         {
          "index": 246,
          "nps_group": "promoter",
          "nps_rating": 9,
          "response_date": "2020-11-13",
          "source": "mobile",
          "user_id": 13040
         },
         {
          "index": 247,
          "nps_group": "detractor",
          "nps_rating": 4,
          "response_date": "2020-11-04",
          "source": "mobile",
          "user_id": 46561
         },
         {
          "index": 248,
          "nps_group": "passive",
          "nps_rating": 8,
          "response_date": "2020-11-12",
          "source": "mobile",
          "user_id": 30658
         },
         {
          "index": 249,
          "nps_group": "passive",
          "nps_rating": 8,
          "response_date": "2020-10-17",
          "source": "mobile",
          "user_id": 13715
         },
         {
          "index": 250,
          "nps_group": "detractor",
          "nps_rating": 1,
          "response_date": "2020-12-17",
          "source": "mobile",
          "user_id": 42544
         },
         {
          "index": 251,
          "nps_group": "detractor",
          "nps_rating": 1,
          "response_date": "2020-10-13",
          "source": "mobile",
          "user_id": 46715
         },
         {
          "index": 252,
          "nps_group": "passive",
          "nps_rating": 8,
          "response_date": "2020-10-28",
          "source": "mobile",
          "user_id": 47814
         },
         {
          "index": 253,
          "nps_group": "passive",
          "nps_rating": 8,
          "response_date": "2020-11-29",
          "source": "mobile",
          "user_id": 41416
         },
         {
          "index": 254,
          "nps_group": "promoter",
          "nps_rating": 9,
          "response_date": "2020-11-03",
          "source": "mobile",
          "user_id": 42271
         },
         {
          "index": 255,
          "nps_group": "detractor",
          "nps_rating": 6,
          "response_date": "2020-11-07",
          "source": "mobile",
          "user_id": 15974
         },
         {
          "index": 256,
          "nps_group": "passive",
          "nps_rating": 7,
          "response_date": "2020-11-30",
          "source": "mobile",
          "user_id": 25540
         },
         {
          "index": 257,
          "nps_group": "detractor",
          "nps_rating": 6,
          "response_date": "2020-10-24",
          "source": "mobile",
          "user_id": 16362
         },
         {
          "index": 258,
          "nps_group": "passive",
          "nps_rating": 7,
          "response_date": "2020-10-31",
          "source": "mobile",
          "user_id": 21511
         },
         {
          "index": 259,
          "nps_group": "detractor",
          "nps_rating": 5,
          "response_date": "2020-12-31",
          "source": "mobile",
          "user_id": 24848
         },
         {
          "index": 260,
          "nps_group": "promoter",
          "nps_rating": 9,
          "response_date": "2020-12-07",
          "source": "mobile",
          "user_id": 31322
         },
         {
          "index": 261,
          "nps_group": "detractor",
          "nps_rating": 1,
          "response_date": "2020-11-03",
          "source": "mobile",
          "user_id": 32096
         },
         {
          "index": 262,
          "nps_group": "passive",
          "nps_rating": 8,
          "response_date": "2020-11-14",
          "source": "mobile",
          "user_id": 35024
         },
         {
          "index": 263,
          "nps_group": "detractor",
          "nps_rating": 5,
          "response_date": "2020-12-18",
          "source": "mobile",
          "user_id": 30223
         },
         {
          "index": 264,
          "nps_group": "passive",
          "nps_rating": 8,
          "response_date": "2020-10-03",
          "source": "mobile",
          "user_id": 24811
         },
         {
          "index": 265,
          "nps_group": "detractor",
          "nps_rating": 6,
          "response_date": "2020-12-16",
          "source": "mobile",
          "user_id": 30667
         },
         {
          "index": 266,
          "nps_group": "detractor",
          "nps_rating": 5,
          "response_date": "2020-12-13",
          "source": "mobile",
          "user_id": 46679
         },
         {
          "index": 267,
          "nps_group": "passive",
          "nps_rating": 8,
          "response_date": "2020-12-07",
          "source": "mobile",
          "user_id": 42104
         },
         {
          "index": 268,
          "nps_group": "detractor",
          "nps_rating": 2,
          "response_date": "2020-12-19",
          "source": "mobile",
          "user_id": 40555
         },
         {
          "index": 269,
          "nps_group": "passive",
          "nps_rating": 7,
          "response_date": "2020-10-05",
          "source": "mobile",
          "user_id": 33450
         },
         {
          "index": 270,
          "nps_group": "detractor",
          "nps_rating": 5,
          "response_date": "2020-10-30",
          "source": "mobile",
          "user_id": 38979
         },
         {
          "index": 271,
          "nps_group": "promoter",
          "nps_rating": 9,
          "response_date": "2020-12-20",
          "source": "mobile",
          "user_id": 33295
         },
         {
          "index": 272,
          "nps_group": "passive",
          "nps_rating": 8,
          "response_date": "2020-11-13",
          "source": "mobile",
          "user_id": 20399
         },
         {
          "index": 273,
          "nps_group": "promoter",
          "nps_rating": 9,
          "response_date": "2020-10-16",
          "source": "mobile",
          "user_id": 11903
         },
         {
          "index": 274,
          "nps_group": "passive",
          "nps_rating": 8,
          "response_date": "2020-11-24",
          "source": "mobile",
          "user_id": 16899
         },
         {
          "index": 275,
          "nps_group": "passive",
          "nps_rating": 8,
          "response_date": "2020-10-21",
          "source": "mobile",
          "user_id": 49702
         },
         {
          "index": 276,
          "nps_group": "promoter",
          "nps_rating": 9,
          "response_date": "2020-11-05",
          "source": "mobile",
          "user_id": 15229
         },
         {
          "index": 277,
          "nps_group": "promoter",
          "nps_rating": 9,
          "response_date": "2020-11-01",
          "source": "mobile",
          "user_id": 39160
         },
         {
          "index": 278,
          "nps_group": "passive",
          "nps_rating": 7,
          "response_date": "2020-12-17",
          "source": "mobile",
          "user_id": 45250
         },
         {
          "index": 279,
          "nps_group": "promoter",
          "nps_rating": 10,
          "response_date": "2020-12-14",
          "source": "mobile",
          "user_id": 39556
         },
         {
          "index": 280,
          "nps_group": "promoter",
          "nps_rating": 10,
          "response_date": "2020-10-24",
          "source": "mobile",
          "user_id": 33578
         },
         {
          "index": 281,
          "nps_group": "promoter",
          "nps_rating": 9,
          "response_date": "2020-12-10",
          "source": "mobile",
          "user_id": 13451
         },
         {
          "index": 282,
          "nps_group": "detractor",
          "nps_rating": 5,
          "response_date": "2020-12-27",
          "source": "mobile",
          "user_id": 36728
         },
         {
          "index": 283,
          "nps_group": "detractor",
          "nps_rating": 6,
          "response_date": "2020-10-18",
          "source": "mobile",
          "user_id": 18807
         },
         {
          "index": 284,
          "nps_group": "passive",
          "nps_rating": 7,
          "response_date": "2020-10-02",
          "source": "mobile",
          "user_id": 46201
         },
         {
          "index": 285,
          "nps_group": "passive",
          "nps_rating": 7,
          "response_date": "2020-11-15",
          "source": "mobile",
          "user_id": 20279
         },
         {
          "index": 286,
          "nps_group": "promoter",
          "nps_rating": 9,
          "response_date": "2020-12-07",
          "source": "mobile",
          "user_id": 47869
         },
         {
          "index": 287,
          "nps_group": "promoter",
          "nps_rating": 9,
          "response_date": "2020-12-31",
          "source": "mobile",
          "user_id": 12099
         },
         {
          "index": 288,
          "nps_group": "passive",
          "nps_rating": 7,
          "response_date": "2020-11-19",
          "source": "mobile",
          "user_id": 41481
         },
         {
          "index": 289,
          "nps_group": "passive",
          "nps_rating": 7,
          "response_date": "2020-10-09",
          "source": "mobile",
          "user_id": 39788
         },
         {
          "index": 290,
          "nps_group": "promoter",
          "nps_rating": 10,
          "response_date": "2020-12-03",
          "source": "mobile",
          "user_id": 45698
         },
         {
          "index": 291,
          "nps_group": "detractor",
          "nps_rating": 5,
          "response_date": "2020-11-10",
          "source": "mobile",
          "user_id": 25538
         },
         {
          "index": 292,
          "nps_group": "promoter",
          "nps_rating": 9,
          "response_date": "2020-12-08",
          "source": "mobile",
          "user_id": 10465
         },
         {
          "index": 293,
          "nps_group": "detractor",
          "nps_rating": 4,
          "response_date": "2020-12-08",
          "source": "mobile",
          "user_id": 21831
         },
         {
          "index": 294,
          "nps_group": "detractor",
          "nps_rating": 3,
          "response_date": "2020-12-27",
          "source": "mobile",
          "user_id": 15274
         },
         {
          "index": 295,
          "nps_group": "detractor",
          "nps_rating": 1,
          "response_date": "2020-10-08",
          "source": "mobile",
          "user_id": 45654
         },
         {
          "index": 296,
          "nps_group": "promoter",
          "nps_rating": 9,
          "response_date": "2020-11-21",
          "source": "mobile",
          "user_id": 25030
         },
         {
          "index": 297,
          "nps_group": "passive",
          "nps_rating": 7,
          "response_date": "2020-10-13",
          "source": "mobile",
          "user_id": 43264
         },
         {
          "index": 298,
          "nps_group": "promoter",
          "nps_rating": 9,
          "response_date": "2020-10-29",
          "source": "mobile",
          "user_id": 20793
         },
         {
          "index": 299,
          "nps_group": "detractor",
          "nps_rating": 5,
          "response_date": "2020-12-27",
          "source": "mobile",
          "user_id": 10972
         },
         {
          "index": 300,
          "nps_group": "passive",
          "nps_rating": 7,
          "response_date": "2020-10-11",
          "source": "mobile",
          "user_id": 48549
         },
         {
          "index": 301,
          "nps_group": "promoter",
          "nps_rating": 10,
          "response_date": "2020-10-08",
          "source": "mobile",
          "user_id": 12049
         },
         {
          "index": 302,
          "nps_group": "detractor",
          "nps_rating": 3,
          "response_date": "2020-11-30",
          "source": "mobile",
          "user_id": 20274
         },
         {
          "index": 303,
          "nps_group": "passive",
          "nps_rating": 8,
          "response_date": "2020-12-11",
          "source": "mobile",
          "user_id": 24608
         },
         {
          "index": 304,
          "nps_group": "passive",
          "nps_rating": 8,
          "response_date": "2020-12-02",
          "source": "mobile",
          "user_id": 22571
         },
         {
          "index": 305,
          "nps_group": "passive",
          "nps_rating": 7,
          "response_date": "2020-10-22",
          "source": "mobile",
          "user_id": 10667
         },
         {
          "index": 306,
          "nps_group": "passive",
          "nps_rating": 8,
          "response_date": "2020-11-27",
          "source": "mobile",
          "user_id": 28836
         },
         {
          "index": 307,
          "nps_group": "passive",
          "nps_rating": 7,
          "response_date": "2020-11-26",
          "source": "mobile",
          "user_id": 44480
         },
         {
          "index": 308,
          "nps_group": "detractor",
          "nps_rating": 2,
          "response_date": "2020-11-24",
          "source": "mobile",
          "user_id": 27632
         },
         {
          "index": 309,
          "nps_group": "promoter",
          "nps_rating": 9,
          "response_date": "2020-11-11",
          "source": "mobile",
          "user_id": 37379
         },
         {
          "index": 310,
          "nps_group": "passive",
          "nps_rating": 7,
          "response_date": "2020-10-17",
          "source": "mobile",
          "user_id": 17128
         },
         {
          "index": 311,
          "nps_group": "passive",
          "nps_rating": 7,
          "response_date": "2020-10-09",
          "source": "mobile",
          "user_id": 23705
         },
         {
          "index": 312,
          "nps_group": "passive",
          "nps_rating": 7,
          "response_date": "2020-12-31",
          "source": "mobile",
          "user_id": 25752
         },
         {
          "index": 313,
          "nps_group": "detractor",
          "nps_rating": 3,
          "response_date": "2020-12-02",
          "source": "mobile",
          "user_id": 12075
         },
         {
          "index": 314,
          "nps_group": "detractor",
          "nps_rating": 1,
          "response_date": "2020-10-12",
          "source": "mobile",
          "user_id": 24756
         },
         {
          "index": 315,
          "nps_group": "promoter",
          "nps_rating": 10,
          "response_date": "2020-12-01",
          "source": "mobile",
          "user_id": 10683
         },
         {
          "index": 316,
          "nps_group": "detractor",
          "nps_rating": 5,
          "response_date": "2020-10-25",
          "source": "mobile",
          "user_id": 22932
         },
         {
          "index": 317,
          "nps_group": "passive",
          "nps_rating": 7,
          "response_date": "2020-10-03",
          "source": "mobile",
          "user_id": 28452
         },
         {
          "index": 318,
          "nps_group": "passive",
          "nps_rating": 8,
          "response_date": "2020-12-09",
          "source": "mobile",
          "user_id": 48785
         },
         {
          "index": 319,
          "nps_group": "detractor",
          "nps_rating": 4,
          "response_date": "2020-12-07",
          "source": "mobile",
          "user_id": 49760
         },
         {
          "index": 320,
          "nps_group": "passive",
          "nps_rating": 7,
          "response_date": "2020-10-14",
          "source": "mobile",
          "user_id": 21723
         },
         {
          "index": 321,
          "nps_group": "passive",
          "nps_rating": 8,
          "response_date": "2020-11-20",
          "source": "mobile",
          "user_id": 40536
         },
         {
          "index": 322,
          "nps_group": "passive",
          "nps_rating": 7,
          "response_date": "2020-12-19",
          "source": "mobile",
          "user_id": 43595
         },
         {
          "index": 323,
          "nps_group": "passive",
          "nps_rating": 7,
          "response_date": "2020-11-23",
          "source": "mobile",
          "user_id": 22329
         },
         {
          "index": 324,
          "nps_group": "passive",
          "nps_rating": 8,
          "response_date": "2020-10-29",
          "source": "mobile",
          "user_id": 42320
         },
         {
          "index": 325,
          "nps_group": "promoter",
          "nps_rating": 9,
          "response_date": "2020-10-14",
          "source": "mobile",
          "user_id": 21075
         },
         {
          "index": 326,
          "nps_group": "passive",
          "nps_rating": 8,
          "response_date": "2020-11-18",
          "source": "mobile",
          "user_id": 45914
         },
         {
          "index": 327,
          "nps_group": "promoter",
          "nps_rating": 10,
          "response_date": "2020-10-17",
          "source": "mobile",
          "user_id": 43421
         },
         {
          "index": 328,
          "nps_group": "promoter",
          "nps_rating": 9,
          "response_date": "2020-12-16",
          "source": "mobile",
          "user_id": 16351
         },
         {
          "index": 329,
          "nps_group": "passive",
          "nps_rating": 8,
          "response_date": "2020-12-31",
          "source": "mobile",
          "user_id": 35727
         },
         {
          "index": 330,
          "nps_group": "detractor",
          "nps_rating": 3,
          "response_date": "2020-11-03",
          "source": "mobile",
          "user_id": 34922
         },
         {
          "index": 331,
          "nps_group": "detractor",
          "nps_rating": 6,
          "response_date": "2020-11-14",
          "source": "mobile",
          "user_id": 28046
         },
         {
          "index": 332,
          "nps_group": "detractor",
          "nps_rating": 6,
          "response_date": "2020-11-02",
          "source": "mobile",
          "user_id": 21106
         },
         {
          "index": 333,
          "nps_group": "detractor",
          "nps_rating": 4,
          "response_date": "2020-11-20",
          "source": "mobile",
          "user_id": 45713
         },
         {
          "index": 334,
          "nps_group": "passive",
          "nps_rating": 7,
          "response_date": "2020-12-07",
          "source": "mobile",
          "user_id": 15259
         },
         {
          "index": 335,
          "nps_group": "passive",
          "nps_rating": 7,
          "response_date": "2020-12-24",
          "source": "mobile",
          "user_id": 21090
         },
         {
          "index": 336,
          "nps_group": "detractor",
          "nps_rating": 4,
          "response_date": "2020-10-02",
          "source": "mobile",
          "user_id": 20174
         },
         {
          "index": 337,
          "nps_group": "passive",
          "nps_rating": 7,
          "response_date": "2020-10-31",
          "source": "mobile",
          "user_id": 22058
         },
         {
          "index": 338,
          "nps_group": "passive",
          "nps_rating": 7,
          "response_date": "2020-10-15",
          "source": "mobile",
          "user_id": 42648
         },
         {
          "index": 339,
          "nps_group": "detractor",
          "nps_rating": 5,
          "response_date": "2020-12-05",
          "source": "mobile",
          "user_id": 22196
         },
         {
          "index": 340,
          "nps_group": "passive",
          "nps_rating": 7,
          "response_date": "2020-12-14",
          "source": "mobile",
          "user_id": 20287
         },
         {
          "index": 341,
          "nps_group": "detractor",
          "nps_rating": 1,
          "response_date": "2020-11-01",
          "source": "mobile",
          "user_id": 13200
         },
         {
          "index": 342,
          "nps_group": "passive",
          "nps_rating": 7,
          "response_date": "2020-11-09",
          "source": "mobile",
          "user_id": 39651
         },
         {
          "index": 343,
          "nps_group": "promoter",
          "nps_rating": 9,
          "response_date": "2020-11-16",
          "source": "mobile",
          "user_id": 17416
         },
         {
          "index": 344,
          "nps_group": "passive",
          "nps_rating": 7,
          "response_date": "2020-10-29",
          "source": "mobile",
          "user_id": 49593
         },
         {
          "index": 345,
          "nps_group": "promoter",
          "nps_rating": 10,
          "response_date": "2020-11-06",
          "source": "mobile",
          "user_id": 23617
         },
         {
          "index": 346,
          "nps_group": "passive",
          "nps_rating": 7,
          "response_date": "2020-10-06",
          "source": "mobile",
          "user_id": 24038
         },
         {
          "index": 347,
          "nps_group": "passive",
          "nps_rating": 7,
          "response_date": "2020-11-28",
          "source": "mobile",
          "user_id": 10111
         },
         {
          "index": 348,
          "nps_group": "passive",
          "nps_rating": 7,
          "response_date": "2020-12-08",
          "source": "mobile",
          "user_id": 14743
         },
         {
          "index": 349,
          "nps_group": "passive",
          "nps_rating": 7,
          "response_date": "2020-12-20",
          "source": "mobile",
          "user_id": 21925
         },
         {
          "index": 350,
          "nps_group": "passive",
          "nps_rating": 8,
          "response_date": "2020-11-21",
          "source": "mobile",
          "user_id": 43332
         },
         {
          "index": 351,
          "nps_group": "detractor",
          "nps_rating": 5,
          "response_date": "2020-12-07",
          "source": "mobile",
          "user_id": 47355
         },
         {
          "index": 352,
          "nps_group": "promoter",
          "nps_rating": 10,
          "response_date": "2020-11-13",
          "source": "mobile",
          "user_id": 23078
         },
         {
          "index": 353,
          "nps_group": "passive",
          "nps_rating": 7,
          "response_date": "2020-11-29",
          "source": "mobile",
          "user_id": 46893
         },
         {
          "index": 354,
          "nps_group": "passive",
          "nps_rating": 8,
          "response_date": "2020-12-07",
          "source": "mobile",
          "user_id": 11812
         },
         {
          "index": 355,
          "nps_group": "passive",
          "nps_rating": 8,
          "response_date": "2020-10-28",
          "source": "mobile",
          "user_id": 36556
         },
         {
          "index": 356,
          "nps_group": "promoter",
          "nps_rating": 10,
          "response_date": "2020-12-12",
          "source": "mobile",
          "user_id": 39598
         },
         {
          "index": 357,
          "nps_group": "detractor",
          "nps_rating": 1,
          "response_date": "2020-11-21",
          "source": "mobile",
          "user_id": 19302
         },
         {
          "index": 358,
          "nps_group": "detractor",
          "nps_rating": 4,
          "response_date": "2020-12-31",
          "source": "mobile",
          "user_id": 21372
         },
         {
          "index": 359,
          "nps_group": "detractor",
          "nps_rating": 6,
          "response_date": "2020-10-03",
          "source": "mobile",
          "user_id": 10010
         },
         {
          "index": 360,
          "nps_group": "passive",
          "nps_rating": 7,
          "response_date": "2020-11-08",
          "source": "mobile",
          "user_id": 15319
         },
         {
          "index": 361,
          "nps_group": "passive",
          "nps_rating": 8,
          "response_date": "2020-10-03",
          "source": "mobile",
          "user_id": 35397
         },
         {
          "index": 362,
          "nps_group": "passive",
          "nps_rating": 7,
          "response_date": "2020-11-30",
          "source": "mobile",
          "user_id": 44184
         },
         {
          "index": 363,
          "nps_group": "passive",
          "nps_rating": 7,
          "response_date": "2020-11-26",
          "source": "mobile",
          "user_id": 28849
         },
         {
          "index": 364,
          "nps_group": "promoter",
          "nps_rating": 9,
          "response_date": "2020-11-21",
          "source": "mobile",
          "user_id": 39094
         },
         {
          "index": 365,
          "nps_group": "promoter",
          "nps_rating": 9,
          "response_date": "2020-12-08",
          "source": "mobile",
          "user_id": 18295
         },
         {
          "index": 366,
          "nps_group": "promoter",
          "nps_rating": 10,
          "response_date": "2020-12-16",
          "source": "mobile",
          "user_id": 11030
         },
         {
          "index": 367,
          "nps_group": "detractor",
          "nps_rating": 6,
          "response_date": "2020-11-01",
          "source": "mobile",
          "user_id": 10473
         },
         {
          "index": 368,
          "nps_group": "detractor",
          "nps_rating": 1,
          "response_date": "2020-12-26",
          "source": "mobile",
          "user_id": 19084
         },
         {
          "index": 369,
          "nps_group": "passive",
          "nps_rating": 8,
          "response_date": "2020-11-03",
          "source": "mobile",
          "user_id": 38200
         },
         {
          "index": 370,
          "nps_group": "passive",
          "nps_rating": 8,
          "response_date": "2020-11-29",
          "source": "mobile",
          "user_id": 17106
         },
         {
          "index": 371,
          "nps_group": "detractor",
          "nps_rating": 5,
          "response_date": "2020-11-08",
          "source": "mobile",
          "user_id": 10245
         },
         {
          "index": 372,
          "nps_group": "promoter",
          "nps_rating": 9,
          "response_date": "2020-10-16",
          "source": "mobile",
          "user_id": 30150
         },
         {
          "index": 373,
          "nps_group": "detractor",
          "nps_rating": 5,
          "response_date": "2020-11-21",
          "source": "mobile",
          "user_id": 28132
         },
         {
          "index": 374,
          "nps_group": "detractor",
          "nps_rating": 5,
          "response_date": "2020-10-05",
          "source": "mobile",
          "user_id": 32659
         },
         {
          "index": 375,
          "nps_group": "passive",
          "nps_rating": 7,
          "response_date": "2020-12-05",
          "source": "mobile",
          "user_id": 15591
         },
         {
          "index": 376,
          "nps_group": "promoter",
          "nps_rating": 10,
          "response_date": "2020-11-24",
          "source": "mobile",
          "user_id": 37199
         },
         {
          "index": 377,
          "nps_group": "passive",
          "nps_rating": 8,
          "response_date": "2020-11-19",
          "source": "mobile",
          "user_id": 37742
         },
         {
          "index": 378,
          "nps_group": "detractor",
          "nps_rating": 1,
          "response_date": "2020-12-08",
          "source": "mobile",
          "user_id": 43782
         },
         {
          "index": 379,
          "nps_group": "promoter",
          "nps_rating": 10,
          "response_date": "2020-10-10",
          "source": "mobile",
          "user_id": 36205
         },
         {
          "index": 380,
          "nps_group": "detractor",
          "nps_rating": 6,
          "response_date": "2020-12-03",
          "source": "mobile",
          "user_id": 45695
         },
         {
          "index": 381,
          "nps_group": "promoter",
          "nps_rating": 9,
          "response_date": "2020-10-22",
          "source": "mobile",
          "user_id": 11800
         },
         {
          "index": 382,
          "nps_group": "passive",
          "nps_rating": 8,
          "response_date": "2020-12-22",
          "source": "mobile",
          "user_id": 11899
         },
         {
          "index": 383,
          "nps_group": "detractor",
          "nps_rating": 5,
          "response_date": "2020-12-31",
          "source": "mobile",
          "user_id": 12415
         },
         {
          "index": 384,
          "nps_group": "passive",
          "nps_rating": 7,
          "response_date": "2020-12-11",
          "source": "mobile",
          "user_id": 29667
         },
         {
          "index": 385,
          "nps_group": "passive",
          "nps_rating": 8,
          "response_date": "2020-10-14",
          "source": "mobile",
          "user_id": 44428
         },
         {
          "index": 386,
          "nps_group": "passive",
          "nps_rating": 7,
          "response_date": "2020-10-04",
          "source": "mobile",
          "user_id": 27297
         },
         {
          "index": 387,
          "nps_group": "detractor",
          "nps_rating": 4,
          "response_date": "2020-11-08",
          "source": "mobile",
          "user_id": 24784
         },
         {
          "index": 388,
          "nps_group": "passive",
          "nps_rating": 7,
          "response_date": "2020-12-31",
          "source": "mobile",
          "user_id": 48658
         },
         {
          "index": 389,
          "nps_group": "detractor",
          "nps_rating": 6,
          "response_date": "2020-10-22",
          "source": "mobile",
          "user_id": 14770
         },
         {
          "index": 390,
          "nps_group": "passive",
          "nps_rating": 8,
          "response_date": "2020-10-18",
          "source": "mobile",
          "user_id": 46577
         },
         {
          "index": 391,
          "nps_group": "passive",
          "nps_rating": 7,
          "response_date": "2020-10-02",
          "source": "mobile",
          "user_id": 39630
         },
         {
          "index": 392,
          "nps_group": "promoter",
          "nps_rating": 9,
          "response_date": "2020-11-04",
          "source": "mobile",
          "user_id": 17333
         },
         {
          "index": 393,
          "nps_group": "detractor",
          "nps_rating": 6,
          "response_date": "2020-10-06",
          "source": "mobile",
          "user_id": 15713
         },
         {
          "index": 394,
          "nps_group": "passive",
          "nps_rating": 7,
          "response_date": "2020-10-14",
          "source": "mobile",
          "user_id": 48076
         },
         {
          "index": 395,
          "nps_group": "passive",
          "nps_rating": 7,
          "response_date": "2020-10-11",
          "source": "mobile",
          "user_id": 23424
         },
         {
          "index": 396,
          "nps_group": "passive",
          "nps_rating": 7,
          "response_date": "2020-10-23",
          "source": "mobile",
          "user_id": 45254
         },
         {
          "index": 397,
          "nps_group": "promoter",
          "nps_rating": 10,
          "response_date": "2020-12-17",
          "source": "mobile",
          "user_id": 38880
         },
         {
          "index": 398,
          "nps_group": "passive",
          "nps_rating": 7,
          "response_date": "2020-12-10",
          "source": "mobile",
          "user_id": 19690
         },
         {
          "index": 399,
          "nps_group": "passive",
          "nps_rating": 8,
          "response_date": "2020-12-05",
          "source": "mobile",
          "user_id": 35676
         },
         {
          "index": 400,
          "nps_group": "passive",
          "nps_rating": 7,
          "response_date": "2020-12-29",
          "source": "mobile",
          "user_id": 25053
         },
         {
          "index": 401,
          "nps_group": "promoter",
          "nps_rating": 9,
          "response_date": "2020-10-25",
          "source": "mobile",
          "user_id": 33358
         },
         {
          "index": 402,
          "nps_group": "passive",
          "nps_rating": 8,
          "response_date": "2020-11-20",
          "source": "mobile",
          "user_id": 22764
         },
         {
          "index": 403,
          "nps_group": "passive",
          "nps_rating": 7,
          "response_date": "2020-10-23",
          "source": "mobile",
          "user_id": 44163
         },
         {
          "index": 404,
          "nps_group": "promoter",
          "nps_rating": 9,
          "response_date": "2020-12-28",
          "source": "mobile",
          "user_id": 20616
         },
         {
          "index": 405,
          "nps_group": "promoter",
          "nps_rating": 10,
          "response_date": "2020-12-26",
          "source": "mobile",
          "user_id": 33555
         },
         {
          "index": 406,
          "nps_group": "passive",
          "nps_rating": 8,
          "response_date": "2020-10-01",
          "source": "mobile",
          "user_id": 27928
         },
         {
          "index": 407,
          "nps_group": "passive",
          "nps_rating": 7,
          "response_date": "2020-12-02",
          "source": "mobile",
          "user_id": 19011
         },
         {
          "index": 408,
          "nps_group": "detractor",
          "nps_rating": 2,
          "response_date": "2020-11-13",
          "source": "mobile",
          "user_id": 10205
         },
         {
          "index": 409,
          "nps_group": "promoter",
          "nps_rating": 9,
          "response_date": "2020-12-06",
          "source": "mobile",
          "user_id": 20372
         },
         {
          "index": 410,
          "nps_group": "detractor",
          "nps_rating": 6,
          "response_date": "2020-10-13",
          "source": "mobile",
          "user_id": 26245
         },
         {
          "index": 411,
          "nps_group": "detractor",
          "nps_rating": 6,
          "response_date": "2020-10-26",
          "source": "mobile",
          "user_id": 11069
         },
         {
          "index": 412,
          "nps_group": "passive",
          "nps_rating": 7,
          "response_date": "2020-12-30",
          "source": "mobile",
          "user_id": 13581
         },
         {
          "index": 413,
          "nps_group": "passive",
          "nps_rating": 8,
          "response_date": "2020-11-02",
          "source": "mobile",
          "user_id": 10744
         },
         {
          "index": 414,
          "nps_group": "detractor",
          "nps_rating": 5,
          "response_date": "2020-10-02",
          "source": "mobile",
          "user_id": 26196
         },
         {
          "index": 415,
          "nps_group": "promoter",
          "nps_rating": 10,
          "response_date": "2020-12-25",
          "source": "mobile",
          "user_id": 42293
         },
         {
          "index": 416,
          "nps_group": "passive",
          "nps_rating": 7,
          "response_date": "2020-11-30",
          "source": "mobile",
          "user_id": 30686
         },
         {
          "index": 417,
          "nps_group": "passive",
          "nps_rating": 7,
          "response_date": "2020-11-23",
          "source": "mobile",
          "user_id": 38833
         },
         {
          "index": 418,
          "nps_group": "passive",
          "nps_rating": 7,
          "response_date": "2020-11-08",
          "source": "mobile",
          "user_id": 18365
         },
         {
          "index": 419,
          "nps_group": "passive",
          "nps_rating": 7,
          "response_date": "2020-11-16",
          "source": "mobile",
          "user_id": 37893
         },
         {
          "index": 420,
          "nps_group": "promoter",
          "nps_rating": 10,
          "response_date": "2020-11-07",
          "source": "mobile",
          "user_id": 21774
         },
         {
          "index": 421,
          "nps_group": "passive",
          "nps_rating": 7,
          "response_date": "2020-12-25",
          "source": "mobile",
          "user_id": 31242
         },
         {
          "index": 422,
          "nps_group": "passive",
          "nps_rating": 7,
          "response_date": "2020-12-25",
          "source": "mobile",
          "user_id": 25940
         },
         {
          "index": 423,
          "nps_group": "detractor",
          "nps_rating": 1,
          "response_date": "2020-12-30",
          "source": "mobile",
          "user_id": 41269
         },
         {
          "index": 424,
          "nps_group": "promoter",
          "nps_rating": 9,
          "response_date": "2020-10-03",
          "source": "mobile",
          "user_id": 36006
         },
         {
          "index": 425,
          "nps_group": "promoter",
          "nps_rating": 10,
          "response_date": "2020-11-20",
          "source": "mobile",
          "user_id": 46167
         },
         {
          "index": 426,
          "nps_group": "detractor",
          "nps_rating": 2,
          "response_date": "2020-10-25",
          "source": "mobile",
          "user_id": 11208
         },
         {
          "index": 427,
          "nps_group": "detractor",
          "nps_rating": 3,
          "response_date": "2020-10-08",
          "source": "mobile",
          "user_id": 12835
         },
         {
          "index": 428,
          "nps_group": "passive",
          "nps_rating": 8,
          "response_date": "2020-10-12",
          "source": "mobile",
          "user_id": 45015
         },
         {
          "index": 429,
          "nps_group": "promoter",
          "nps_rating": 9,
          "response_date": "2020-11-13",
          "source": "mobile",
          "user_id": 21435
         },
         {
          "index": 430,
          "nps_group": "passive",
          "nps_rating": 7,
          "response_date": "2020-10-13",
          "source": "mobile",
          "user_id": 27731
         },
         {
          "index": 431,
          "nps_group": "passive",
          "nps_rating": 7,
          "response_date": "2020-10-18",
          "source": "mobile",
          "user_id": 21532
         },
         {
          "index": 432,
          "nps_group": "detractor",
          "nps_rating": 5,
          "response_date": "2020-12-08",
          "source": "mobile",
          "user_id": 24354
         },
         {
          "index": 433,
          "nps_group": "promoter",
          "nps_rating": 10,
          "response_date": "2020-12-06",
          "source": "mobile",
          "user_id": 36720
         },
         {
          "index": 434,
          "nps_group": "passive",
          "nps_rating": 7,
          "response_date": "2020-11-13",
          "source": "mobile",
          "user_id": 15139
         },
         {
          "index": 435,
          "nps_group": "passive",
          "nps_rating": 7,
          "response_date": "2020-11-03",
          "source": "mobile",
          "user_id": 14041
         },
         {
          "index": 436,
          "nps_group": "passive",
          "nps_rating": 7,
          "response_date": "2020-11-09",
          "source": "mobile",
          "user_id": 33379
         },
         {
          "index": 437,
          "nps_group": "passive",
          "nps_rating": 7,
          "response_date": "2020-10-11",
          "source": "mobile",
          "user_id": 17770
         },
         {
          "index": 438,
          "nps_group": "passive",
          "nps_rating": 7,
          "response_date": "2020-12-25",
          "source": "mobile",
          "user_id": 23220
         },
         {
          "index": 439,
          "nps_group": "passive",
          "nps_rating": 7,
          "response_date": "2020-11-26",
          "source": "mobile",
          "user_id": 37048
         },
         {
          "index": 440,
          "nps_group": "passive",
          "nps_rating": 8,
          "response_date": "2020-12-04",
          "source": "mobile",
          "user_id": 44850
         },
         {
          "index": 441,
          "nps_group": "passive",
          "nps_rating": 7,
          "response_date": "2020-12-05",
          "source": "mobile",
          "user_id": 41943
         },
         {
          "index": 442,
          "nps_group": "detractor",
          "nps_rating": 6,
          "response_date": "2020-10-05",
          "source": "mobile",
          "user_id": 12551
         },
         {
          "index": 443,
          "nps_group": "detractor",
          "nps_rating": 5,
          "response_date": "2020-12-31",
          "source": "mobile",
          "user_id": 17396
         },
         {
          "index": 444,
          "nps_group": "detractor",
          "nps_rating": 5,
          "response_date": "2020-10-12",
          "source": "mobile",
          "user_id": 25542
         },
         {
          "index": 445,
          "nps_group": "detractor",
          "nps_rating": 5,
          "response_date": "2020-12-12",
          "source": "mobile",
          "user_id": 43459
         },
         {
          "index": 446,
          "nps_group": "passive",
          "nps_rating": 7,
          "response_date": "2020-10-20",
          "source": "mobile",
          "user_id": 42243
         },
         {
          "index": 447,
          "nps_group": "passive",
          "nps_rating": 8,
          "response_date": "2020-12-18",
          "source": "mobile",
          "user_id": 23631
         },
         {
          "index": 448,
          "nps_group": "detractor",
          "nps_rating": 5,
          "response_date": "2020-10-03",
          "source": "mobile",
          "user_id": 42298
         },
         {
          "index": 449,
          "nps_group": "passive",
          "nps_rating": 7,
          "response_date": "2020-12-27",
          "source": "mobile",
          "user_id": 11358
         },
         {
          "index": 450,
          "nps_group": "detractor",
          "nps_rating": 1,
          "response_date": "2020-12-11",
          "source": "mobile",
          "user_id": 19983
         },
         {
          "index": 451,
          "nps_group": "promoter",
          "nps_rating": 10,
          "response_date": "2020-12-05",
          "source": "mobile",
          "user_id": 21540
         },
         {
          "index": 452,
          "nps_group": "detractor",
          "nps_rating": 1,
          "response_date": "2020-11-18",
          "source": "mobile",
          "user_id": 36674
         },
         {
          "index": 453,
          "nps_group": "passive",
          "nps_rating": 7,
          "response_date": "2020-11-23",
          "source": "mobile",
          "user_id": 17995
         },
         {
          "index": 454,
          "nps_group": "passive",
          "nps_rating": 8,
          "response_date": "2020-12-17",
          "source": "mobile",
          "user_id": 39893
         },
         {
          "index": 455,
          "nps_group": "promoter",
          "nps_rating": 9,
          "response_date": "2020-10-25",
          "source": "mobile",
          "user_id": 40986
         },
         {
          "index": 456,
          "nps_group": "detractor",
          "nps_rating": 6,
          "response_date": "2020-11-12",
          "source": "mobile",
          "user_id": 19329
         },
         {
          "index": 457,
          "nps_group": "promoter",
          "nps_rating": 10,
          "response_date": "2020-11-13",
          "source": "mobile",
          "user_id": 36939
         },
         {
          "index": 458,
          "nps_group": "detractor",
          "nps_rating": 3,
          "response_date": "2020-11-11",
          "source": "mobile",
          "user_id": 11136
         },
         {
          "index": 459,
          "nps_group": "detractor",
          "nps_rating": 5,
          "response_date": "2020-10-08",
          "source": "mobile",
          "user_id": 27464
         },
         {
          "index": 460,
          "nps_group": "passive",
          "nps_rating": 7,
          "response_date": "2020-10-06",
          "source": "mobile",
          "user_id": 12253
         },
         {
          "index": 461,
          "nps_group": "promoter",
          "nps_rating": 10,
          "response_date": "2020-12-13",
          "source": "mobile",
          "user_id": 19459
         },
         {
          "index": 462,
          "nps_group": "passive",
          "nps_rating": 7,
          "response_date": "2020-12-19",
          "source": "mobile",
          "user_id": 44701
         },
         {
          "index": 463,
          "nps_group": "detractor",
          "nps_rating": 4,
          "response_date": "2020-11-10",
          "source": "mobile",
          "user_id": 43505
         },
         {
          "index": 464,
          "nps_group": "detractor",
          "nps_rating": 4,
          "response_date": "2020-12-10",
          "source": "mobile",
          "user_id": 38474
         },
         {
          "index": 465,
          "nps_group": "detractor",
          "nps_rating": 3,
          "response_date": "2020-11-24",
          "source": "mobile",
          "user_id": 12319
         },
         {
          "index": 466,
          "nps_group": "detractor",
          "nps_rating": 3,
          "response_date": "2020-10-09",
          "source": "mobile",
          "user_id": 49738
         },
         {
          "index": 467,
          "nps_group": "promoter",
          "nps_rating": 10,
          "response_date": "2020-11-03",
          "source": "mobile",
          "user_id": 33482
         },
         {
          "index": 468,
          "nps_group": "detractor",
          "nps_rating": 2,
          "response_date": "2020-10-23",
          "source": "mobile",
          "user_id": 24695
         },
         {
          "index": 469,
          "nps_group": "detractor",
          "nps_rating": 1,
          "response_date": "2020-10-09",
          "source": "mobile",
          "user_id": 31449
         },
         {
          "index": 470,
          "nps_group": "detractor",
          "nps_rating": 6,
          "response_date": "2020-10-01",
          "source": "mobile",
          "user_id": 22194
         },
         {
          "index": 471,
          "nps_group": "promoter",
          "nps_rating": 9,
          "response_date": "2020-10-18",
          "source": "mobile",
          "user_id": 20063
         },
         {
          "index": 472,
          "nps_group": "passive",
          "nps_rating": 7,
          "response_date": "2020-12-26",
          "source": "mobile",
          "user_id": 41103
         },
         {
          "index": 473,
          "nps_group": "detractor",
          "nps_rating": 6,
          "response_date": "2020-10-22",
          "source": "mobile",
          "user_id": 38483
         },
         {
          "index": 474,
          "nps_group": "detractor",
          "nps_rating": 5,
          "response_date": "2020-12-18",
          "source": "mobile",
          "user_id": 10848
         },
         {
          "index": 475,
          "nps_group": "passive",
          "nps_rating": 7,
          "response_date": "2020-10-16",
          "source": "mobile",
          "user_id": 39597
         },
         {
          "index": 476,
          "nps_group": "promoter",
          "nps_rating": 9,
          "response_date": "2020-10-16",
          "source": "mobile",
          "user_id": 13068
         },
         {
          "index": 477,
          "nps_group": "detractor",
          "nps_rating": 5,
          "response_date": "2020-11-24",
          "source": "mobile",
          "user_id": 38475
         },
         {
          "index": 478,
          "nps_group": "passive",
          "nps_rating": 8,
          "response_date": "2020-11-12",
          "source": "mobile",
          "user_id": 11593
         },
         {
          "index": 479,
          "nps_group": "detractor",
          "nps_rating": 5,
          "response_date": "2020-10-21",
          "source": "mobile",
          "user_id": 20116
         },
         {
          "index": 480,
          "nps_group": "detractor",
          "nps_rating": 1,
          "response_date": "2020-12-21",
          "source": "mobile",
          "user_id": 31067
         },
         {
          "index": 481,
          "nps_group": "detractor",
          "nps_rating": 2,
          "response_date": "2020-12-17",
          "source": "mobile",
          "user_id": 30012
         },
         {
          "index": 482,
          "nps_group": "detractor",
          "nps_rating": 6,
          "response_date": "2020-12-02",
          "source": "mobile",
          "user_id": 32987
         },
         {
          "index": 483,
          "nps_group": "promoter",
          "nps_rating": 9,
          "response_date": "2020-12-31",
          "source": "mobile",
          "user_id": 23519
         },
         {
          "index": 484,
          "nps_group": "detractor",
          "nps_rating": 6,
          "response_date": "2020-11-03",
          "source": "mobile",
          "user_id": 44931
         },
         {
          "index": 485,
          "nps_group": "detractor",
          "nps_rating": 4,
          "response_date": "2020-10-12",
          "source": "mobile",
          "user_id": 23585
         },
         {
          "index": 486,
          "nps_group": "promoter",
          "nps_rating": 10,
          "response_date": "2020-12-04",
          "source": "mobile",
          "user_id": 12524
         },
         {
          "index": 487,
          "nps_group": "detractor",
          "nps_rating": 5,
          "response_date": "2020-12-21",
          "source": "mobile",
          "user_id": 11547
         },
         {
          "index": 488,
          "nps_group": "passive",
          "nps_rating": 7,
          "response_date": "2020-12-22",
          "source": "mobile",
          "user_id": 17871
         },
         {
          "index": 489,
          "nps_group": "passive",
          "nps_rating": 7,
          "response_date": "2020-11-07",
          "source": "mobile",
          "user_id": 30897
         },
         {
          "index": 490,
          "nps_group": "promoter",
          "nps_rating": 10,
          "response_date": "2020-10-11",
          "source": "mobile",
          "user_id": 32367
         },
         {
          "index": 491,
          "nps_group": "passive",
          "nps_rating": 8,
          "response_date": "2020-10-12",
          "source": "mobile",
          "user_id": 19409
         },
         {
          "index": 492,
          "nps_group": "passive",
          "nps_rating": 7,
          "response_date": "2020-11-12",
          "source": "mobile",
          "user_id": 41028
         },
         {
          "index": 493,
          "nps_group": "detractor",
          "nps_rating": 2,
          "response_date": "2020-12-01",
          "source": "mobile",
          "user_id": 34450
         },
         {
          "index": 494,
          "nps_group": "passive",
          "nps_rating": 7,
          "response_date": "2020-11-13",
          "source": "mobile",
          "user_id": 43101
         },
         {
          "index": 495,
          "nps_group": "detractor",
          "nps_rating": 1,
          "response_date": "2020-12-04",
          "source": "mobile",
          "user_id": 34016
         },
         {
          "index": 496,
          "nps_group": "passive",
          "nps_rating": 7,
          "response_date": "2020-11-09",
          "source": "mobile",
          "user_id": 42338
         },
         {
          "index": 497,
          "nps_group": "detractor",
          "nps_rating": 6,
          "response_date": "2020-11-30",
          "source": "mobile",
          "user_id": 27009
         },
         {
          "index": 498,
          "nps_group": "passive",
          "nps_rating": 7,
          "response_date": "2020-11-28",
          "source": "mobile",
          "user_id": 48191
         },
         {
          "index": 499,
          "nps_group": "promoter",
          "nps_rating": 10,
          "response_date": "2020-12-18",
          "source": "mobile",
          "user_id": 17029
         },
         {
          "index": 500,
          "nps_group": "detractor",
          "nps_rating": 2,
          "response_date": "2020-12-03",
          "source": "mobile",
          "user_id": 35977
         },
         {
          "index": 501,
          "nps_group": "detractor",
          "nps_rating": 2,
          "response_date": "2020-11-21",
          "source": "mobile",
          "user_id": 28566
         },
         {
          "index": 502,
          "nps_group": "passive",
          "nps_rating": 7,
          "response_date": "2020-10-03",
          "source": "mobile",
          "user_id": 15985
         },
         {
          "index": 503,
          "nps_group": "passive",
          "nps_rating": 8,
          "response_date": "2020-12-18",
          "source": "mobile",
          "user_id": 24426
         },
         {
          "index": 504,
          "nps_group": "detractor",
          "nps_rating": 5,
          "response_date": "2020-12-27",
          "source": "mobile",
          "user_id": 41955
         },
         {
          "index": 505,
          "nps_group": "promoter",
          "nps_rating": 10,
          "response_date": "2020-11-28",
          "source": "mobile",
          "user_id": 40077
         },
         {
          "index": 506,
          "nps_group": "detractor",
          "nps_rating": 4,
          "response_date": "2020-10-15",
          "source": "mobile",
          "user_id": 11228
         },
         {
          "index": 507,
          "nps_group": "detractor",
          "nps_rating": 0,
          "response_date": "2020-10-24",
          "source": "mobile",
          "user_id": 42055
         },
         {
          "index": 508,
          "nps_group": "passive",
          "nps_rating": 8,
          "response_date": "2020-12-26",
          "source": "mobile",
          "user_id": 10772
         },
         {
          "index": 509,
          "nps_group": "passive",
          "nps_rating": 8,
          "response_date": "2020-12-03",
          "source": "mobile",
          "user_id": 31361
         },
         {
          "index": 510,
          "nps_group": "detractor",
          "nps_rating": 3,
          "response_date": "2020-11-25",
          "source": "mobile",
          "user_id": 39805
         },
         {
          "index": 511,
          "nps_group": "passive",
          "nps_rating": 7,
          "response_date": "2020-12-12",
          "source": "mobile",
          "user_id": 30997
         },
         {
          "index": 512,
          "nps_group": "promoter",
          "nps_rating": 10,
          "response_date": "2020-11-22",
          "source": "mobile",
          "user_id": 11894
         },
         {
          "index": 513,
          "nps_group": "passive",
          "nps_rating": 7,
          "response_date": "2020-10-27",
          "source": "mobile",
          "user_id": 18597
         },
         {
          "index": 514,
          "nps_group": "detractor",
          "nps_rating": 1,
          "response_date": "2020-12-05",
          "source": "mobile",
          "user_id": 40945
         },
         {
          "index": 515,
          "nps_group": "passive",
          "nps_rating": 8,
          "response_date": "2020-12-25",
          "source": "mobile",
          "user_id": 29797
         },
         {
          "index": 516,
          "nps_group": "promoter",
          "nps_rating": 10,
          "response_date": "2020-10-15",
          "source": "mobile",
          "user_id": 27210
         },
         {
          "index": 517,
          "nps_group": "promoter",
          "nps_rating": 9,
          "response_date": "2020-10-20",
          "source": "mobile",
          "user_id": 12914
         },
         {
          "index": 518,
          "nps_group": "promoter",
          "nps_rating": 9,
          "response_date": "2020-11-03",
          "source": "mobile",
          "user_id": 33943
         },
         {
          "index": 519,
          "nps_group": "passive",
          "nps_rating": 7,
          "response_date": "2020-10-13",
          "source": "mobile",
          "user_id": 11555
         },
         {
          "index": 520,
          "nps_group": "passive",
          "nps_rating": 7,
          "response_date": "2020-12-02",
          "source": "mobile",
          "user_id": 44214
         },
         {
          "index": 521,
          "nps_group": "detractor",
          "nps_rating": 5,
          "response_date": "2020-11-23",
          "source": "mobile",
          "user_id": 21199
         },
         {
          "index": 522,
          "nps_group": "passive",
          "nps_rating": 8,
          "response_date": "2020-11-11",
          "source": "mobile",
          "user_id": 29442
         },
         {
          "index": 523,
          "nps_group": "detractor",
          "nps_rating": 4,
          "response_date": "2020-10-28",
          "source": "mobile",
          "user_id": 23865
         },
         {
          "index": 524,
          "nps_group": "passive",
          "nps_rating": 8,
          "response_date": "2020-11-14",
          "source": "mobile",
          "user_id": 44668
         },
         {
          "index": 525,
          "nps_group": "detractor",
          "nps_rating": 1,
          "response_date": "2020-10-09",
          "source": "mobile",
          "user_id": 27783
         },
         {
          "index": 526,
          "nps_group": "passive",
          "nps_rating": 7,
          "response_date": "2020-12-25",
          "source": "mobile",
          "user_id": 17008
         },
         {
          "index": 527,
          "nps_group": "passive",
          "nps_rating": 8,
          "response_date": "2020-12-27",
          "source": "mobile",
          "user_id": 30742
         },
         {
          "index": 528,
          "nps_group": "promoter",
          "nps_rating": 10,
          "response_date": "2020-12-24",
          "source": "mobile",
          "user_id": 35845
         },
         {
          "index": 529,
          "nps_group": "detractor",
          "nps_rating": 5,
          "response_date": "2020-12-30",
          "source": "mobile",
          "user_id": 12869
         },
         {
          "index": 530,
          "nps_group": "promoter",
          "nps_rating": 10,
          "response_date": "2020-12-30",
          "source": "mobile",
          "user_id": 35534
         },
         {
          "index": 531,
          "nps_group": "detractor",
          "nps_rating": 6,
          "response_date": "2020-10-28",
          "source": "mobile",
          "user_id": 46503
         },
         {
          "index": 532,
          "nps_group": "detractor",
          "nps_rating": 3,
          "response_date": "2020-11-09",
          "source": "mobile",
          "user_id": 13147
         },
         {
          "index": 533,
          "nps_group": "passive",
          "nps_rating": 7,
          "response_date": "2020-11-15",
          "source": "mobile",
          "user_id": 43181
         },
         {
          "index": 534,
          "nps_group": "promoter",
          "nps_rating": 9,
          "response_date": "2020-12-28",
          "source": "mobile",
          "user_id": 47846
         },
         {
          "index": 535,
          "nps_group": "passive",
          "nps_rating": 7,
          "response_date": "2020-10-24",
          "source": "mobile",
          "user_id": 32916
         },
         {
          "index": 536,
          "nps_group": "passive",
          "nps_rating": 8,
          "response_date": "2020-10-18",
          "source": "mobile",
          "user_id": 12523
         },
         {
          "index": 537,
          "nps_group": "detractor",
          "nps_rating": 5,
          "response_date": "2020-12-13",
          "source": "mobile",
          "user_id": 39524
         },
         {
          "index": 538,
          "nps_group": "detractor",
          "nps_rating": 3,
          "response_date": "2020-10-22",
          "source": "mobile",
          "user_id": 43743
         },
         {
          "index": 539,
          "nps_group": "detractor",
          "nps_rating": 1,
          "response_date": "2020-11-07",
          "source": "mobile",
          "user_id": 22782
         },
         {
          "index": 540,
          "nps_group": "detractor",
          "nps_rating": 4,
          "response_date": "2020-10-02",
          "source": "mobile",
          "user_id": 13667
         },
         {
          "index": 541,
          "nps_group": "detractor",
          "nps_rating": 5,
          "response_date": "2020-11-18",
          "source": "mobile",
          "user_id": 37903
         },
         {
          "index": 542,
          "nps_group": "passive",
          "nps_rating": 7,
          "response_date": "2020-12-20",
          "source": "mobile",
          "user_id": 33343
         },
         {
          "index": 543,
          "nps_group": "detractor",
          "nps_rating": 6,
          "response_date": "2020-12-17",
          "source": "mobile",
          "user_id": 13533
         },
         {
          "index": 544,
          "nps_group": "passive",
          "nps_rating": 8,
          "response_date": "2020-11-11",
          "source": "mobile",
          "user_id": 44031
         },
         {
          "index": 545,
          "nps_group": "promoter",
          "nps_rating": 10,
          "response_date": "2020-11-02",
          "source": "mobile",
          "user_id": 26768
         },
         {
          "index": 546,
          "nps_group": "passive",
          "nps_rating": 7,
          "response_date": "2020-10-02",
          "source": "mobile",
          "user_id": 10545
         },
         {
          "index": 547,
          "nps_group": "promoter",
          "nps_rating": 9,
          "response_date": "2020-10-25",
          "source": "mobile",
          "user_id": 36778
         },
         {
          "index": 548,
          "nps_group": "passive",
          "nps_rating": 7,
          "response_date": "2020-10-17",
          "source": "mobile",
          "user_id": 13851
         },
         {
          "index": 549,
          "nps_group": "detractor",
          "nps_rating": 5,
          "response_date": "2020-12-26",
          "source": "mobile",
          "user_id": 10815
         },
         {
          "index": 550,
          "nps_group": "passive",
          "nps_rating": 7,
          "response_date": "2020-11-01",
          "source": "mobile",
          "user_id": 10468
         },
         {
          "index": 551,
          "nps_group": "passive",
          "nps_rating": 7,
          "response_date": "2020-12-21",
          "source": "mobile",
          "user_id": 16739
         },
         {
          "index": 552,
          "nps_group": "passive",
          "nps_rating": 7,
          "response_date": "2020-11-01",
          "source": "mobile",
          "user_id": 25031
         },
         {
          "index": 553,
          "nps_group": "promoter",
          "nps_rating": 10,
          "response_date": "2020-12-23",
          "source": "mobile",
          "user_id": 24468
         },
         {
          "index": 554,
          "nps_group": "promoter",
          "nps_rating": 9,
          "response_date": "2020-12-31",
          "source": "mobile",
          "user_id": 48922
         },
         {
          "index": 555,
          "nps_group": "passive",
          "nps_rating": 7,
          "response_date": "2020-10-15",
          "source": "mobile",
          "user_id": 29663
         },
         {
          "index": 556,
          "nps_group": "promoter",
          "nps_rating": 9,
          "response_date": "2020-10-02",
          "source": "mobile",
          "user_id": 25838
         },
         {
          "index": 557,
          "nps_group": "promoter",
          "nps_rating": 10,
          "response_date": "2020-12-13",
          "source": "mobile",
          "user_id": 25624
         },
         {
          "index": 558,
          "nps_group": "passive",
          "nps_rating": 7,
          "response_date": "2020-11-24",
          "source": "mobile",
          "user_id": 10084
         },
         {
          "index": 559,
          "nps_group": "passive",
          "nps_rating": 8,
          "response_date": "2020-10-26",
          "source": "mobile",
          "user_id": 32750
         },
         {
          "index": 560,
          "nps_group": "passive",
          "nps_rating": 8,
          "response_date": "2020-10-08",
          "source": "mobile",
          "user_id": 48197
         },
         {
          "index": 561,
          "nps_group": "detractor",
          "nps_rating": 0,
          "response_date": "2020-11-07",
          "source": "mobile",
          "user_id": 28265
         },
         {
          "index": 562,
          "nps_group": "detractor",
          "nps_rating": 4,
          "response_date": "2020-11-04",
          "source": "mobile",
          "user_id": 24430
         },
         {
          "index": 563,
          "nps_group": "promoter",
          "nps_rating": 9,
          "response_date": "2020-11-16",
          "source": "mobile",
          "user_id": 49746
         },
         {
          "index": 564,
          "nps_group": "detractor",
          "nps_rating": 3,
          "response_date": "2020-12-11",
          "source": "mobile",
          "user_id": 36516
         },
         {
          "index": 565,
          "nps_group": "detractor",
          "nps_rating": 3,
          "response_date": "2020-11-03",
          "source": "mobile",
          "user_id": 35686
         },
         {
          "index": 566,
          "nps_group": "passive",
          "nps_rating": 7,
          "response_date": "2020-12-09",
          "source": "mobile",
          "user_id": 35021
         },
         {
          "index": 567,
          "nps_group": "passive",
          "nps_rating": 8,
          "response_date": "2020-10-27",
          "source": "mobile",
          "user_id": 12500
         },
         {
          "index": 568,
          "nps_group": "detractor",
          "nps_rating": 5,
          "response_date": "2020-12-11",
          "source": "mobile",
          "user_id": 41049
         },
         {
          "index": 569,
          "nps_group": "detractor",
          "nps_rating": 2,
          "response_date": "2020-12-02",
          "source": "mobile",
          "user_id": 31011
         },
         {
          "index": 570,
          "nps_group": "promoter",
          "nps_rating": 10,
          "response_date": "2020-12-22",
          "source": "mobile",
          "user_id": 46298
         },
         {
          "index": 571,
          "nps_group": "passive",
          "nps_rating": 8,
          "response_date": "2020-12-29",
          "source": "mobile",
          "user_id": 48031
         },
         {
          "index": 572,
          "nps_group": "detractor",
          "nps_rating": 6,
          "response_date": "2020-11-28",
          "source": "mobile",
          "user_id": 10061
         },
         {
          "index": 573,
          "nps_group": "passive",
          "nps_rating": 8,
          "response_date": "2020-11-14",
          "source": "mobile",
          "user_id": 37375
         },
         {
          "index": 574,
          "nps_group": "passive",
          "nps_rating": 8,
          "response_date": "2020-11-03",
          "source": "mobile",
          "user_id": 41956
         },
         {
          "index": 575,
          "nps_group": "passive",
          "nps_rating": 7,
          "response_date": "2020-11-04",
          "source": "mobile",
          "user_id": 38014
         },
         {
          "index": 576,
          "nps_group": "passive",
          "nps_rating": 8,
          "response_date": "2020-12-06",
          "source": "mobile",
          "user_id": 47101
         },
         {
          "index": 577,
          "nps_group": "detractor",
          "nps_rating": 5,
          "response_date": "2020-10-09",
          "source": "mobile",
          "user_id": 21691
         },
         {
          "index": 578,
          "nps_group": "passive",
          "nps_rating": 7,
          "response_date": "2020-11-29",
          "source": "mobile",
          "user_id": 17844
         },
         {
          "index": 579,
          "nps_group": "passive",
          "nps_rating": 8,
          "response_date": "2020-12-09",
          "source": "mobile",
          "user_id": 39542
         },
         {
          "index": 580,
          "nps_group": "passive",
          "nps_rating": 7,
          "response_date": "2020-10-31",
          "source": "mobile",
          "user_id": 20017
         },
         {
          "index": 581,
          "nps_group": "promoter",
          "nps_rating": 9,
          "response_date": "2020-12-10",
          "source": "mobile",
          "user_id": 18967
         },
         {
          "index": 582,
          "nps_group": "detractor",
          "nps_rating": 5,
          "response_date": "2020-10-07",
          "source": "mobile",
          "user_id": 47925
         },
         {
          "index": 583,
          "nps_group": "promoter",
          "nps_rating": 9,
          "response_date": "2020-11-03",
          "source": "mobile",
          "user_id": 33826
         },
         {
          "index": 584,
          "nps_group": "passive",
          "nps_rating": 7,
          "response_date": "2020-10-09",
          "source": "mobile",
          "user_id": 12788
         },
         {
          "index": 585,
          "nps_group": "passive",
          "nps_rating": 7,
          "response_date": "2020-10-27",
          "source": "mobile",
          "user_id": 49562
         },
         {
          "index": 586,
          "nps_group": "detractor",
          "nps_rating": 0,
          "response_date": "2020-10-19",
          "source": "mobile",
          "user_id": 23124
         },
         {
          "index": 587,
          "nps_group": "detractor",
          "nps_rating": 6,
          "response_date": "2020-10-11",
          "source": "mobile",
          "user_id": 47823
         },
         {
          "index": 588,
          "nps_group": "passive",
          "nps_rating": 7,
          "response_date": "2020-11-07",
          "source": "mobile",
          "user_id": 27211
         },
         {
          "index": 589,
          "nps_group": "passive",
          "nps_rating": 7,
          "response_date": "2020-11-03",
          "source": "mobile",
          "user_id": 43624
         },
         {
          "index": 590,
          "nps_group": "detractor",
          "nps_rating": 5,
          "response_date": "2020-12-21",
          "source": "mobile",
          "user_id": 37210
         },
         {
          "index": 591,
          "nps_group": "passive",
          "nps_rating": 7,
          "response_date": "2020-12-27",
          "source": "mobile",
          "user_id": 25094
         },
         {
          "index": 592,
          "nps_group": "detractor",
          "nps_rating": 6,
          "response_date": "2020-12-18",
          "source": "mobile",
          "user_id": 26322
         },
         {
          "index": 593,
          "nps_group": "detractor",
          "nps_rating": 4,
          "response_date": "2020-10-06",
          "source": "mobile",
          "user_id": 35179
         },
         {
          "index": 594,
          "nps_group": "passive",
          "nps_rating": 8,
          "response_date": "2020-11-03",
          "source": "mobile",
          "user_id": 28950
         },
         {
          "index": 595,
          "nps_group": "promoter",
          "nps_rating": 10,
          "response_date": "2020-12-26",
          "source": "mobile",
          "user_id": 16074
         },
         {
          "index": 596,
          "nps_group": "promoter",
          "nps_rating": 9,
          "response_date": "2020-12-14",
          "source": "mobile",
          "user_id": 31496
         },
         {
          "index": 597,
          "nps_group": "detractor",
          "nps_rating": 3,
          "response_date": "2020-11-06",
          "source": "mobile",
          "user_id": 13822
         },
         {
          "index": 598,
          "nps_group": "passive",
          "nps_rating": 7,
          "response_date": "2020-11-15",
          "source": "mobile",
          "user_id": 30028
         },
         {
          "index": 599,
          "nps_group": "promoter",
          "nps_rating": 9,
          "response_date": "2020-10-14",
          "source": "mobile",
          "user_id": 38572
         },
         {
          "index": 600,
          "nps_group": "detractor",
          "nps_rating": 5,
          "response_date": "2020-10-16",
          "source": "mobile",
          "user_id": 36614
         },
         {
          "index": 601,
          "nps_group": "promoter",
          "nps_rating": 10,
          "response_date": "2020-12-18",
          "source": "mobile",
          "user_id": 44338
         },
         {
          "index": 602,
          "nps_group": "passive",
          "nps_rating": 7,
          "response_date": "2020-11-14",
          "source": "mobile",
          "user_id": 47164
         },
         {
          "index": 603,
          "nps_group": "detractor",
          "nps_rating": 6,
          "response_date": "2020-12-11",
          "source": "mobile",
          "user_id": 41681
         },
         {
          "index": 604,
          "nps_group": "passive",
          "nps_rating": 7,
          "response_date": "2020-10-26",
          "source": "mobile",
          "user_id": 38308
         },
         {
          "index": 605,
          "nps_group": "passive",
          "nps_rating": 7,
          "response_date": "2020-12-04",
          "source": "mobile",
          "user_id": 47993
         },
         {
          "index": 606,
          "nps_group": "passive",
          "nps_rating": 8,
          "response_date": "2020-10-08",
          "source": "mobile",
          "user_id": 19366
         },
         {
          "index": 607,
          "nps_group": "promoter",
          "nps_rating": 10,
          "response_date": "2020-10-21",
          "source": "mobile",
          "user_id": 43617
         },
         {
          "index": 608,
          "nps_group": "detractor",
          "nps_rating": 3,
          "response_date": "2020-11-17",
          "source": "mobile",
          "user_id": 10709
         },
         {
          "index": 609,
          "nps_group": "passive",
          "nps_rating": 7,
          "response_date": "2020-10-16",
          "source": "mobile",
          "user_id": 26022
         },
         {
          "index": 610,
          "nps_group": "detractor",
          "nps_rating": 3,
          "response_date": "2020-11-18",
          "source": "mobile",
          "user_id": 46884
         },
         {
          "index": 611,
          "nps_group": "promoter",
          "nps_rating": 9,
          "response_date": "2020-12-24",
          "source": "mobile",
          "user_id": 12816
         },
         {
          "index": 612,
          "nps_group": "detractor",
          "nps_rating": 5,
          "response_date": "2020-12-20",
          "source": "mobile",
          "user_id": 22852
         },
         {
          "index": 613,
          "nps_group": "passive",
          "nps_rating": 8,
          "response_date": "2020-12-22",
          "source": "mobile",
          "user_id": 24529
         },
         {
          "index": 614,
          "nps_group": "detractor",
          "nps_rating": 6,
          "response_date": "2020-10-27",
          "source": "mobile",
          "user_id": 41296
         },
         {
          "index": 615,
          "nps_group": "detractor",
          "nps_rating": 3,
          "response_date": "2020-10-21",
          "source": "mobile",
          "user_id": 29293
         },
         {
          "index": 616,
          "nps_group": "passive",
          "nps_rating": 7,
          "response_date": "2020-12-31",
          "source": "mobile",
          "user_id": 46618
         },
         {
          "index": 617,
          "nps_group": "passive",
          "nps_rating": 7,
          "response_date": "2020-10-04",
          "source": "mobile",
          "user_id": 10370
         },
         {
          "index": 618,
          "nps_group": "detractor",
          "nps_rating": 6,
          "response_date": "2020-10-06",
          "source": "mobile",
          "user_id": 38431
         },
         {
          "index": 619,
          "nps_group": "detractor",
          "nps_rating": 2,
          "response_date": "2020-10-06",
          "source": "mobile",
          "user_id": 48737
         },
         {
          "index": 620,
          "nps_group": "promoter",
          "nps_rating": 10,
          "response_date": "2020-10-21",
          "source": "mobile",
          "user_id": 43254
         },
         {
          "index": 621,
          "nps_group": "passive",
          "nps_rating": 7,
          "response_date": "2020-11-24",
          "source": "mobile",
          "user_id": 32727
         },
         {
          "index": 622,
          "nps_group": "detractor",
          "nps_rating": 5,
          "response_date": "2020-11-23",
          "source": "mobile",
          "user_id": 21569
         },
         {
          "index": 623,
          "nps_group": "passive",
          "nps_rating": 7,
          "response_date": "2020-11-01",
          "source": "mobile",
          "user_id": 29528
         },
         {
          "index": 624,
          "nps_group": "detractor",
          "nps_rating": 4,
          "response_date": "2020-11-02",
          "source": "mobile",
          "user_id": 31348
         },
         {
          "index": 625,
          "nps_group": "detractor",
          "nps_rating": 3,
          "response_date": "2020-11-11",
          "source": "mobile",
          "user_id": 41624
         },
         {
          "index": 626,
          "nps_group": "detractor",
          "nps_rating": 5,
          "response_date": "2020-11-29",
          "source": "mobile",
          "user_id": 29936
         },
         {
          "index": 627,
          "nps_group": "passive",
          "nps_rating": 7,
          "response_date": "2020-11-10",
          "source": "mobile",
          "user_id": 16069
         },
         {
          "index": 628,
          "nps_group": "passive",
          "nps_rating": 7,
          "response_date": "2020-10-31",
          "source": "mobile",
          "user_id": 24797
         },
         {
          "index": 629,
          "nps_group": "passive",
          "nps_rating": 7,
          "response_date": "2020-11-23",
          "source": "mobile",
          "user_id": 17607
         },
         {
          "index": 630,
          "nps_group": "detractor",
          "nps_rating": 6,
          "response_date": "2020-12-21",
          "source": "mobile",
          "user_id": 29535
         },
         {
          "index": 631,
          "nps_group": "passive",
          "nps_rating": 8,
          "response_date": "2020-11-18",
          "source": "mobile",
          "user_id": 24335
         },
         {
          "index": 632,
          "nps_group": "detractor",
          "nps_rating": 3,
          "response_date": "2020-10-03",
          "source": "mobile",
          "user_id": 23976
         },
         {
          "index": 633,
          "nps_group": "passive",
          "nps_rating": 8,
          "response_date": "2020-12-17",
          "source": "mobile",
          "user_id": 16619
         },
         {
          "index": 634,
          "nps_group": "detractor",
          "nps_rating": 0,
          "response_date": "2020-12-15",
          "source": "mobile",
          "user_id": 46733
         },
         {
          "index": 635,
          "nps_group": "detractor",
          "nps_rating": 6,
          "response_date": "2020-12-03",
          "source": "mobile",
          "user_id": 25559
         },
         {
          "index": 636,
          "nps_group": "passive",
          "nps_rating": 8,
          "response_date": "2020-10-04",
          "source": "mobile",
          "user_id": 20289
         },
         {
          "index": 637,
          "nps_group": "detractor",
          "nps_rating": 5,
          "response_date": "2020-10-05",
          "source": "mobile",
          "user_id": 38517
         },
         {
          "index": 638,
          "nps_group": "detractor",
          "nps_rating": 1,
          "response_date": "2020-10-12",
          "source": "mobile",
          "user_id": 40307
         },
         {
          "index": 639,
          "nps_group": "passive",
          "nps_rating": 7,
          "response_date": "2020-11-24",
          "source": "mobile",
          "user_id": 41020
         },
         {
          "index": 640,
          "nps_group": "passive",
          "nps_rating": 7,
          "response_date": "2020-12-24",
          "source": "mobile",
          "user_id": 20887
         },
         {
          "index": 641,
          "nps_group": "passive",
          "nps_rating": 7,
          "response_date": "2020-10-12",
          "source": "mobile",
          "user_id": 39809
         },
         {
          "index": 642,
          "nps_group": "passive",
          "nps_rating": 7,
          "response_date": "2020-10-22",
          "source": "mobile",
          "user_id": 34917
         },
         {
          "index": 643,
          "nps_group": "detractor",
          "nps_rating": 3,
          "response_date": "2020-10-30",
          "source": "mobile",
          "user_id": 43984
         },
         {
          "index": 644,
          "nps_group": "detractor",
          "nps_rating": 2,
          "response_date": "2020-11-09",
          "source": "mobile",
          "user_id": 49823
         },
         {
          "index": 645,
          "nps_group": "detractor",
          "nps_rating": 2,
          "response_date": "2020-11-28",
          "source": "mobile",
          "user_id": 15817
         },
         {
          "index": 646,
          "nps_group": "detractor",
          "nps_rating": 5,
          "response_date": "2020-12-19",
          "source": "mobile",
          "user_id": 26176
         },
         {
          "index": 647,
          "nps_group": "passive",
          "nps_rating": 8,
          "response_date": "2020-10-04",
          "source": "mobile",
          "user_id": 31474
         },
         {
          "index": 648,
          "nps_group": "promoter",
          "nps_rating": 10,
          "response_date": "2020-12-17",
          "source": "mobile",
          "user_id": 18850
         },
         {
          "index": 649,
          "nps_group": "passive",
          "nps_rating": 8,
          "response_date": "2020-11-28",
          "source": "mobile",
          "user_id": 11489
         },
         {
          "index": 650,
          "nps_group": "promoter",
          "nps_rating": 9,
          "response_date": "2020-10-24",
          "source": "mobile",
          "user_id": 31083
         },
         {
          "index": 651,
          "nps_group": "detractor",
          "nps_rating": 5,
          "response_date": "2020-12-17",
          "source": "mobile",
          "user_id": 38520
         },
         {
          "index": 652,
          "nps_group": "promoter",
          "nps_rating": 9,
          "response_date": "2020-11-07",
          "source": "mobile",
          "user_id": 15818
         },
         {
          "index": 653,
          "nps_group": "promoter",
          "nps_rating": 10,
          "response_date": "2020-10-23",
          "source": "mobile",
          "user_id": 34637
         },
         {
          "index": 654,
          "nps_group": "passive",
          "nps_rating": 7,
          "response_date": "2020-12-27",
          "source": "mobile",
          "user_id": 29002
         },
         {
          "index": 655,
          "nps_group": "passive",
          "nps_rating": 7,
          "response_date": "2020-10-02",
          "source": "mobile",
          "user_id": 29642
         },
         {
          "index": 656,
          "nps_group": "passive",
          "nps_rating": 7,
          "response_date": "2020-12-27",
          "source": "mobile",
          "user_id": 36159
         },
         {
          "index": 657,
          "nps_group": "detractor",
          "nps_rating": 5,
          "response_date": "2020-12-24",
          "source": "mobile",
          "user_id": 11838
         },
         {
          "index": 658,
          "nps_group": "passive",
          "nps_rating": 7,
          "response_date": "2020-10-15",
          "source": "mobile",
          "user_id": 43338
         },
         {
          "index": 659,
          "nps_group": "detractor",
          "nps_rating": 6,
          "response_date": "2020-10-20",
          "source": "mobile",
          "user_id": 45440
         },
         {
          "index": 660,
          "nps_group": "passive",
          "nps_rating": 7,
          "response_date": "2020-10-22",
          "source": "mobile",
          "user_id": 17687
         },
         {
          "index": 661,
          "nps_group": "detractor",
          "nps_rating": 6,
          "response_date": "2020-11-05",
          "source": "mobile",
          "user_id": 20857
         },
         {
          "index": 662,
          "nps_group": "passive",
          "nps_rating": 7,
          "response_date": "2020-10-30",
          "source": "mobile",
          "user_id": 11655
         },
         {
          "index": 663,
          "nps_group": "passive",
          "nps_rating": 8,
          "response_date": "2020-12-20",
          "source": "mobile",
          "user_id": 48596
         },
         {
          "index": 664,
          "nps_group": "promoter",
          "nps_rating": 10,
          "response_date": "2020-10-03",
          "source": "mobile",
          "user_id": 39583
         },
         {
          "index": 665,
          "nps_group": "detractor",
          "nps_rating": 0,
          "response_date": "2020-12-11",
          "source": "mobile",
          "user_id": 18430
         },
         {
          "index": 666,
          "nps_group": "passive",
          "nps_rating": 8,
          "response_date": "2020-10-22",
          "source": "mobile",
          "user_id": 13895
         },
         {
          "index": 667,
          "nps_group": "detractor",
          "nps_rating": 5,
          "response_date": "2020-12-14",
          "source": "mobile",
          "user_id": 44389
         },
         {
          "index": 668,
          "nps_group": "detractor",
          "nps_rating": 6,
          "response_date": "2020-11-01",
          "source": "mobile",
          "user_id": 20847
         },
         {
          "index": 669,
          "nps_group": "detractor",
          "nps_rating": 5,
          "response_date": "2020-12-31",
          "source": "mobile",
          "user_id": 30740
         },
         {
          "index": 670,
          "nps_group": "detractor",
          "nps_rating": 2,
          "response_date": "2020-11-18",
          "source": "mobile",
          "user_id": 14317
         },
         {
          "index": 671,
          "nps_group": "passive",
          "nps_rating": 7,
          "response_date": "2020-10-31",
          "source": "mobile",
          "user_id": 16283
         },
         {
          "index": 672,
          "nps_group": "passive",
          "nps_rating": 7,
          "response_date": "2020-10-13",
          "source": "mobile",
          "user_id": 15979
         },
         {
          "index": 673,
          "nps_group": "passive",
          "nps_rating": 8,
          "response_date": "2020-11-20",
          "source": "mobile",
          "user_id": 18436
         },
         {
          "index": 674,
          "nps_group": "detractor",
          "nps_rating": 2,
          "response_date": "2020-12-22",
          "source": "mobile",
          "user_id": 13225
         },
         {
          "index": 675,
          "nps_group": "passive",
          "nps_rating": 7,
          "response_date": "2020-12-19",
          "source": "mobile",
          "user_id": 35261
         },
         {
          "index": 676,
          "nps_group": "promoter",
          "nps_rating": 9,
          "response_date": "2020-10-04",
          "source": "mobile",
          "user_id": 11874
         },
         {
          "index": 677,
          "nps_group": "detractor",
          "nps_rating": 5,
          "response_date": "2020-11-20",
          "source": "mobile",
          "user_id": 37653
         },
         {
          "index": 678,
          "nps_group": "passive",
          "nps_rating": 7,
          "response_date": "2020-12-01",
          "source": "mobile",
          "user_id": 34710
         },
         {
          "index": 679,
          "nps_group": "detractor",
          "nps_rating": 3,
          "response_date": "2020-10-18",
          "source": "mobile",
          "user_id": 35986
         },
         {
          "index": 680,
          "nps_group": "passive",
          "nps_rating": 8,
          "response_date": "2020-12-12",
          "source": "mobile",
          "user_id": 19930
         },
         {
          "index": 681,
          "nps_group": "detractor",
          "nps_rating": 3,
          "response_date": "2020-10-22",
          "source": "mobile",
          "user_id": 23295
         },
         {
          "index": 682,
          "nps_group": "detractor",
          "nps_rating": 5,
          "response_date": "2020-11-25",
          "source": "mobile",
          "user_id": 24359
         },
         {
          "index": 683,
          "nps_group": "detractor",
          "nps_rating": 1,
          "response_date": "2020-10-23",
          "source": "mobile",
          "user_id": 45426
         },
         {
          "index": 684,
          "nps_group": "detractor",
          "nps_rating": 5,
          "response_date": "2020-10-29",
          "source": "mobile",
          "user_id": 15057
         },
         {
          "index": 685,
          "nps_group": "detractor",
          "nps_rating": 5,
          "response_date": "2020-10-25",
          "source": "mobile",
          "user_id": 38835
         },
         {
          "index": 686,
          "nps_group": "promoter",
          "nps_rating": 10,
          "response_date": "2020-10-31",
          "source": "mobile",
          "user_id": 13159
         },
         {
          "index": 687,
          "nps_group": "detractor",
          "nps_rating": 1,
          "response_date": "2020-10-28",
          "source": "mobile",
          "user_id": 31881
         },
         {
          "index": 688,
          "nps_group": "passive",
          "nps_rating": 7,
          "response_date": "2020-12-26",
          "source": "mobile",
          "user_id": 47672
         },
         {
          "index": 689,
          "nps_group": "promoter",
          "nps_rating": 9,
          "response_date": "2020-10-07",
          "source": "mobile",
          "user_id": 10274
         },
         {
          "index": 690,
          "nps_group": "promoter",
          "nps_rating": 9,
          "response_date": "2020-11-10",
          "source": "mobile",
          "user_id": 26604
         },
         {
          "index": 691,
          "nps_group": "detractor",
          "nps_rating": 3,
          "response_date": "2020-12-25",
          "source": "mobile",
          "user_id": 36041
         },
         {
          "index": 692,
          "nps_group": "detractor",
          "nps_rating": 3,
          "response_date": "2020-12-06",
          "source": "mobile",
          "user_id": 23068
         },
         {
          "index": 693,
          "nps_group": "detractor",
          "nps_rating": 4,
          "response_date": "2020-11-29",
          "source": "mobile",
          "user_id": 40844
         },
         {
          "index": 694,
          "nps_group": "detractor",
          "nps_rating": 6,
          "response_date": "2020-12-29",
          "source": "mobile",
          "user_id": 34883
         },
         {
          "index": 695,
          "nps_group": "detractor",
          "nps_rating": 6,
          "response_date": "2020-12-03",
          "source": "mobile",
          "user_id": 33787
         },
         {
          "index": 696,
          "nps_group": "promoter",
          "nps_rating": 9,
          "response_date": "2020-11-07",
          "source": "mobile",
          "user_id": 20497
         },
         {
          "index": 697,
          "nps_group": "promoter",
          "nps_rating": 10,
          "response_date": "2020-12-27",
          "source": "mobile",
          "user_id": 15419
         },
         {
          "index": 698,
          "nps_group": "passive",
          "nps_rating": 7,
          "response_date": "2020-11-02",
          "source": "mobile",
          "user_id": 20558
         },
         {
          "index": 699,
          "nps_group": "detractor",
          "nps_rating": 3,
          "response_date": "2020-10-22",
          "source": "mobile",
          "user_id": 26236
         },
         {
          "index": 700,
          "nps_group": "passive",
          "nps_rating": 7,
          "response_date": "2020-10-03",
          "source": "mobile",
          "user_id": 28427
         },
         {
          "index": 701,
          "nps_group": "detractor",
          "nps_rating": 2,
          "response_date": "2020-12-13",
          "source": "mobile",
          "user_id": 38735
         },
         {
          "index": 702,
          "nps_group": "detractor",
          "nps_rating": 5,
          "response_date": "2020-12-02",
          "source": "mobile",
          "user_id": 22579
         },
         {
          "index": 703,
          "nps_group": "detractor",
          "nps_rating": 4,
          "response_date": "2020-11-29",
          "source": "mobile",
          "user_id": 17250
         },
         {
          "index": 704,
          "nps_group": "detractor",
          "nps_rating": 3,
          "response_date": "2020-11-17",
          "source": "mobile",
          "user_id": 49287
         },
         {
          "index": 705,
          "nps_group": "detractor",
          "nps_rating": 5,
          "response_date": "2020-11-19",
          "source": "mobile",
          "user_id": 42590
         },
         {
          "index": 706,
          "nps_group": "passive",
          "nps_rating": 8,
          "response_date": "2020-11-03",
          "source": "mobile",
          "user_id": 21734
         },
         {
          "index": 707,
          "nps_group": "promoter",
          "nps_rating": 10,
          "response_date": "2020-11-29",
          "source": "mobile",
          "user_id": 22541
         },
         {
          "index": 708,
          "nps_group": "passive",
          "nps_rating": 7,
          "response_date": "2020-11-17",
          "source": "mobile",
          "user_id": 16174
         },
         {
          "index": 709,
          "nps_group": "detractor",
          "nps_rating": 2,
          "response_date": "2020-11-20",
          "source": "mobile",
          "user_id": 13919
         },
         {
          "index": 710,
          "nps_group": "passive",
          "nps_rating": 7,
          "response_date": "2020-11-23",
          "source": "mobile",
          "user_id": 27996
         },
         {
          "index": 711,
          "nps_group": "passive",
          "nps_rating": 7,
          "response_date": "2020-12-14",
          "source": "mobile",
          "user_id": 42832
         },
         {
          "index": 712,
          "nps_group": "promoter",
          "nps_rating": 10,
          "response_date": "2020-11-07",
          "source": "mobile",
          "user_id": 18835
         },
         {
          "index": 713,
          "nps_group": "detractor",
          "nps_rating": 5,
          "response_date": "2020-10-19",
          "source": "mobile",
          "user_id": 20812
         },
         {
          "index": 714,
          "nps_group": "passive",
          "nps_rating": 7,
          "response_date": "2020-12-02",
          "source": "mobile",
          "user_id": 17924
         },
         {
          "index": 715,
          "nps_group": "promoter",
          "nps_rating": 10,
          "response_date": "2020-10-12",
          "source": "mobile",
          "user_id": 38549
         },
         {
          "index": 716,
          "nps_group": "detractor",
          "nps_rating": 1,
          "response_date": "2020-12-09",
          "source": "mobile",
          "user_id": 26894
         },
         {
          "index": 717,
          "nps_group": "detractor",
          "nps_rating": 2,
          "response_date": "2020-10-09",
          "source": "mobile",
          "user_id": 34935
         },
         {
          "index": 718,
          "nps_group": "promoter",
          "nps_rating": 10,
          "response_date": "2020-11-02",
          "source": "mobile",
          "user_id": 48029
         },
         {
          "index": 719,
          "nps_group": "passive",
          "nps_rating": 8,
          "response_date": "2020-12-29",
          "source": "mobile",
          "user_id": 41441
         },
         {
          "index": 720,
          "nps_group": "passive",
          "nps_rating": 7,
          "response_date": "2020-12-22",
          "source": "mobile",
          "user_id": 18577
         },
         {
          "index": 721,
          "nps_group": "passive",
          "nps_rating": 7,
          "response_date": "2020-10-17",
          "source": "mobile",
          "user_id": 18461
         },
         {
          "index": 722,
          "nps_group": "passive",
          "nps_rating": 7,
          "response_date": "2020-11-13",
          "source": "mobile",
          "user_id": 31682
         },
         {
          "index": 723,
          "nps_group": "promoter",
          "nps_rating": 10,
          "response_date": "2020-10-28",
          "source": "mobile",
          "user_id": 11968
         },
         {
          "index": 724,
          "nps_group": "passive",
          "nps_rating": 7,
          "response_date": "2020-12-11",
          "source": "mobile",
          "user_id": 40166
         },
         {
          "index": 725,
          "nps_group": "passive",
          "nps_rating": 7,
          "response_date": "2020-10-05",
          "source": "mobile",
          "user_id": 38108
         },
         {
          "index": 726,
          "nps_group": "detractor",
          "nps_rating": 4,
          "response_date": "2020-12-28",
          "source": "mobile",
          "user_id": 28578
         },
         {
          "index": 727,
          "nps_group": "passive",
          "nps_rating": 8,
          "response_date": "2020-10-15",
          "source": "mobile",
          "user_id": 12718
         },
         {
          "index": 728,
          "nps_group": "passive",
          "nps_rating": 7,
          "response_date": "2020-12-30",
          "source": "mobile",
          "user_id": 46996
         },
         {
          "index": 729,
          "nps_group": "detractor",
          "nps_rating": 3,
          "response_date": "2020-11-09",
          "source": "mobile",
          "user_id": 10243
         },
         {
          "index": 730,
          "nps_group": "passive",
          "nps_rating": 7,
          "response_date": "2020-10-22",
          "source": "mobile",
          "user_id": 47606
         },
         {
          "index": 731,
          "nps_group": "promoter",
          "nps_rating": 10,
          "response_date": "2020-10-19",
          "source": "mobile",
          "user_id": 23878
         },
         {
          "index": 732,
          "nps_group": "passive",
          "nps_rating": 8,
          "response_date": "2020-11-27",
          "source": "mobile",
          "user_id": 49643
         },
         {
          "index": 733,
          "nps_group": "detractor",
          "nps_rating": 1,
          "response_date": "2020-12-16",
          "source": "mobile",
          "user_id": 27838
         },
         {
          "index": 734,
          "nps_group": "passive",
          "nps_rating": 7,
          "response_date": "2020-11-03",
          "source": "mobile",
          "user_id": 11321
         },
         {
          "index": 735,
          "nps_group": "passive",
          "nps_rating": 7,
          "response_date": "2020-10-23",
          "source": "mobile",
          "user_id": 45671
         },
         {
          "index": 736,
          "nps_group": "passive",
          "nps_rating": 7,
          "response_date": "2020-11-04",
          "source": "mobile",
          "user_id": 37321
         },
         {
          "index": 737,
          "nps_group": "promoter",
          "nps_rating": 9,
          "response_date": "2020-12-31",
          "source": "mobile",
          "user_id": 29828
         },
         {
          "index": 738,
          "nps_group": "promoter",
          "nps_rating": 9,
          "response_date": "2020-10-22",
          "source": "mobile",
          "user_id": 15621
         },
         {
          "index": 739,
          "nps_group": "promoter",
          "nps_rating": 9,
          "response_date": "2020-11-15",
          "source": "mobile",
          "user_id": 21560
         },
         {
          "index": 740,
          "nps_group": "passive",
          "nps_rating": 8,
          "response_date": "2020-10-21",
          "source": "mobile",
          "user_id": 37461
         },
         {
          "index": 741,
          "nps_group": "passive",
          "nps_rating": 8,
          "response_date": "2020-12-17",
          "source": "mobile",
          "user_id": 44391
         },
         {
          "index": 742,
          "nps_group": "passive",
          "nps_rating": 8,
          "response_date": "2020-11-26",
          "source": "mobile",
          "user_id": 41944
         },
         {
          "index": 743,
          "nps_group": "passive",
          "nps_rating": 7,
          "response_date": "2020-11-29",
          "source": "mobile",
          "user_id": 31979
         },
         {
          "index": 744,
          "nps_group": "passive",
          "nps_rating": 7,
          "response_date": "2020-12-11",
          "source": "mobile",
          "user_id": 24547
         },
         {
          "index": 745,
          "nps_group": "promoter",
          "nps_rating": 10,
          "response_date": "2020-11-02",
          "source": "mobile",
          "user_id": 30931
         },
         {
          "index": 746,
          "nps_group": "promoter",
          "nps_rating": 9,
          "response_date": "2020-10-13",
          "source": "mobile",
          "user_id": 39029
         },
         {
          "index": 747,
          "nps_group": "passive",
          "nps_rating": 7,
          "response_date": "2020-10-11",
          "source": "mobile",
          "user_id": 39730
         },
         {
          "index": 748,
          "nps_group": "detractor",
          "nps_rating": 2,
          "response_date": "2020-10-01",
          "source": "mobile",
          "user_id": 28071
         },
         {
          "index": 749,
          "nps_group": "detractor",
          "nps_rating": 4,
          "response_date": "2020-12-18",
          "source": "mobile",
          "user_id": 45102
         },
         {
          "index": 750,
          "nps_group": "passive",
          "nps_rating": 7,
          "response_date": "2020-11-09",
          "source": "mobile",
          "user_id": 32308
         },
         {
          "index": 751,
          "nps_group": "detractor",
          "nps_rating": 6,
          "response_date": "2020-11-27",
          "source": "mobile",
          "user_id": 37085
         },
         {
          "index": 752,
          "nps_group": "passive",
          "nps_rating": 7,
          "response_date": "2020-10-01",
          "source": "mobile",
          "user_id": 42419
         },
         {
          "index": 753,
          "nps_group": "passive",
          "nps_rating": 7,
          "response_date": "2020-11-24",
          "source": "mobile",
          "user_id": 18328
         },
         {
          "index": 754,
          "nps_group": "detractor",
          "nps_rating": 4,
          "response_date": "2020-10-07",
          "source": "mobile",
          "user_id": 18814
         },
         {
          "index": 755,
          "nps_group": "promoter",
          "nps_rating": 9,
          "response_date": "2020-10-11",
          "source": "mobile",
          "user_id": 48942
         },
         {
          "index": 756,
          "nps_group": "passive",
          "nps_rating": 7,
          "response_date": "2020-11-28",
          "source": "mobile",
          "user_id": 14371
         },
         {
          "index": 757,
          "nps_group": "passive",
          "nps_rating": 7,
          "response_date": "2020-12-23",
          "source": "mobile",
          "user_id": 29953
         },
         {
          "index": 758,
          "nps_group": "detractor",
          "nps_rating": 6,
          "response_date": "2020-10-05",
          "source": "mobile",
          "user_id": 33538
         },
         {
          "index": 759,
          "nps_group": "passive",
          "nps_rating": 8,
          "response_date": "2020-10-24",
          "source": "mobile",
          "user_id": 34659
         },
         {
          "index": 760,
          "nps_group": "passive",
          "nps_rating": 7,
          "response_date": "2020-12-03",
          "source": "mobile",
          "user_id": 16549
         },
         {
          "index": 761,
          "nps_group": "detractor",
          "nps_rating": 5,
          "response_date": "2020-12-14",
          "source": "mobile",
          "user_id": 13063
         },
         {
          "index": 762,
          "nps_group": "promoter",
          "nps_rating": 9,
          "response_date": "2020-11-25",
          "source": "mobile",
          "user_id": 44189
         },
         {
          "index": 763,
          "nps_group": "detractor",
          "nps_rating": 6,
          "response_date": "2020-10-13",
          "source": "mobile",
          "user_id": 12940
         },
         {
          "index": 764,
          "nps_group": "passive",
          "nps_rating": 7,
          "response_date": "2020-11-15",
          "source": "mobile",
          "user_id": 30397
         },
         {
          "index": 765,
          "nps_group": "promoter",
          "nps_rating": 9,
          "response_date": "2020-12-25",
          "source": "mobile",
          "user_id": 41567
         },
         {
          "index": 766,
          "nps_group": "passive",
          "nps_rating": 7,
          "response_date": "2020-10-13",
          "source": "mobile",
          "user_id": 23711
         },
         {
          "index": 767,
          "nps_group": "passive",
          "nps_rating": 8,
          "response_date": "2020-12-18",
          "source": "mobile",
          "user_id": 44435
         },
         {
          "index": 768,
          "nps_group": "detractor",
          "nps_rating": 6,
          "response_date": "2020-12-31",
          "source": "mobile",
          "user_id": 38930
         },
         {
          "index": 769,
          "nps_group": "passive",
          "nps_rating": 7,
          "response_date": "2020-12-01",
          "source": "mobile",
          "user_id": 14726
         },
         {
          "index": 770,
          "nps_group": "detractor",
          "nps_rating": 5,
          "response_date": "2020-11-25",
          "source": "mobile",
          "user_id": 47238
         },
         {
          "index": 771,
          "nps_group": "passive",
          "nps_rating": 7,
          "response_date": "2020-10-02",
          "source": "mobile",
          "user_id": 32457
         },
         {
          "index": 772,
          "nps_group": "passive",
          "nps_rating": 8,
          "response_date": "2020-11-30",
          "source": "mobile",
          "user_id": 44261
         },
         {
          "index": 773,
          "nps_group": "passive",
          "nps_rating": 7,
          "response_date": "2020-10-26",
          "source": "mobile",
          "user_id": 37586
         },
         {
          "index": 774,
          "nps_group": "passive",
          "nps_rating": 7,
          "response_date": "2020-12-10",
          "source": "mobile",
          "user_id": 36921
         },
         {
          "index": 775,
          "nps_group": "detractor",
          "nps_rating": 3,
          "response_date": "2020-11-12",
          "source": "mobile",
          "user_id": 31593
         },
         {
          "index": 776,
          "nps_group": "detractor",
          "nps_rating": 1,
          "response_date": "2020-12-16",
          "source": "mobile",
          "user_id": 44998
         },
         {
          "index": 777,
          "nps_group": "detractor",
          "nps_rating": 1,
          "response_date": "2020-12-04",
          "source": "mobile",
          "user_id": 20752
         },
         {
          "index": 778,
          "nps_group": "passive",
          "nps_rating": 7,
          "response_date": "2020-12-09",
          "source": "mobile",
          "user_id": 21940
         },
         {
          "index": 779,
          "nps_group": "promoter",
          "nps_rating": 9,
          "response_date": "2020-12-24",
          "source": "mobile",
          "user_id": 30716
         },
         {
          "index": 780,
          "nps_group": "passive",
          "nps_rating": 8,
          "response_date": "2020-11-27",
          "source": "mobile",
          "user_id": 21610
         },
         {
          "index": 781,
          "nps_group": "promoter",
          "nps_rating": 9,
          "response_date": "2020-10-21",
          "source": "mobile",
          "user_id": 14079
         },
         {
          "index": 782,
          "nps_group": "passive",
          "nps_rating": 7,
          "response_date": "2020-12-30",
          "source": "mobile",
          "user_id": 40863
         },
         {
          "index": 783,
          "nps_group": "promoter",
          "nps_rating": 9,
          "response_date": "2020-12-26",
          "source": "mobile",
          "user_id": 15659
         },
         {
          "index": 784,
          "nps_group": "passive",
          "nps_rating": 8,
          "response_date": "2020-11-25",
          "source": "mobile",
          "user_id": 13433
         },
         {
          "index": 785,
          "nps_group": "promoter",
          "nps_rating": 9,
          "response_date": "2020-10-22",
          "source": "mobile",
          "user_id": 18610
         },
         {
          "index": 786,
          "nps_group": "passive",
          "nps_rating": 7,
          "response_date": "2020-10-09",
          "source": "mobile",
          "user_id": 33363
         },
         {
          "index": 787,
          "nps_group": "passive",
          "nps_rating": 8,
          "response_date": "2020-10-11",
          "source": "mobile",
          "user_id": 23901
         },
         {
          "index": 788,
          "nps_group": "passive",
          "nps_rating": 7,
          "response_date": "2020-10-15",
          "source": "mobile",
          "user_id": 19446
         },
         {
          "index": 789,
          "nps_group": "detractor",
          "nps_rating": 6,
          "response_date": "2020-12-13",
          "source": "mobile",
          "user_id": 10222
         },
         {
          "index": 790,
          "nps_group": "detractor",
          "nps_rating": 6,
          "response_date": "2020-10-18",
          "source": "mobile",
          "user_id": 17795
         },
         {
          "index": 791,
          "nps_group": "passive",
          "nps_rating": 7,
          "response_date": "2020-11-02",
          "source": "mobile",
          "user_id": 15995
         },
         {
          "index": 792,
          "nps_group": "passive",
          "nps_rating": 7,
          "response_date": "2020-11-22",
          "source": "mobile",
          "user_id": 47865
         },
         {
          "index": 793,
          "nps_group": "detractor",
          "nps_rating": 4,
          "response_date": "2020-11-07",
          "source": "mobile",
          "user_id": 33926
         },
         {
          "index": 794,
          "nps_group": "detractor",
          "nps_rating": 5,
          "response_date": "2020-11-14",
          "source": "mobile",
          "user_id": 11491
         },
         {
          "index": 795,
          "nps_group": "detractor",
          "nps_rating": 4,
          "response_date": "2020-10-12",
          "source": "mobile",
          "user_id": 27242
         },
         {
          "index": 796,
          "nps_group": "passive",
          "nps_rating": 7,
          "response_date": "2020-12-13",
          "source": "mobile",
          "user_id": 47475
         },
         {
          "index": 797,
          "nps_group": "passive",
          "nps_rating": 8,
          "response_date": "2020-11-12",
          "source": "mobile",
          "user_id": 41736
         },
         {
          "index": 798,
          "nps_group": "passive",
          "nps_rating": 7,
          "response_date": "2020-11-26",
          "source": "mobile",
          "user_id": 17669
         },
         {
          "index": 799,
          "nps_group": "promoter",
          "nps_rating": 9,
          "response_date": "2020-12-12",
          "source": "mobile",
          "user_id": 15719
         },
         {
          "index": 800,
          "nps_group": "passive",
          "nps_rating": 8,
          "response_date": "2020-10-02",
          "source": "mobile",
          "user_id": 22522
         },
         {
          "index": 801,
          "nps_group": "passive",
          "nps_rating": 7,
          "response_date": "2020-10-29",
          "source": "mobile",
          "user_id": 31718
         },
         {
          "index": 802,
          "nps_group": "passive",
          "nps_rating": 8,
          "response_date": "2020-12-29",
          "source": "mobile",
          "user_id": 29973
         },
         {
          "index": 803,
          "nps_group": "passive",
          "nps_rating": 7,
          "response_date": "2020-11-03",
          "source": "mobile",
          "user_id": 24411
         },
         {
          "index": 804,
          "nps_group": "promoter",
          "nps_rating": 9,
          "response_date": "2020-10-07",
          "source": "mobile",
          "user_id": 14053
         },
         {
          "index": 805,
          "nps_group": "promoter",
          "nps_rating": 10,
          "response_date": "2020-11-27",
          "source": "mobile",
          "user_id": 12855
         },
         {
          "index": 806,
          "nps_group": "passive",
          "nps_rating": 8,
          "response_date": "2020-12-16",
          "source": "mobile",
          "user_id": 17932
         },
         {
          "index": 807,
          "nps_group": "passive",
          "nps_rating": 8,
          "response_date": "2020-12-03",
          "source": "mobile",
          "user_id": 47753
         },
         {
          "index": 808,
          "nps_group": "detractor",
          "nps_rating": 6,
          "response_date": "2020-11-25",
          "source": "mobile",
          "user_id": 24005
         },
         {
          "index": 809,
          "nps_group": "detractor",
          "nps_rating": 3,
          "response_date": "2020-12-22",
          "source": "mobile",
          "user_id": 40738
         },
         {
          "index": 810,
          "nps_group": "promoter",
          "nps_rating": 9,
          "response_date": "2020-12-12",
          "source": "mobile",
          "user_id": 21976
         },
         {
          "index": 811,
          "nps_group": "passive",
          "nps_rating": 7,
          "response_date": "2020-11-24",
          "source": "mobile",
          "user_id": 31843
         },
         {
          "index": 812,
          "nps_group": "detractor",
          "nps_rating": 5,
          "response_date": "2020-12-24",
          "source": "mobile",
          "user_id": 34512
         },
         {
          "index": 813,
          "nps_group": "promoter",
          "nps_rating": 9,
          "response_date": "2020-11-25",
          "source": "mobile",
          "user_id": 37493
         },
         {
          "index": 814,
          "nps_group": "promoter",
          "nps_rating": 9,
          "response_date": "2020-10-15",
          "source": "mobile",
          "user_id": 30669
         },
         {
          "index": 815,
          "nps_group": "passive",
          "nps_rating": 8,
          "response_date": "2020-12-27",
          "source": "mobile",
          "user_id": 28886
         },
         {
          "index": 816,
          "nps_group": "detractor",
          "nps_rating": 6,
          "response_date": "2020-11-16",
          "source": "mobile",
          "user_id": 49183
         },
         {
          "index": 817,
          "nps_group": "promoter",
          "nps_rating": 10,
          "response_date": "2020-12-11",
          "source": "mobile",
          "user_id": 40815
         },
         {
          "index": 818,
          "nps_group": "detractor",
          "nps_rating": 6,
          "response_date": "2020-11-18",
          "source": "mobile",
          "user_id": 34610
         },
         {
          "index": 819,
          "nps_group": "passive",
          "nps_rating": 7,
          "response_date": "2020-10-30",
          "source": "mobile",
          "user_id": 43460
         },
         {
          "index": 820,
          "nps_group": "passive",
          "nps_rating": 7,
          "response_date": "2020-11-28",
          "source": "mobile",
          "user_id": 43914
         },
         {
          "index": 821,
          "nps_group": "detractor",
          "nps_rating": 6,
          "response_date": "2020-11-22",
          "source": "mobile",
          "user_id": 14757
         },
         {
          "index": 822,
          "nps_group": "passive",
          "nps_rating": 7,
          "response_date": "2020-12-04",
          "source": "mobile",
          "user_id": 16470
         },
         {
          "index": 823,
          "nps_group": "promoter",
          "nps_rating": 10,
          "response_date": "2020-10-31",
          "source": "mobile",
          "user_id": 26676
         },
         {
          "index": 824,
          "nps_group": "passive",
          "nps_rating": 8,
          "response_date": "2020-12-04",
          "source": "mobile",
          "user_id": 30039
         },
         {
          "index": 825,
          "nps_group": "passive",
          "nps_rating": 8,
          "response_date": "2020-11-06",
          "source": "mobile",
          "user_id": 36727
         },
         {
          "index": 826,
          "nps_group": "passive",
          "nps_rating": 7,
          "response_date": "2020-11-05",
          "source": "mobile",
          "user_id": 47517
         },
         {
          "index": 827,
          "nps_group": "passive",
          "nps_rating": 7,
          "response_date": "2020-11-24",
          "source": "mobile",
          "user_id": 10822
         },
         {
          "index": 828,
          "nps_group": "detractor",
          "nps_rating": 0,
          "response_date": "2020-11-24",
          "source": "mobile",
          "user_id": 28193
         },
         {
          "index": 829,
          "nps_group": "promoter",
          "nps_rating": 9,
          "response_date": "2020-10-24",
          "source": "mobile",
          "user_id": 23436
         },
         {
          "index": 830,
          "nps_group": "passive",
          "nps_rating": 7,
          "response_date": "2020-12-14",
          "source": "mobile",
          "user_id": 28898
         },
         {
          "index": 831,
          "nps_group": "passive",
          "nps_rating": 8,
          "response_date": "2020-12-26",
          "source": "mobile",
          "user_id": 30214
         },
         {
          "index": 832,
          "nps_group": "detractor",
          "nps_rating": 4,
          "response_date": "2020-10-31",
          "source": "mobile",
          "user_id": 11463
         },
         {
          "index": 833,
          "nps_group": "passive",
          "nps_rating": 7,
          "response_date": "2020-12-13",
          "source": "mobile",
          "user_id": 20712
         },
         {
          "index": 834,
          "nps_group": "detractor",
          "nps_rating": 6,
          "response_date": "2020-11-23",
          "source": "mobile",
          "user_id": 18453
         },
         {
          "index": 835,
          "nps_group": "detractor",
          "nps_rating": 6,
          "response_date": "2020-10-08",
          "source": "mobile",
          "user_id": 22952
         },
         {
          "index": 836,
          "nps_group": "detractor",
          "nps_rating": 6,
          "response_date": "2020-12-23",
          "source": "mobile",
          "user_id": 40544
         },
         {
          "index": 837,
          "nps_group": "passive",
          "nps_rating": 8,
          "response_date": "2020-10-13",
          "source": "mobile",
          "user_id": 34554
         },
         {
          "index": 838,
          "nps_group": "passive",
          "nps_rating": 7,
          "response_date": "2020-12-28",
          "source": "mobile",
          "user_id": 20756
         },
         {
          "index": 839,
          "nps_group": "detractor",
          "nps_rating": 5,
          "response_date": "2020-10-14",
          "source": "mobile",
          "user_id": 46133
         },
         {
          "index": 840,
          "nps_group": "promoter",
          "nps_rating": 9,
          "response_date": "2020-10-03",
          "source": "mobile",
          "user_id": 18182
         },
         {
          "index": 841,
          "nps_group": "promoter",
          "nps_rating": 9,
          "response_date": "2020-11-20",
          "source": "mobile",
          "user_id": 23818
         },
         {
          "index": 842,
          "nps_group": "detractor",
          "nps_rating": 5,
          "response_date": "2020-10-12",
          "source": "mobile",
          "user_id": 28421
         },
         {
          "index": 843,
          "nps_group": "passive",
          "nps_rating": 8,
          "response_date": "2020-11-07",
          "source": "mobile",
          "user_id": 21162
         },
         {
          "index": 844,
          "nps_group": "promoter",
          "nps_rating": 10,
          "response_date": "2020-11-26",
          "source": "mobile",
          "user_id": 12498
         },
         {
          "index": 845,
          "nps_group": "promoter",
          "nps_rating": 9,
          "response_date": "2020-12-05",
          "source": "mobile",
          "user_id": 35867
         },
         {
          "index": 846,
          "nps_group": "promoter",
          "nps_rating": 10,
          "response_date": "2020-12-06",
          "source": "mobile",
          "user_id": 30661
         },
         {
          "index": 847,
          "nps_group": "passive",
          "nps_rating": 7,
          "response_date": "2020-11-04",
          "source": "mobile",
          "user_id": 24814
         },
         {
          "index": 848,
          "nps_group": "passive",
          "nps_rating": 7,
          "response_date": "2020-11-21",
          "source": "mobile",
          "user_id": 30581
         },
         {
          "index": 849,
          "nps_group": "passive",
          "nps_rating": 7,
          "response_date": "2020-12-08",
          "source": "mobile",
          "user_id": 32965
         },
         {
          "index": 850,
          "nps_group": "passive",
          "nps_rating": 8,
          "response_date": "2020-12-26",
          "source": "mobile",
          "user_id": 21626
         },
         {
          "index": 851,
          "nps_group": "passive",
          "nps_rating": 7,
          "response_date": "2020-12-23",
          "source": "mobile",
          "user_id": 42285
         },
         {
          "index": 852,
          "nps_group": "passive",
          "nps_rating": 7,
          "response_date": "2020-11-16",
          "source": "mobile",
          "user_id": 20192
         },
         {
          "index": 853,
          "nps_group": "passive",
          "nps_rating": 7,
          "response_date": "2020-11-21",
          "source": "mobile",
          "user_id": 43045
         },
         {
          "index": 854,
          "nps_group": "passive",
          "nps_rating": 7,
          "response_date": "2020-11-14",
          "source": "mobile",
          "user_id": 22645
         },
         {
          "index": 855,
          "nps_group": "passive",
          "nps_rating": 8,
          "response_date": "2020-11-19",
          "source": "mobile",
          "user_id": 16995
         },
         {
          "index": 856,
          "nps_group": "passive",
          "nps_rating": 7,
          "response_date": "2020-11-17",
          "source": "mobile",
          "user_id": 47331
         },
         {
          "index": 857,
          "nps_group": "promoter",
          "nps_rating": 9,
          "response_date": "2020-12-19",
          "source": "mobile",
          "user_id": 18318
         },
         {
          "index": 858,
          "nps_group": "detractor",
          "nps_rating": 2,
          "response_date": "2020-11-02",
          "source": "mobile",
          "user_id": 35814
         },
         {
          "index": 859,
          "nps_group": "passive",
          "nps_rating": 7,
          "response_date": "2020-10-24",
          "source": "mobile",
          "user_id": 10861
         },
         {
          "index": 860,
          "nps_group": "passive",
          "nps_rating": 7,
          "response_date": "2020-11-12",
          "source": "mobile",
          "user_id": 29509
         },
         {
          "index": 861,
          "nps_group": "passive",
          "nps_rating": 7,
          "response_date": "2020-11-27",
          "source": "mobile",
          "user_id": 36575
         },
         {
          "index": 862,
          "nps_group": "detractor",
          "nps_rating": 5,
          "response_date": "2020-12-21",
          "source": "mobile",
          "user_id": 19042
         },
         {
          "index": 863,
          "nps_group": "passive",
          "nps_rating": 8,
          "response_date": "2020-12-24",
          "source": "mobile",
          "user_id": 26220
         },
         {
          "index": 864,
          "nps_group": "passive",
          "nps_rating": 8,
          "response_date": "2020-10-18",
          "source": "mobile",
          "user_id": 33825
         },
         {
          "index": 865,
          "nps_group": "detractor",
          "nps_rating": 6,
          "response_date": "2020-10-30",
          "source": "mobile",
          "user_id": 29599
         },
         {
          "index": 866,
          "nps_group": "detractor",
          "nps_rating": 2,
          "response_date": "2020-10-04",
          "source": "mobile",
          "user_id": 18337
         },
         {
          "index": 867,
          "nps_group": "promoter",
          "nps_rating": 10,
          "response_date": "2020-12-03",
          "source": "mobile",
          "user_id": 38613
         },
         {
          "index": 868,
          "nps_group": "passive",
          "nps_rating": 8,
          "response_date": "2020-10-01",
          "source": "mobile",
          "user_id": 23366
         },
         {
          "index": 869,
          "nps_group": "passive",
          "nps_rating": 7,
          "response_date": "2020-12-15",
          "source": "mobile",
          "user_id": 14902
         },
         {
          "index": 870,
          "nps_group": "detractor",
          "nps_rating": 6,
          "response_date": "2020-11-25",
          "source": "mobile",
          "user_id": 32983
         },
         {
          "index": 871,
          "nps_group": "detractor",
          "nps_rating": 4,
          "response_date": "2020-12-30",
          "source": "mobile",
          "user_id": 32151
         },
         {
          "index": 872,
          "nps_group": "detractor",
          "nps_rating": 3,
          "response_date": "2020-11-10",
          "source": "mobile",
          "user_id": 31564
         },
         {
          "index": 873,
          "nps_group": "promoter",
          "nps_rating": 9,
          "response_date": "2020-10-27",
          "source": "mobile",
          "user_id": 27078
         },
         {
          "index": 874,
          "nps_group": "passive",
          "nps_rating": 7,
          "response_date": "2020-10-09",
          "source": "mobile",
          "user_id": 17528
         },
         {
          "index": 875,
          "nps_group": "passive",
          "nps_rating": 7,
          "response_date": "2020-12-13",
          "source": "mobile",
          "user_id": 15839
         },
         {
          "index": 876,
          "nps_group": "passive",
          "nps_rating": 7,
          "response_date": "2020-10-25",
          "source": "mobile",
          "user_id": 17218
         },
         {
          "index": 877,
          "nps_group": "promoter",
          "nps_rating": 10,
          "response_date": "2020-12-18",
          "source": "mobile",
          "user_id": 47804
         },
         {
          "index": 878,
          "nps_group": "detractor",
          "nps_rating": 6,
          "response_date": "2020-10-17",
          "source": "mobile",
          "user_id": 31629
         },
         {
          "index": 879,
          "nps_group": "detractor",
          "nps_rating": 3,
          "response_date": "2020-11-26",
          "source": "mobile",
          "user_id": 46146
         },
         {
          "index": 880,
          "nps_group": "passive",
          "nps_rating": 8,
          "response_date": "2020-12-25",
          "source": "mobile",
          "user_id": 23439
         },
         {
          "index": 881,
          "nps_group": "detractor",
          "nps_rating": 5,
          "response_date": "2020-10-22",
          "source": "mobile",
          "user_id": 34746
         },
         {
          "index": 882,
          "nps_group": "promoter",
          "nps_rating": 9,
          "response_date": "2020-12-26",
          "source": "mobile",
          "user_id": 19181
         },
         {
          "index": 883,
          "nps_group": "detractor",
          "nps_rating": 6,
          "response_date": "2020-11-17",
          "source": "mobile",
          "user_id": 19306
         },
         {
          "index": 884,
          "nps_group": "passive",
          "nps_rating": 8,
          "response_date": "2020-12-18",
          "source": "mobile",
          "user_id": 41336
         },
         {
          "index": 885,
          "nps_group": "detractor",
          "nps_rating": 5,
          "response_date": "2020-10-15",
          "source": "mobile",
          "user_id": 11479
         },
         {
          "index": 886,
          "nps_group": "passive",
          "nps_rating": 7,
          "response_date": "2020-12-21",
          "source": "mobile",
          "user_id": 11312
         },
         {
          "index": 887,
          "nps_group": "passive",
          "nps_rating": 7,
          "response_date": "2020-10-24",
          "source": "mobile",
          "user_id": 13637
         },
         {
          "index": 888,
          "nps_group": "passive",
          "nps_rating": 7,
          "response_date": "2020-10-29",
          "source": "mobile",
          "user_id": 13924
         },
         {
          "index": 889,
          "nps_group": "passive",
          "nps_rating": 8,
          "response_date": "2020-11-19",
          "source": "mobile",
          "user_id": 34755
         },
         {
          "index": 890,
          "nps_group": "detractor",
          "nps_rating": 6,
          "response_date": "2020-11-06",
          "source": "mobile",
          "user_id": 45106
         },
         {
          "index": 891,
          "nps_group": "detractor",
          "nps_rating": 3,
          "response_date": "2020-12-12",
          "source": "mobile",
          "user_id": 26190
         },
         {
          "index": 892,
          "nps_group": "promoter",
          "nps_rating": 10,
          "response_date": "2020-10-01",
          "source": "mobile",
          "user_id": 18776
         },
         {
          "index": 893,
          "nps_group": "passive",
          "nps_rating": 8,
          "response_date": "2020-11-21",
          "source": "mobile",
          "user_id": 15498
         },
         {
          "index": 894,
          "nps_group": "detractor",
          "nps_rating": 5,
          "response_date": "2020-11-30",
          "source": "mobile",
          "user_id": 14454
         },
         {
          "index": 895,
          "nps_group": "detractor",
          "nps_rating": 5,
          "response_date": "2020-12-19",
          "source": "mobile",
          "user_id": 26858
         },
         {
          "index": 896,
          "nps_group": "promoter",
          "nps_rating": 9,
          "response_date": "2020-12-25",
          "source": "mobile",
          "user_id": 30300
         },
         {
          "index": 897,
          "nps_group": "passive",
          "nps_rating": 7,
          "response_date": "2020-12-09",
          "source": "mobile",
          "user_id": 37933
         },
         {
          "index": 898,
          "nps_group": "promoter",
          "nps_rating": 9,
          "response_date": "2020-11-09",
          "source": "mobile",
          "user_id": 45903
         },
         {
          "index": 899,
          "nps_group": "passive",
          "nps_rating": 7,
          "response_date": "2020-10-03",
          "source": "mobile",
          "user_id": 40089
         },
         {
          "index": 900,
          "nps_group": "promoter",
          "nps_rating": 9,
          "response_date": "2020-10-11",
          "source": "mobile",
          "user_id": 25477
         },
         {
          "index": 901,
          "nps_group": "promoter",
          "nps_rating": 10,
          "response_date": "2020-10-04",
          "source": "mobile",
          "user_id": 33671
         },
         {
          "index": 902,
          "nps_group": "promoter",
          "nps_rating": 10,
          "response_date": "2020-11-26",
          "source": "mobile",
          "user_id": 39096
         },
         {
          "index": 903,
          "nps_group": "passive",
          "nps_rating": 8,
          "response_date": "2020-10-25",
          "source": "mobile",
          "user_id": 32707
         },
         {
          "index": 904,
          "nps_group": "passive",
          "nps_rating": 7,
          "response_date": "2020-12-03",
          "source": "mobile",
          "user_id": 23144
         },
         {
          "index": 905,
          "nps_group": "detractor",
          "nps_rating": 1,
          "response_date": "2020-11-12",
          "source": "mobile",
          "user_id": 44713
         },
         {
          "index": 906,
          "nps_group": "detractor",
          "nps_rating": 4,
          "response_date": "2020-12-04",
          "source": "mobile",
          "user_id": 23086
         },
         {
          "index": 907,
          "nps_group": "detractor",
          "nps_rating": 4,
          "response_date": "2020-12-08",
          "source": "mobile",
          "user_id": 40695
         },
         {
          "index": 908,
          "nps_group": "promoter",
          "nps_rating": 9,
          "response_date": "2020-12-12",
          "source": "mobile",
          "user_id": 22890
         },
         {
          "index": 909,
          "nps_group": "detractor",
          "nps_rating": 5,
          "response_date": "2020-12-30",
          "source": "mobile",
          "user_id": 46913
         },
         {
          "index": 910,
          "nps_group": "passive",
          "nps_rating": 7,
          "response_date": "2020-12-25",
          "source": "mobile",
          "user_id": 29760
         },
         {
          "index": 911,
          "nps_group": "promoter",
          "nps_rating": 9,
          "response_date": "2020-11-08",
          "source": "mobile",
          "user_id": 20571
         },
         {
          "index": 912,
          "nps_group": "detractor",
          "nps_rating": 3,
          "response_date": "2020-12-22",
          "source": "mobile",
          "user_id": 49160
         },
         {
          "index": 913,
          "nps_group": "detractor",
          "nps_rating": 4,
          "response_date": "2020-12-21",
          "source": "mobile",
          "user_id": 24606
         },
         {
          "index": 914,
          "nps_group": "detractor",
          "nps_rating": 3,
          "response_date": "2020-10-31",
          "source": "mobile",
          "user_id": 11357
         },
         {
          "index": 915,
          "nps_group": "promoter",
          "nps_rating": 10,
          "response_date": "2020-10-20",
          "source": "mobile",
          "user_id": 25398
         },
         {
          "index": 916,
          "nps_group": "detractor",
          "nps_rating": 4,
          "response_date": "2020-12-04",
          "source": "mobile",
          "user_id": 42231
         },
         {
          "index": 917,
          "nps_group": "detractor",
          "nps_rating": 1,
          "response_date": "2020-10-26",
          "source": "mobile",
          "user_id": 35248
         },
         {
          "index": 918,
          "nps_group": "passive",
          "nps_rating": 7,
          "response_date": "2020-12-19",
          "source": "mobile",
          "user_id": 48877
         },
         {
          "index": 919,
          "nps_group": "passive",
          "nps_rating": 7,
          "response_date": "2020-11-07",
          "source": "mobile",
          "user_id": 10001
         },
         {
          "index": 920,
          "nps_group": "detractor",
          "nps_rating": 2,
          "response_date": "2020-11-18",
          "source": "mobile",
          "user_id": 12440
         },
         {
          "index": 921,
          "nps_group": "promoter",
          "nps_rating": 10,
          "response_date": "2020-10-12",
          "source": "mobile",
          "user_id": 30293
         },
         {
          "index": 922,
          "nps_group": "detractor",
          "nps_rating": 1,
          "response_date": "2020-10-14",
          "source": "mobile",
          "user_id": 40538
         },
         {
          "index": 923,
          "nps_group": "promoter",
          "nps_rating": 9,
          "response_date": "2020-11-25",
          "source": "mobile",
          "user_id": 28267
         },
         {
          "index": 924,
          "nps_group": "detractor",
          "nps_rating": 5,
          "response_date": "2020-10-02",
          "source": "mobile",
          "user_id": 13549
         },
         {
          "index": 925,
          "nps_group": "detractor",
          "nps_rating": 6,
          "response_date": "2020-10-01",
          "source": "mobile",
          "user_id": 42717
         },
         {
          "index": 926,
          "nps_group": "detractor",
          "nps_rating": 0,
          "response_date": "2020-11-28",
          "source": "mobile",
          "user_id": 29933
         },
         {
          "index": 927,
          "nps_group": "passive",
          "nps_rating": 8,
          "response_date": "2020-10-06",
          "source": "mobile",
          "user_id": 17238
         },
         {
          "index": 928,
          "nps_group": "promoter",
          "nps_rating": 9,
          "response_date": "2020-10-27",
          "source": "mobile",
          "user_id": 12579
         },
         {
          "index": 929,
          "nps_group": "detractor",
          "nps_rating": 4,
          "response_date": "2020-11-06",
          "source": "mobile",
          "user_id": 47476
         },
         {
          "index": 930,
          "nps_group": "detractor",
          "nps_rating": 3,
          "response_date": "2020-12-19",
          "source": "mobile",
          "user_id": 30559
         },
         {
          "index": 931,
          "nps_group": "promoter",
          "nps_rating": 9,
          "response_date": "2020-12-24",
          "source": "mobile",
          "user_id": 18553
         },
         {
          "index": 932,
          "nps_group": "detractor",
          "nps_rating": 3,
          "response_date": "2020-11-25",
          "source": "mobile",
          "user_id": 40516
         },
         {
          "index": 933,
          "nps_group": "passive",
          "nps_rating": 7,
          "response_date": "2020-10-03",
          "source": "mobile",
          "user_id": 29113
         },
         {
          "index": 934,
          "nps_group": "promoter",
          "nps_rating": 9,
          "response_date": "2020-11-24",
          "source": "mobile",
          "user_id": 29012
         },
         {
          "index": 935,
          "nps_group": "passive",
          "nps_rating": 8,
          "response_date": "2020-12-26",
          "source": "mobile",
          "user_id": 34095
         },
         {
          "index": 936,
          "nps_group": "passive",
          "nps_rating": 7,
          "response_date": "2020-10-15",
          "source": "mobile",
          "user_id": 32035
         },
         {
          "index": 937,
          "nps_group": "detractor",
          "nps_rating": 2,
          "response_date": "2020-10-24",
          "source": "mobile",
          "user_id": 48379
         },
         {
          "index": 938,
          "nps_group": "detractor",
          "nps_rating": 3,
          "response_date": "2020-11-23",
          "source": "mobile",
          "user_id": 18536
         },
         {
          "index": 939,
          "nps_group": "passive",
          "nps_rating": 7,
          "response_date": "2020-10-07",
          "source": "mobile",
          "user_id": 46776
         },
         {
          "index": 940,
          "nps_group": "passive",
          "nps_rating": 7,
          "response_date": "2020-12-28",
          "source": "mobile",
          "user_id": 28384
         },
         {
          "index": 941,
          "nps_group": "passive",
          "nps_rating": 8,
          "response_date": "2020-10-04",
          "source": "mobile",
          "user_id": 16070
         },
         {
          "index": 942,
          "nps_group": "passive",
          "nps_rating": 7,
          "response_date": "2020-12-16",
          "source": "mobile",
          "user_id": 19617
         },
         {
          "index": 943,
          "nps_group": "passive",
          "nps_rating": 7,
          "response_date": "2020-12-07",
          "source": "mobile",
          "user_id": 34830
         },
         {
          "index": 944,
          "nps_group": "detractor",
          "nps_rating": 5,
          "response_date": "2020-11-03",
          "source": "mobile",
          "user_id": 40968
         },
         {
          "index": 945,
          "nps_group": "detractor",
          "nps_rating": 5,
          "response_date": "2020-11-25",
          "source": "mobile",
          "user_id": 31438
         },
         {
          "index": 946,
          "nps_group": "promoter",
          "nps_rating": 10,
          "response_date": "2020-10-16",
          "source": "mobile",
          "user_id": 13458
         },
         {
          "index": 947,
          "nps_group": "promoter",
          "nps_rating": 9,
          "response_date": "2020-10-01",
          "source": "mobile",
          "user_id": 34007
         },
         {
          "index": 948,
          "nps_group": "detractor",
          "nps_rating": 5,
          "response_date": "2020-11-20",
          "source": "mobile",
          "user_id": 47506
         },
         {
          "index": 949,
          "nps_group": "passive",
          "nps_rating": 7,
          "response_date": "2020-12-28",
          "source": "mobile",
          "user_id": 20167
         },
         {
          "index": 950,
          "nps_group": "passive",
          "nps_rating": 8,
          "response_date": "2020-11-02",
          "source": "mobile",
          "user_id": 13664
         },
         {
          "index": 951,
          "nps_group": "detractor",
          "nps_rating": 6,
          "response_date": "2020-12-13",
          "source": "mobile",
          "user_id": 39260
         },
         {
          "index": 952,
          "nps_group": "detractor",
          "nps_rating": 1,
          "response_date": "2020-10-13",
          "source": "mobile",
          "user_id": 28908
         },
         {
          "index": 953,
          "nps_group": "passive",
          "nps_rating": 7,
          "response_date": "2020-11-17",
          "source": "mobile",
          "user_id": 37061
         },
         {
          "index": 954,
          "nps_group": "detractor",
          "nps_rating": 6,
          "response_date": "2020-12-12",
          "source": "mobile",
          "user_id": 28339
         },
         {
          "index": 955,
          "nps_group": "promoter",
          "nps_rating": 9,
          "response_date": "2020-12-06",
          "source": "mobile",
          "user_id": 25201
         },
         {
          "index": 956,
          "nps_group": "promoter",
          "nps_rating": 10,
          "response_date": "2020-11-09",
          "source": "mobile",
          "user_id": 10791
         },
         {
          "index": 957,
          "nps_group": "promoter",
          "nps_rating": 9,
          "response_date": "2020-11-03",
          "source": "mobile",
          "user_id": 28518
         },
         {
          "index": 958,
          "nps_group": "passive",
          "nps_rating": 7,
          "response_date": "2020-10-11",
          "source": "mobile",
          "user_id": 16847
         },
         {
          "index": 959,
          "nps_group": "passive",
          "nps_rating": 7,
          "response_date": "2020-10-15",
          "source": "mobile",
          "user_id": 48486
         },
         {
          "index": 960,
          "nps_group": "detractor",
          "nps_rating": 5,
          "response_date": "2020-10-21",
          "source": "mobile",
          "user_id": 21518
         },
         {
          "index": 961,
          "nps_group": "passive",
          "nps_rating": 7,
          "response_date": "2020-12-14",
          "source": "mobile",
          "user_id": 11432
         },
         {
          "index": 962,
          "nps_group": "promoter",
          "nps_rating": 10,
          "response_date": "2020-11-09",
          "source": "mobile",
          "user_id": 23409
         },
         {
          "index": 963,
          "nps_group": "detractor",
          "nps_rating": 5,
          "response_date": "2020-11-18",
          "source": "mobile",
          "user_id": 31742
         },
         {
          "index": 964,
          "nps_group": "passive",
          "nps_rating": 7,
          "response_date": "2020-12-26",
          "source": "mobile",
          "user_id": 46535
         },
         {
          "index": 965,
          "nps_group": "passive",
          "nps_rating": 7,
          "response_date": "2020-11-29",
          "source": "mobile",
          "user_id": 49816
         },
         {
          "index": 966,
          "nps_group": "passive",
          "nps_rating": 8,
          "response_date": "2020-12-16",
          "source": "mobile",
          "user_id": 15308
         },
         {
          "index": 967,
          "nps_group": "detractor",
          "nps_rating": 5,
          "response_date": "2020-12-06",
          "source": "mobile",
          "user_id": 27735
         },
         {
          "index": 968,
          "nps_group": "detractor",
          "nps_rating": 3,
          "response_date": "2020-12-04",
          "source": "mobile",
          "user_id": 35225
         },
         {
          "index": 969,
          "nps_group": "detractor",
          "nps_rating": 6,
          "response_date": "2020-11-16",
          "source": "mobile",
          "user_id": 10303
         },
         {
          "index": 970,
          "nps_group": "passive",
          "nps_rating": 8,
          "response_date": "2020-11-16",
          "source": "mobile",
          "user_id": 36465
         },
         {
          "index": 971,
          "nps_group": "detractor",
          "nps_rating": 5,
          "response_date": "2020-11-12",
          "source": "mobile",
          "user_id": 27550
         },
         {
          "index": 972,
          "nps_group": "passive",
          "nps_rating": 8,
          "response_date": "2020-10-11",
          "source": "mobile",
          "user_id": 22595
         },
         {
          "index": 973,
          "nps_group": "detractor",
          "nps_rating": 6,
          "response_date": "2020-11-06",
          "source": "mobile",
          "user_id": 26879
         },
         {
          "index": 974,
          "nps_group": "passive",
          "nps_rating": 7,
          "response_date": "2020-12-05",
          "source": "mobile",
          "user_id": 41722
         },
         {
          "index": 975,
          "nps_group": "passive",
          "nps_rating": 7,
          "response_date": "2020-10-18",
          "source": "mobile",
          "user_id": 32642
         },
         {
          "index": 976,
          "nps_group": "passive",
          "nps_rating": 7,
          "response_date": "2020-11-29",
          "source": "mobile",
          "user_id": 49046
         },
         {
          "index": 977,
          "nps_group": "passive",
          "nps_rating": 8,
          "response_date": "2020-11-28",
          "source": "mobile",
          "user_id": 18471
         },
         {
          "index": 978,
          "nps_group": "promoter",
          "nps_rating": 9,
          "response_date": "2020-12-10",
          "source": "mobile",
          "user_id": 22270
         },
         {
          "index": 979,
          "nps_group": "passive",
          "nps_rating": 8,
          "response_date": "2020-11-16",
          "source": "mobile",
          "user_id": 31552
         },
         {
          "index": 980,
          "nps_group": "passive",
          "nps_rating": 7,
          "response_date": "2020-12-22",
          "source": "mobile",
          "user_id": 46976
         },
         {
          "index": 981,
          "nps_group": "promoter",
          "nps_rating": 10,
          "response_date": "2020-12-03",
          "source": "mobile",
          "user_id": 18563
         },
         {
          "index": 982,
          "nps_group": "passive",
          "nps_rating": 7,
          "response_date": "2020-12-12",
          "source": "mobile",
          "user_id": 38845
         },
         {
          "index": 983,
          "nps_group": "detractor",
          "nps_rating": 5,
          "response_date": "2020-10-04",
          "source": "mobile",
          "user_id": 42309
         },
         {
          "index": 984,
          "nps_group": "passive",
          "nps_rating": 8,
          "response_date": "2020-11-21",
          "source": "mobile",
          "user_id": 34987
         },
         {
          "index": 985,
          "nps_group": "detractor",
          "nps_rating": 4,
          "response_date": "2020-12-05",
          "source": "mobile",
          "user_id": 39612
         },
         {
          "index": 986,
          "nps_group": "passive",
          "nps_rating": 7,
          "response_date": "2020-10-28",
          "source": "mobile",
          "user_id": 48850
         },
         {
          "index": 987,
          "nps_group": "detractor",
          "nps_rating": 6,
          "response_date": "2020-11-23",
          "source": "mobile",
          "user_id": 49370
         },
         {
          "index": 988,
          "nps_group": "passive",
          "nps_rating": 7,
          "response_date": "2020-11-11",
          "source": "mobile",
          "user_id": 44170
         },
         {
          "index": 989,
          "nps_group": "detractor",
          "nps_rating": 6,
          "response_date": "2020-12-05",
          "source": "mobile",
          "user_id": 39073
         },
         {
          "index": 990,
          "nps_group": "promoter",
          "nps_rating": 9,
          "response_date": "2020-12-09",
          "source": "mobile",
          "user_id": 45169
         },
         {
          "index": 991,
          "nps_group": "passive",
          "nps_rating": 7,
          "response_date": "2020-10-29",
          "source": "mobile",
          "user_id": 26219
         },
         {
          "index": 992,
          "nps_group": "passive",
          "nps_rating": 7,
          "response_date": "2020-10-01",
          "source": "mobile",
          "user_id": 37561
         },
         {
          "index": 993,
          "nps_group": "passive",
          "nps_rating": 7,
          "response_date": "2020-11-27",
          "source": "mobile",
          "user_id": 28887
         },
         {
          "index": 994,
          "nps_group": "passive",
          "nps_rating": 8,
          "response_date": "2020-11-05",
          "source": "mobile",
          "user_id": 45583
         },
         {
          "index": 995,
          "nps_group": "detractor",
          "nps_rating": 5,
          "response_date": "2020-10-14",
          "source": "mobile",
          "user_id": 29158
         },
         {
          "index": 996,
          "nps_group": "passive",
          "nps_rating": 7,
          "response_date": "2020-10-20",
          "source": "mobile",
          "user_id": 34687
         },
         {
          "index": 997,
          "nps_group": "promoter",
          "nps_rating": 10,
          "response_date": "2020-11-07",
          "source": "mobile",
          "user_id": 27779
         },
         {
          "index": 998,
          "nps_group": "detractor",
          "nps_rating": 5,
          "response_date": "2020-11-30",
          "source": "mobile",
          "user_id": 14943
         },
         {
          "index": 999,
          "nps_group": "passive",
          "nps_rating": 7,
          "response_date": "2020-10-11",
          "source": "mobile",
          "user_id": 21665
         },
         {
          "index": 1000,
          "nps_group": "passive",
          "nps_rating": 7,
          "response_date": "2020-10-21",
          "source": "mobile",
          "user_id": 17464
         },
         {
          "index": 1001,
          "nps_group": "promoter",
          "nps_rating": 9,
          "response_date": "2020-12-03",
          "source": "mobile",
          "user_id": 10926
         },
         {
          "index": 1002,
          "nps_group": "passive",
          "nps_rating": 7,
          "response_date": "2020-12-24",
          "source": "mobile",
          "user_id": 20442
         },
         {
          "index": 1003,
          "nps_group": "promoter",
          "nps_rating": 9,
          "response_date": "2020-11-25",
          "source": "mobile",
          "user_id": 42107
         },
         {
          "index": 1004,
          "nps_group": "passive",
          "nps_rating": 7,
          "response_date": "2020-10-24",
          "source": "mobile",
          "user_id": 39442
         },
         {
          "index": 1005,
          "nps_group": "detractor",
          "nps_rating": 6,
          "response_date": "2020-12-24",
          "source": "mobile",
          "user_id": 25072
         },
         {
          "index": 1006,
          "nps_group": "passive",
          "nps_rating": 7,
          "response_date": "2020-11-16",
          "source": "mobile",
          "user_id": 23225
         },
         {
          "index": 1007,
          "nps_group": "detractor",
          "nps_rating": 1,
          "response_date": "2020-12-08",
          "source": "mobile",
          "user_id": 13937
         },
         {
          "index": 1008,
          "nps_group": "passive",
          "nps_rating": 7,
          "response_date": "2020-12-18",
          "source": "mobile",
          "user_id": 39207
         },
         {
          "index": 1009,
          "nps_group": "passive",
          "nps_rating": 7,
          "response_date": "2020-10-02",
          "source": "mobile",
          "user_id": 16059
         },
         {
          "index": 1010,
          "nps_group": "passive",
          "nps_rating": 7,
          "response_date": "2020-10-07",
          "source": "mobile",
          "user_id": 38716
         },
         {
          "index": 1011,
          "nps_group": "passive",
          "nps_rating": 7,
          "response_date": "2020-11-18",
          "source": "mobile",
          "user_id": 26949
         },
         {
          "index": 1012,
          "nps_group": "passive",
          "nps_rating": 8,
          "response_date": "2020-11-30",
          "source": "mobile",
          "user_id": 18991
         },
         {
          "index": 1013,
          "nps_group": "promoter",
          "nps_rating": 9,
          "response_date": "2020-10-08",
          "source": "mobile",
          "user_id": 26036
         },
         {
          "index": 1014,
          "nps_group": "passive",
          "nps_rating": 7,
          "response_date": "2020-12-18",
          "source": "mobile",
          "user_id": 38159
         },
         {
          "index": 1015,
          "nps_group": "passive",
          "nps_rating": 7,
          "response_date": "2020-11-19",
          "source": "mobile",
          "user_id": 32058
         },
         {
          "index": 1016,
          "nps_group": "promoter",
          "nps_rating": 10,
          "response_date": "2020-12-12",
          "source": "mobile",
          "user_id": 33490
         },
         {
          "index": 1017,
          "nps_group": "promoter",
          "nps_rating": 10,
          "response_date": "2020-11-16",
          "source": "mobile",
          "user_id": 12567
         },
         {
          "index": 1018,
          "nps_group": "passive",
          "nps_rating": 8,
          "response_date": "2020-12-06",
          "source": "mobile",
          "user_id": 32921
         },
         {
          "index": 1019,
          "nps_group": "detractor",
          "nps_rating": 6,
          "response_date": "2020-12-23",
          "source": "mobile",
          "user_id": 27903
         },
         {
          "index": 1020,
          "nps_group": "detractor",
          "nps_rating": 3,
          "response_date": "2020-11-23",
          "source": "mobile",
          "user_id": 41223
         },
         {
          "index": 1021,
          "nps_group": "detractor",
          "nps_rating": 5,
          "response_date": "2020-12-18",
          "source": "mobile",
          "user_id": 43564
         },
         {
          "index": 1022,
          "nps_group": "promoter",
          "nps_rating": 9,
          "response_date": "2020-11-14",
          "source": "mobile",
          "user_id": 15317
         },
         {
          "index": 1023,
          "nps_group": "detractor",
          "nps_rating": 6,
          "response_date": "2020-12-15",
          "source": "mobile",
          "user_id": 14209
         },
         {
          "index": 1024,
          "nps_group": "promoter",
          "nps_rating": 10,
          "response_date": "2020-10-23",
          "source": "mobile",
          "user_id": 19336
         },
         {
          "index": 1025,
          "nps_group": "passive",
          "nps_rating": 7,
          "response_date": "2020-12-18",
          "source": "mobile",
          "user_id": 12807
         },
         {
          "index": 1026,
          "nps_group": "passive",
          "nps_rating": 8,
          "response_date": "2020-12-20",
          "source": "mobile",
          "user_id": 32087
         },
         {
          "index": 1027,
          "nps_group": "detractor",
          "nps_rating": 6,
          "response_date": "2020-11-04",
          "source": "mobile",
          "user_id": 14962
         },
         {
          "index": 1028,
          "nps_group": "detractor",
          "nps_rating": 3,
          "response_date": "2020-11-07",
          "source": "mobile",
          "user_id": 41724
         },
         {
          "index": 1029,
          "nps_group": "passive",
          "nps_rating": 7,
          "response_date": "2020-12-16",
          "source": "mobile",
          "user_id": 10949
         },
         {
          "index": 1030,
          "nps_group": "passive",
          "nps_rating": 7,
          "response_date": "2020-11-07",
          "source": "mobile",
          "user_id": 23004
         },
         {
          "index": 1031,
          "nps_group": "detractor",
          "nps_rating": 3,
          "response_date": "2020-12-28",
          "source": "mobile",
          "user_id": 16575
         },
         {
          "index": 1032,
          "nps_group": "passive",
          "nps_rating": 7,
          "response_date": "2020-11-05",
          "source": "mobile",
          "user_id": 23586
         },
         {
          "index": 1033,
          "nps_group": "detractor",
          "nps_rating": 4,
          "response_date": "2020-11-16",
          "source": "mobile",
          "user_id": 23867
         },
         {
          "index": 1034,
          "nps_group": "detractor",
          "nps_rating": 5,
          "response_date": "2020-10-19",
          "source": "mobile",
          "user_id": 10393
         },
         {
          "index": 1035,
          "nps_group": "detractor",
          "nps_rating": 1,
          "response_date": "2020-12-21",
          "source": "mobile",
          "user_id": 12095
         },
         {
          "index": 1036,
          "nps_group": "passive",
          "nps_rating": 7,
          "response_date": "2020-11-08",
          "source": "mobile",
          "user_id": 21542
         },
         {
          "index": 1037,
          "nps_group": "passive",
          "nps_rating": 7,
          "response_date": "2020-11-08",
          "source": "mobile",
          "user_id": 23530
         },
         {
          "index": 1038,
          "nps_group": "promoter",
          "nps_rating": 9,
          "response_date": "2020-12-02",
          "source": "mobile",
          "user_id": 16662
         },
         {
          "index": 1039,
          "nps_group": "passive",
          "nps_rating": 7,
          "response_date": "2020-12-05",
          "source": "mobile",
          "user_id": 44341
         },
         {
          "index": 1040,
          "nps_group": "detractor",
          "nps_rating": 1,
          "response_date": "2020-10-31",
          "source": "mobile",
          "user_id": 11879
         },
         {
          "index": 1041,
          "nps_group": "promoter",
          "nps_rating": 10,
          "response_date": "2020-10-25",
          "source": "mobile",
          "user_id": 41620
         },
         {
          "index": 1042,
          "nps_group": "detractor",
          "nps_rating": 3,
          "response_date": "2020-12-08",
          "source": "mobile",
          "user_id": 38521
         },
         {
          "index": 1043,
          "nps_group": "passive",
          "nps_rating": 7,
          "response_date": "2020-10-15",
          "source": "mobile",
          "user_id": 23873
         },
         {
          "index": 1044,
          "nps_group": "detractor",
          "nps_rating": 3,
          "response_date": "2020-12-22",
          "source": "mobile",
          "user_id": 21178
         },
         {
          "index": 1045,
          "nps_group": "detractor",
          "nps_rating": 6,
          "response_date": "2020-12-08",
          "source": "mobile",
          "user_id": 32974
         },
         {
          "index": 1046,
          "nps_group": "promoter",
          "nps_rating": 10,
          "response_date": "2020-10-07",
          "source": "mobile",
          "user_id": 17348
         },
         {
          "index": 1047,
          "nps_group": "detractor",
          "nps_rating": 5,
          "response_date": "2020-11-10",
          "source": "mobile",
          "user_id": 17420
         },
         {
          "index": 1048,
          "nps_group": "passive",
          "nps_rating": 8,
          "response_date": "2020-10-24",
          "source": "mobile",
          "user_id": 38197
         },
         {
          "index": 1049,
          "nps_group": "detractor",
          "nps_rating": 4,
          "response_date": "2020-10-30",
          "source": "mobile",
          "user_id": 26852
         },
         {
          "index": 1050,
          "nps_group": "passive",
          "nps_rating": 8,
          "response_date": "2020-12-10",
          "source": "mobile",
          "user_id": 17412
         },
         {
          "index": 1051,
          "nps_group": "passive",
          "nps_rating": 7,
          "response_date": "2020-11-10",
          "source": "mobile",
          "user_id": 36369
         },
         {
          "index": 1052,
          "nps_group": "detractor",
          "nps_rating": 2,
          "response_date": "2020-12-11",
          "source": "mobile",
          "user_id": 30765
         },
         {
          "index": 1053,
          "nps_group": "passive",
          "nps_rating": 7,
          "response_date": "2020-11-11",
          "source": "mobile",
          "user_id": 37452
         },
         {
          "index": 1054,
          "nps_group": "promoter",
          "nps_rating": 10,
          "response_date": "2020-12-26",
          "source": "mobile",
          "user_id": 42675
         },
         {
          "index": 1055,
          "nps_group": "passive",
          "nps_rating": 7,
          "response_date": "2020-10-04",
          "source": "mobile",
          "user_id": 48256
         },
         {
          "index": 1056,
          "nps_group": "detractor",
          "nps_rating": 3,
          "response_date": "2020-11-03",
          "source": "mobile",
          "user_id": 24023
         },
         {
          "index": 1057,
          "nps_group": "passive",
          "nps_rating": 7,
          "response_date": "2020-10-03",
          "source": "mobile",
          "user_id": 40480
         },
         {
          "index": 1058,
          "nps_group": "promoter",
          "nps_rating": 10,
          "response_date": "2020-11-04",
          "source": "mobile",
          "user_id": 49630
         },
         {
          "index": 1059,
          "nps_group": "promoter",
          "nps_rating": 9,
          "response_date": "2020-11-03",
          "source": "mobile",
          "user_id": 21207
         },
         {
          "index": 1060,
          "nps_group": "passive",
          "nps_rating": 8,
          "response_date": "2020-11-03",
          "source": "mobile",
          "user_id": 40031
         },
         {
          "index": 1061,
          "nps_group": "passive",
          "nps_rating": 7,
          "response_date": "2020-11-28",
          "source": "mobile",
          "user_id": 44208
         },
         {
          "index": 1062,
          "nps_group": "promoter",
          "nps_rating": 9,
          "response_date": "2020-12-20",
          "source": "mobile",
          "user_id": 14338
         },
         {
          "index": 1063,
          "nps_group": "detractor",
          "nps_rating": 6,
          "response_date": "2020-11-27",
          "source": "mobile",
          "user_id": 36610
         },
         {
          "index": 1064,
          "nps_group": "passive",
          "nps_rating": 7,
          "response_date": "2020-11-19",
          "source": "mobile",
          "user_id": 32886
         },
         {
          "index": 1065,
          "nps_group": "passive",
          "nps_rating": 7,
          "response_date": "2020-12-24",
          "source": "mobile",
          "user_id": 24778
         },
         {
          "index": 1066,
          "nps_group": "detractor",
          "nps_rating": 5,
          "response_date": "2020-12-29",
          "source": "mobile",
          "user_id": 23588
         },
         {
          "index": 1067,
          "nps_group": "passive",
          "nps_rating": 8,
          "response_date": "2020-12-10",
          "source": "mobile",
          "user_id": 24210
         },
         {
          "index": 1068,
          "nps_group": "detractor",
          "nps_rating": 5,
          "response_date": "2020-11-19",
          "source": "mobile",
          "user_id": 21498
         },
         {
          "index": 1069,
          "nps_group": "promoter",
          "nps_rating": 10,
          "response_date": "2020-10-15",
          "source": "mobile",
          "user_id": 48798
         },
         {
          "index": 1070,
          "nps_group": "detractor",
          "nps_rating": 5,
          "response_date": "2020-11-19",
          "source": "mobile",
          "user_id": 36837
         },
         {
          "index": 1071,
          "nps_group": "detractor",
          "nps_rating": 2,
          "response_date": "2020-11-28",
          "source": "mobile",
          "user_id": 36928
         },
         {
          "index": 1072,
          "nps_group": "passive",
          "nps_rating": 7,
          "response_date": "2020-10-15",
          "source": "mobile",
          "user_id": 15547
         },
         {
          "index": 1073,
          "nps_group": "passive",
          "nps_rating": 7,
          "response_date": "2020-12-02",
          "source": "mobile",
          "user_id": 49478
         },
         {
          "index": 1074,
          "nps_group": "promoter",
          "nps_rating": 9,
          "response_date": "2020-10-05",
          "source": "mobile",
          "user_id": 36820
         },
         {
          "index": 1075,
          "nps_group": "passive",
          "nps_rating": 8,
          "response_date": "2020-11-11",
          "source": "mobile",
          "user_id": 41606
         },
         {
          "index": 1076,
          "nps_group": "passive",
          "nps_rating": 7,
          "response_date": "2020-10-04",
          "source": "mobile",
          "user_id": 31925
         },
         {
          "index": 1077,
          "nps_group": "promoter",
          "nps_rating": 9,
          "response_date": "2020-11-16",
          "source": "mobile",
          "user_id": 13849
         },
         {
          "index": 1078,
          "nps_group": "passive",
          "nps_rating": 7,
          "response_date": "2020-12-02",
          "source": "mobile",
          "user_id": 17278
         },
         {
          "index": 1079,
          "nps_group": "passive",
          "nps_rating": 7,
          "response_date": "2020-10-31",
          "source": "mobile",
          "user_id": 42856
         },
         {
          "index": 1080,
          "nps_group": "passive",
          "nps_rating": 7,
          "response_date": "2020-12-02",
          "source": "mobile",
          "user_id": 49250
         },
         {
          "index": 1081,
          "nps_group": "detractor",
          "nps_rating": 2,
          "response_date": "2020-11-25",
          "source": "mobile",
          "user_id": 38582
         },
         {
          "index": 1082,
          "nps_group": "promoter",
          "nps_rating": 10,
          "response_date": "2020-11-28",
          "source": "mobile",
          "user_id": 13897
         },
         {
          "index": 1083,
          "nps_group": "detractor",
          "nps_rating": 5,
          "response_date": "2020-10-11",
          "source": "mobile",
          "user_id": 40624
         },
         {
          "index": 1084,
          "nps_group": "passive",
          "nps_rating": 7,
          "response_date": "2020-10-09",
          "source": "mobile",
          "user_id": 12650
         },
         {
          "index": 1085,
          "nps_group": "promoter",
          "nps_rating": 9,
          "response_date": "2020-11-06",
          "source": "mobile",
          "user_id": 31981
         },
         {
          "index": 1086,
          "nps_group": "passive",
          "nps_rating": 8,
          "response_date": "2020-11-26",
          "source": "mobile",
          "user_id": 30801
         },
         {
          "index": 1087,
          "nps_group": "passive",
          "nps_rating": 8,
          "response_date": "2020-10-29",
          "source": "mobile",
          "user_id": 32724
         },
         {
          "index": 1088,
          "nps_group": "detractor",
          "nps_rating": 6,
          "response_date": "2020-11-26",
          "source": "mobile",
          "user_id": 36073
         },
         {
          "index": 1089,
          "nps_group": "detractor",
          "nps_rating": 5,
          "response_date": "2020-11-06",
          "source": "mobile",
          "user_id": 19877
         },
         {
          "index": 1090,
          "nps_group": "passive",
          "nps_rating": 8,
          "response_date": "2020-12-03",
          "source": "mobile",
          "user_id": 29101
         },
         {
          "index": 1091,
          "nps_group": "detractor",
          "nps_rating": 4,
          "response_date": "2020-11-30",
          "source": "mobile",
          "user_id": 42704
         },
         {
          "index": 1092,
          "nps_group": "promoter",
          "nps_rating": 9,
          "response_date": "2020-12-27",
          "source": "mobile",
          "user_id": 42136
         },
         {
          "index": 1093,
          "nps_group": "passive",
          "nps_rating": 7,
          "response_date": "2020-11-21",
          "source": "mobile",
          "user_id": 16644
         },
         {
          "index": 1094,
          "nps_group": "detractor",
          "nps_rating": 4,
          "response_date": "2020-10-04",
          "source": "mobile",
          "user_id": 25625
         },
         {
          "index": 1095,
          "nps_group": "promoter",
          "nps_rating": 9,
          "response_date": "2020-12-24",
          "source": "mobile",
          "user_id": 45125
         },
         {
          "index": 1096,
          "nps_group": "passive",
          "nps_rating": 8,
          "response_date": "2020-11-17",
          "source": "mobile",
          "user_id": 30939
         },
         {
          "index": 1097,
          "nps_group": "promoter",
          "nps_rating": 9,
          "response_date": "2020-10-06",
          "source": "mobile",
          "user_id": 15275
         },
         {
          "index": 1098,
          "nps_group": "passive",
          "nps_rating": 7,
          "response_date": "2020-12-01",
          "source": "mobile",
          "user_id": 28782
         },
         {
          "index": 1099,
          "nps_group": "promoter",
          "nps_rating": 9,
          "response_date": "2020-10-29",
          "source": "mobile",
          "user_id": 13512
         },
         {
          "index": 1100,
          "nps_group": "passive",
          "nps_rating": 7,
          "response_date": "2020-12-14",
          "source": "mobile",
          "user_id": 49467
         },
         {
          "index": 1101,
          "nps_group": "promoter",
          "nps_rating": 9,
          "response_date": "2020-12-01",
          "source": "mobile",
          "user_id": 12791
         },
         {
          "index": 1102,
          "nps_group": "passive",
          "nps_rating": 8,
          "response_date": "2020-10-05",
          "source": "mobile",
          "user_id": 10573
         },
         {
          "index": 1103,
          "nps_group": "promoter",
          "nps_rating": 10,
          "response_date": "2020-12-11",
          "source": "mobile",
          "user_id": 18949
         },
         {
          "index": 1104,
          "nps_group": "passive",
          "nps_rating": 8,
          "response_date": "2020-12-09",
          "source": "mobile",
          "user_id": 33350
         },
         {
          "index": 1105,
          "nps_group": "detractor",
          "nps_rating": 4,
          "response_date": "2020-11-10",
          "source": "mobile",
          "user_id": 41788
         },
         {
          "index": 1106,
          "nps_group": "passive",
          "nps_rating": 8,
          "response_date": "2020-12-09",
          "source": "mobile",
          "user_id": 23993
         },
         {
          "index": 1107,
          "nps_group": "detractor",
          "nps_rating": 1,
          "response_date": "2020-10-29",
          "source": "mobile",
          "user_id": 39825
         },
         {
          "index": 1108,
          "nps_group": "passive",
          "nps_rating": 7,
          "response_date": "2020-10-04",
          "source": "mobile",
          "user_id": 48331
         },
         {
          "index": 1109,
          "nps_group": "promoter",
          "nps_rating": 9,
          "response_date": "2020-12-15",
          "source": "mobile",
          "user_id": 13853
         },
         {
          "index": 1110,
          "nps_group": "detractor",
          "nps_rating": 6,
          "response_date": "2020-10-15",
          "source": "mobile",
          "user_id": 39358
         },
         {
          "index": 1111,
          "nps_group": "detractor",
          "nps_rating": 5,
          "response_date": "2020-12-15",
          "source": "mobile",
          "user_id": 38675
         },
         {
          "index": 1112,
          "nps_group": "passive",
          "nps_rating": 7,
          "response_date": "2020-12-12",
          "source": "mobile",
          "user_id": 15938
         },
         {
          "index": 1113,
          "nps_group": "passive",
          "nps_rating": 7,
          "response_date": "2020-10-11",
          "source": "mobile",
          "user_id": 41098
         },
         {
          "index": 1114,
          "nps_group": "promoter",
          "nps_rating": 10,
          "response_date": "2020-12-02",
          "source": "mobile",
          "user_id": 25840
         },
         {
          "index": 1115,
          "nps_group": "detractor",
          "nps_rating": 3,
          "response_date": "2020-10-30",
          "source": "mobile",
          "user_id": 44842
         },
         {
          "index": 1116,
          "nps_group": "detractor",
          "nps_rating": 1,
          "response_date": "2020-10-04",
          "source": "mobile",
          "user_id": 26053
         },
         {
          "index": 1117,
          "nps_group": "passive",
          "nps_rating": 7,
          "response_date": "2020-12-30",
          "source": "mobile",
          "user_id": 36417
         },
         {
          "index": 1118,
          "nps_group": "promoter",
          "nps_rating": 9,
          "response_date": "2020-11-21",
          "source": "mobile",
          "user_id": 42945
         },
         {
          "index": 1119,
          "nps_group": "passive",
          "nps_rating": 7,
          "response_date": "2020-11-11",
          "source": "mobile",
          "user_id": 30336
         },
         {
          "index": 1120,
          "nps_group": "passive",
          "nps_rating": 8,
          "response_date": "2020-12-22",
          "source": "mobile",
          "user_id": 16583
         },
         {
          "index": 1121,
          "nps_group": "promoter",
          "nps_rating": 9,
          "response_date": "2020-12-07",
          "source": "mobile",
          "user_id": 27430
         },
         {
          "index": 1122,
          "nps_group": "passive",
          "nps_rating": 8,
          "response_date": "2020-10-09",
          "source": "mobile",
          "user_id": 37945
         },
         {
          "index": 1123,
          "nps_group": "passive",
          "nps_rating": 8,
          "response_date": "2020-12-04",
          "source": "mobile",
          "user_id": 22359
         },
         {
          "index": 1124,
          "nps_group": "detractor",
          "nps_rating": 5,
          "response_date": "2020-11-30",
          "source": "mobile",
          "user_id": 15348
         },
         {
          "index": 1125,
          "nps_group": "promoter",
          "nps_rating": 10,
          "response_date": "2020-10-06",
          "source": "mobile",
          "user_id": 25335
         },
         {
          "index": 1126,
          "nps_group": "promoter",
          "nps_rating": 10,
          "response_date": "2020-11-26",
          "source": "mobile",
          "user_id": 23551
         },
         {
          "index": 1127,
          "nps_group": "promoter",
          "nps_rating": 9,
          "response_date": "2020-12-15",
          "source": "mobile",
          "user_id": 45558
         },
         {
          "index": 1128,
          "nps_group": "passive",
          "nps_rating": 8,
          "response_date": "2020-10-06",
          "source": "mobile",
          "user_id": 31313
         },
         {
          "index": 1129,
          "nps_group": "detractor",
          "nps_rating": 5,
          "response_date": "2020-12-04",
          "source": "mobile",
          "user_id": 33768
         },
         {
          "index": 1130,
          "nps_group": "passive",
          "nps_rating": 7,
          "response_date": "2020-12-17",
          "source": "mobile",
          "user_id": 10959
         },
         {
          "index": 1131,
          "nps_group": "passive",
          "nps_rating": 7,
          "response_date": "2020-10-26",
          "source": "mobile",
          "user_id": 45520
         },
         {
          "index": 1132,
          "nps_group": "detractor",
          "nps_rating": 5,
          "response_date": "2020-11-19",
          "source": "mobile",
          "user_id": 17490
         },
         {
          "index": 1133,
          "nps_group": "promoter",
          "nps_rating": 9,
          "response_date": "2020-10-15",
          "source": "mobile",
          "user_id": 22970
         },
         {
          "index": 1134,
          "nps_group": "detractor",
          "nps_rating": 2,
          "response_date": "2020-11-22",
          "source": "mobile",
          "user_id": 24369
         },
         {
          "index": 1135,
          "nps_group": "passive",
          "nps_rating": 8,
          "response_date": "2020-11-16",
          "source": "mobile",
          "user_id": 43131
         },
         {
          "index": 1136,
          "nps_group": "promoter",
          "nps_rating": 10,
          "response_date": "2020-11-21",
          "source": "mobile",
          "user_id": 19944
         },
         {
          "index": 1137,
          "nps_group": "passive",
          "nps_rating": 7,
          "response_date": "2020-11-24",
          "source": "mobile",
          "user_id": 27776
         },
         {
          "index": 1138,
          "nps_group": "detractor",
          "nps_rating": 1,
          "response_date": "2020-12-03",
          "source": "mobile",
          "user_id": 32933
         },
         {
          "index": 1139,
          "nps_group": "detractor",
          "nps_rating": 0,
          "response_date": "2020-11-07",
          "source": "mobile",
          "user_id": 14833
         },
         {
          "index": 1140,
          "nps_group": "passive",
          "nps_rating": 7,
          "response_date": "2020-10-07",
          "source": "mobile",
          "user_id": 42057
         },
         {
          "index": 1141,
          "nps_group": "detractor",
          "nps_rating": 4,
          "response_date": "2020-12-26",
          "source": "mobile",
          "user_id": 43535
         },
         {
          "index": 1142,
          "nps_group": "promoter",
          "nps_rating": 10,
          "response_date": "2020-10-22",
          "source": "mobile",
          "user_id": 33418
         },
         {
          "index": 1143,
          "nps_group": "passive",
          "nps_rating": 8,
          "response_date": "2020-11-01",
          "source": "mobile",
          "user_id": 27706
         },
         {
          "index": 1144,
          "nps_group": "detractor",
          "nps_rating": 5,
          "response_date": "2020-12-14",
          "source": "mobile",
          "user_id": 33171
         },
         {
          "index": 1145,
          "nps_group": "passive",
          "nps_rating": 7,
          "response_date": "2020-10-19",
          "source": "mobile",
          "user_id": 42350
         },
         {
          "index": 1146,
          "nps_group": "detractor",
          "nps_rating": 3,
          "response_date": "2020-11-16",
          "source": "mobile",
          "user_id": 48019
         },
         {
          "index": 1147,
          "nps_group": "passive",
          "nps_rating": 8,
          "response_date": "2020-12-03",
          "source": "mobile",
          "user_id": 45704
         },
         {
          "index": 1148,
          "nps_group": "passive",
          "nps_rating": 7,
          "response_date": "2020-11-19",
          "source": "mobile",
          "user_id": 37300
         },
         {
          "index": 1149,
          "nps_group": "passive",
          "nps_rating": 7,
          "response_date": "2020-12-28",
          "source": "mobile",
          "user_id": 32527
         },
         {
          "index": 1150,
          "nps_group": "passive",
          "nps_rating": 7,
          "response_date": "2020-12-08",
          "source": "mobile",
          "user_id": 18914
         },
         {
          "index": 1151,
          "nps_group": "passive",
          "nps_rating": 7,
          "response_date": "2020-11-10",
          "source": "mobile",
          "user_id": 16270
         },
         {
          "index": 1152,
          "nps_group": "detractor",
          "nps_rating": 4,
          "response_date": "2020-11-08",
          "source": "mobile",
          "user_id": 35341
         },
         {
          "index": 1153,
          "nps_group": "promoter",
          "nps_rating": 10,
          "response_date": "2020-11-08",
          "source": "mobile",
          "user_id": 13594
         },
         {
          "index": 1154,
          "nps_group": "detractor",
          "nps_rating": 2,
          "response_date": "2020-10-07",
          "source": "mobile",
          "user_id": 10690
         },
         {
          "index": 1155,
          "nps_group": "passive",
          "nps_rating": 8,
          "response_date": "2020-12-15",
          "source": "mobile",
          "user_id": 34073
         },
         {
          "index": 1156,
          "nps_group": "passive",
          "nps_rating": 7,
          "response_date": "2020-11-20",
          "source": "mobile",
          "user_id": 22585
         },
         {
          "index": 1157,
          "nps_group": "detractor",
          "nps_rating": 6,
          "response_date": "2020-11-08",
          "source": "mobile",
          "user_id": 43834
         },
         {
          "index": 1158,
          "nps_group": "passive",
          "nps_rating": 7,
          "response_date": "2020-12-30",
          "source": "mobile",
          "user_id": 45538
         },
         {
          "index": 1159,
          "nps_group": "promoter",
          "nps_rating": 9,
          "response_date": "2020-11-20",
          "source": "mobile",
          "user_id": 30964
         },
         {
          "index": 1160,
          "nps_group": "passive",
          "nps_rating": 7,
          "response_date": "2020-10-20",
          "source": "mobile",
          "user_id": 22733
         },
         {
          "index": 1161,
          "nps_group": "passive",
          "nps_rating": 8,
          "response_date": "2020-12-17",
          "source": "mobile",
          "user_id": 34471
         },
         {
          "index": 1162,
          "nps_group": "promoter",
          "nps_rating": 9,
          "response_date": "2020-12-24",
          "source": "mobile",
          "user_id": 46249
         },
         {
          "index": 1163,
          "nps_group": "passive",
          "nps_rating": 7,
          "response_date": "2020-10-11",
          "source": "mobile",
          "user_id": 42151
         },
         {
          "index": 1164,
          "nps_group": "detractor",
          "nps_rating": 3,
          "response_date": "2020-11-21",
          "source": "mobile",
          "user_id": 44786
         },
         {
          "index": 1165,
          "nps_group": "detractor",
          "nps_rating": 4,
          "response_date": "2020-12-11",
          "source": "mobile",
          "user_id": 48746
         },
         {
          "index": 1166,
          "nps_group": "promoter",
          "nps_rating": 9,
          "response_date": "2020-12-08",
          "source": "mobile",
          "user_id": 29728
         },
         {
          "index": 1167,
          "nps_group": "promoter",
          "nps_rating": 9,
          "response_date": "2020-10-14",
          "source": "mobile",
          "user_id": 29274
         },
         {
          "index": 1168,
          "nps_group": "promoter",
          "nps_rating": 9,
          "response_date": "2020-12-22",
          "source": "mobile",
          "user_id": 17119
         },
         {
          "index": 1169,
          "nps_group": "promoter",
          "nps_rating": 9,
          "response_date": "2020-11-12",
          "source": "mobile",
          "user_id": 12196
         },
         {
          "index": 1170,
          "nps_group": "passive",
          "nps_rating": 7,
          "response_date": "2020-12-10",
          "source": "mobile",
          "user_id": 16500
         },
         {
          "index": 1171,
          "nps_group": "passive",
          "nps_rating": 7,
          "response_date": "2020-10-19",
          "source": "mobile",
          "user_id": 32064
         },
         {
          "index": 1172,
          "nps_group": "passive",
          "nps_rating": 8,
          "response_date": "2020-12-06",
          "source": "mobile",
          "user_id": 22793
         },
         {
          "index": 1173,
          "nps_group": "passive",
          "nps_rating": 8,
          "response_date": "2020-12-21",
          "source": "mobile",
          "user_id": 23956
         },
         {
          "index": 1174,
          "nps_group": "passive",
          "nps_rating": 7,
          "response_date": "2020-11-02",
          "source": "mobile",
          "user_id": 19298
         },
         {
          "index": 1175,
          "nps_group": "passive",
          "nps_rating": 7,
          "response_date": "2020-10-24",
          "source": "mobile",
          "user_id": 30827
         },
         {
          "index": 1176,
          "nps_group": "promoter",
          "nps_rating": 9,
          "response_date": "2020-12-12",
          "source": "mobile",
          "user_id": 32624
         },
         {
          "index": 1177,
          "nps_group": "passive",
          "nps_rating": 8,
          "response_date": "2020-11-20",
          "source": "mobile",
          "user_id": 28335
         },
         {
          "index": 1178,
          "nps_group": "detractor",
          "nps_rating": 5,
          "response_date": "2020-12-30",
          "source": "mobile",
          "user_id": 10496
         },
         {
          "index": 1179,
          "nps_group": "detractor",
          "nps_rating": 1,
          "response_date": "2020-12-31",
          "source": "mobile",
          "user_id": 17685
         },
         {
          "index": 1180,
          "nps_group": "passive",
          "nps_rating": 8,
          "response_date": "2020-11-05",
          "source": "mobile",
          "user_id": 14415
         },
         {
          "index": 1181,
          "nps_group": "promoter",
          "nps_rating": 9,
          "response_date": "2020-11-13",
          "source": "mobile",
          "user_id": 42807
         },
         {
          "index": 1182,
          "nps_group": "passive",
          "nps_rating": 7,
          "response_date": "2020-11-18",
          "source": "mobile",
          "user_id": 37689
         },
         {
          "index": 1183,
          "nps_group": "passive",
          "nps_rating": 7,
          "response_date": "2020-12-05",
          "source": "mobile",
          "user_id": 37385
         },
         {
          "index": 1184,
          "nps_group": "detractor",
          "nps_rating": 6,
          "response_date": "2020-12-11",
          "source": "mobile",
          "user_id": 23290
         },
         {
          "index": 1185,
          "nps_group": "promoter",
          "nps_rating": 9,
          "response_date": "2020-11-30",
          "source": "mobile",
          "user_id": 22454
         },
         {
          "index": 1186,
          "nps_group": "detractor",
          "nps_rating": 5,
          "response_date": "2020-12-23",
          "source": "mobile",
          "user_id": 26755
         },
         {
          "index": 1187,
          "nps_group": "passive",
          "nps_rating": 7,
          "response_date": "2020-10-08",
          "source": "mobile",
          "user_id": 45492
         },
         {
          "index": 1188,
          "nps_group": "passive",
          "nps_rating": 7,
          "response_date": "2020-10-03",
          "source": "mobile",
          "user_id": 17207
         },
         {
          "index": 1189,
          "nps_group": "passive",
          "nps_rating": 8,
          "response_date": "2020-10-06",
          "source": "mobile",
          "user_id": 42734
         },
         {
          "index": 1190,
          "nps_group": "promoter",
          "nps_rating": 10,
          "response_date": "2020-11-07",
          "source": "mobile",
          "user_id": 26104
         },
         {
          "index": 1191,
          "nps_group": "promoter",
          "nps_rating": 9,
          "response_date": "2020-11-01",
          "source": "mobile",
          "user_id": 17340
         },
         {
          "index": 1192,
          "nps_group": "promoter",
          "nps_rating": 9,
          "response_date": "2020-10-07",
          "source": "mobile",
          "user_id": 36709
         },
         {
          "index": 1193,
          "nps_group": "passive",
          "nps_rating": 8,
          "response_date": "2020-10-08",
          "source": "mobile",
          "user_id": 31654
         },
         {
          "index": 1194,
          "nps_group": "detractor",
          "nps_rating": 6,
          "response_date": "2020-12-21",
          "source": "mobile",
          "user_id": 31007
         },
         {
          "index": 1195,
          "nps_group": "promoter",
          "nps_rating": 10,
          "response_date": "2020-12-29",
          "source": "mobile",
          "user_id": 19734
         },
         {
          "index": 1196,
          "nps_group": "passive",
          "nps_rating": 8,
          "response_date": "2020-12-01",
          "source": "mobile",
          "user_id": 25265
         },
         {
          "index": 1197,
          "nps_group": "passive",
          "nps_rating": 7,
          "response_date": "2020-11-01",
          "source": "mobile",
          "user_id": 49508
         },
         {
          "index": 1198,
          "nps_group": "passive",
          "nps_rating": 7,
          "response_date": "2020-11-11",
          "source": "mobile",
          "user_id": 12014
         },
         {
          "index": 1199,
          "nps_group": "detractor",
          "nps_rating": 6,
          "response_date": "2020-11-12",
          "source": "mobile",
          "user_id": 33707
         },
         {
          "index": 1200,
          "nps_group": "passive",
          "nps_rating": 7,
          "response_date": "2020-10-16",
          "source": "mobile",
          "user_id": 17056
         },
         {
          "index": 1201,
          "nps_group": "detractor",
          "nps_rating": 5,
          "response_date": "2020-10-28",
          "source": "mobile",
          "user_id": 27099
         },
         {
          "index": 1202,
          "nps_group": "passive",
          "nps_rating": 8,
          "response_date": "2020-11-13",
          "source": "mobile",
          "user_id": 32923
         },
         {
          "index": 1203,
          "nps_group": "promoter",
          "nps_rating": 9,
          "response_date": "2020-11-02",
          "source": "mobile",
          "user_id": 36896
         },
         {
          "index": 1204,
          "nps_group": "detractor",
          "nps_rating": 5,
          "response_date": "2020-11-03",
          "source": "mobile",
          "user_id": 32292
         },
         {
          "index": 1205,
          "nps_group": "passive",
          "nps_rating": 7,
          "response_date": "2020-10-18",
          "source": "mobile",
          "user_id": 37474
         },
         {
          "index": 1206,
          "nps_group": "passive",
          "nps_rating": 7,
          "response_date": "2020-11-22",
          "source": "mobile",
          "user_id": 29751
         },
         {
          "index": 1207,
          "nps_group": "promoter",
          "nps_rating": 10,
          "response_date": "2020-10-31",
          "source": "mobile",
          "user_id": 18714
         },
         {
          "index": 1208,
          "nps_group": "passive",
          "nps_rating": 7,
          "response_date": "2020-10-11",
          "source": "mobile",
          "user_id": 38733
         },
         {
          "index": 1209,
          "nps_group": "detractor",
          "nps_rating": 5,
          "response_date": "2020-12-24",
          "source": "mobile",
          "user_id": 23133
         },
         {
          "index": 1210,
          "nps_group": "passive",
          "nps_rating": 7,
          "response_date": "2020-10-23",
          "source": "mobile",
          "user_id": 29839
         },
         {
          "index": 1211,
          "nps_group": "passive",
          "nps_rating": 7,
          "response_date": "2020-12-10",
          "source": "mobile",
          "user_id": 27270
         },
         {
          "index": 1212,
          "nps_group": "promoter",
          "nps_rating": 9,
          "response_date": "2020-11-02",
          "source": "mobile",
          "user_id": 37265
         },
         {
          "index": 1213,
          "nps_group": "passive",
          "nps_rating": 8,
          "response_date": "2020-11-13",
          "source": "mobile",
          "user_id": 31168
         },
         {
          "index": 1214,
          "nps_group": "detractor",
          "nps_rating": 5,
          "response_date": "2020-12-25",
          "source": "mobile",
          "user_id": 28726
         },
         {
          "index": 1215,
          "nps_group": "detractor",
          "nps_rating": 6,
          "response_date": "2020-12-09",
          "source": "mobile",
          "user_id": 25400
         },
         {
          "index": 1216,
          "nps_group": "passive",
          "nps_rating": 7,
          "response_date": "2020-10-27",
          "source": "mobile",
          "user_id": 43666
         },
         {
          "index": 1217,
          "nps_group": "detractor",
          "nps_rating": 2,
          "response_date": "2020-10-09",
          "source": "mobile",
          "user_id": 27849
         },
         {
          "index": 1218,
          "nps_group": "passive",
          "nps_rating": 7,
          "response_date": "2020-12-10",
          "source": "mobile",
          "user_id": 28915
         },
         {
          "index": 1219,
          "nps_group": "detractor",
          "nps_rating": 6,
          "response_date": "2020-12-01",
          "source": "mobile",
          "user_id": 23831
         },
         {
          "index": 1220,
          "nps_group": "detractor",
          "nps_rating": 4,
          "response_date": "2020-11-15",
          "source": "mobile",
          "user_id": 10630
         },
         {
          "index": 1221,
          "nps_group": "detractor",
          "nps_rating": 1,
          "response_date": "2020-12-14",
          "source": "mobile",
          "user_id": 20743
         },
         {
          "index": 1222,
          "nps_group": "detractor",
          "nps_rating": 4,
          "response_date": "2020-10-18",
          "source": "mobile",
          "user_id": 48035
         },
         {
          "index": 1223,
          "nps_group": "promoter",
          "nps_rating": 9,
          "response_date": "2020-10-12",
          "source": "mobile",
          "user_id": 41291
         },
         {
          "index": 1224,
          "nps_group": "promoter",
          "nps_rating": 10,
          "response_date": "2020-11-19",
          "source": "mobile",
          "user_id": 34185
         },
         {
          "index": 1225,
          "nps_group": "detractor",
          "nps_rating": 5,
          "response_date": "2020-11-26",
          "source": "mobile",
          "user_id": 27387
         },
         {
          "index": 1226,
          "nps_group": "detractor",
          "nps_rating": 5,
          "response_date": "2020-11-25",
          "source": "mobile",
          "user_id": 32310
         },
         {
          "index": 1227,
          "nps_group": "promoter",
          "nps_rating": 10,
          "response_date": "2020-11-02",
          "source": "mobile",
          "user_id": 37487
         },
         {
          "index": 1228,
          "nps_group": "passive",
          "nps_rating": 7,
          "response_date": "2020-10-01",
          "source": "mobile",
          "user_id": 29404
         },
         {
          "index": 1229,
          "nps_group": "passive",
          "nps_rating": 8,
          "response_date": "2020-11-17",
          "source": "mobile",
          "user_id": 29262
         },
         {
          "index": 1230,
          "nps_group": "passive",
          "nps_rating": 8,
          "response_date": "2020-10-09",
          "source": "mobile",
          "user_id": 11897
         },
         {
          "index": 1231,
          "nps_group": "passive",
          "nps_rating": 7,
          "response_date": "2020-11-11",
          "source": "mobile",
          "user_id": 33989
         },
         {
          "index": 1232,
          "nps_group": "detractor",
          "nps_rating": 6,
          "response_date": "2020-11-11",
          "source": "mobile",
          "user_id": 43905
         },
         {
          "index": 1233,
          "nps_group": "passive",
          "nps_rating": 8,
          "response_date": "2020-12-26",
          "source": "mobile",
          "user_id": 34121
         },
         {
          "index": 1234,
          "nps_group": "detractor",
          "nps_rating": 2,
          "response_date": "2020-12-19",
          "source": "mobile",
          "user_id": 16682
         },
         {
          "index": 1235,
          "nps_group": "passive",
          "nps_rating": 8,
          "response_date": "2020-11-22",
          "source": "mobile",
          "user_id": 38375
         },
         {
          "index": 1236,
          "nps_group": "passive",
          "nps_rating": 7,
          "response_date": "2020-11-17",
          "source": "mobile",
          "user_id": 10547
         },
         {
          "index": 1237,
          "nps_group": "passive",
          "nps_rating": 7,
          "response_date": "2020-11-04",
          "source": "mobile",
          "user_id": 49930
         },
         {
          "index": 1238,
          "nps_group": "detractor",
          "nps_rating": 3,
          "response_date": "2020-11-14",
          "source": "mobile",
          "user_id": 41221
         },
         {
          "index": 1239,
          "nps_group": "passive",
          "nps_rating": 7,
          "response_date": "2020-10-15",
          "source": "mobile",
          "user_id": 18508
         },
         {
          "index": 1240,
          "nps_group": "passive",
          "nps_rating": 7,
          "response_date": "2020-10-26",
          "source": "mobile",
          "user_id": 12874
         },
         {
          "index": 1241,
          "nps_group": "detractor",
          "nps_rating": 5,
          "response_date": "2020-11-26",
          "source": "mobile",
          "user_id": 10026
         },
         {
          "index": 1242,
          "nps_group": "detractor",
          "nps_rating": 4,
          "response_date": "2020-10-17",
          "source": "mobile",
          "user_id": 25829
         },
         {
          "index": 1243,
          "nps_group": "detractor",
          "nps_rating": 0,
          "response_date": "2020-10-15",
          "source": "mobile",
          "user_id": 21644
         },
         {
          "index": 1244,
          "nps_group": "detractor",
          "nps_rating": 6,
          "response_date": "2020-12-14",
          "source": "mobile",
          "user_id": 49576
         },
         {
          "index": 1245,
          "nps_group": "promoter",
          "nps_rating": 10,
          "response_date": "2020-10-24",
          "source": "mobile",
          "user_id": 21212
         },
         {
          "index": 1246,
          "nps_group": "passive",
          "nps_rating": 7,
          "response_date": "2020-10-23",
          "source": "mobile",
          "user_id": 11015
         },
         {
          "index": 1247,
          "nps_group": "detractor",
          "nps_rating": 5,
          "response_date": "2020-12-05",
          "source": "mobile",
          "user_id": 41202
         },
         {
          "index": 1248,
          "nps_group": "passive",
          "nps_rating": 7,
          "response_date": "2020-11-08",
          "source": "mobile",
          "user_id": 14244
         },
         {
          "index": 1249,
          "nps_group": "passive",
          "nps_rating": 7,
          "response_date": "2020-10-12",
          "source": "mobile",
          "user_id": 18542
         },
         {
          "index": 1250,
          "nps_group": "detractor",
          "nps_rating": 6,
          "response_date": "2020-10-28",
          "source": "mobile",
          "user_id": 29288
         },
         {
          "index": 1251,
          "nps_group": "promoter",
          "nps_rating": 9,
          "response_date": "2020-10-25",
          "source": "mobile",
          "user_id": 34216
         },
         {
          "index": 1252,
          "nps_group": "passive",
          "nps_rating": 7,
          "response_date": "2020-12-08",
          "source": "mobile",
          "user_id": 10637
         },
         {
          "index": 1253,
          "nps_group": "detractor",
          "nps_rating": 3,
          "response_date": "2020-12-17",
          "source": "mobile",
          "user_id": 26335
         },
         {
          "index": 1254,
          "nps_group": "promoter",
          "nps_rating": 10,
          "response_date": "2020-10-28",
          "source": "mobile",
          "user_id": 23834
         },
         {
          "index": 1255,
          "nps_group": "detractor",
          "nps_rating": 5,
          "response_date": "2020-11-03",
          "source": "mobile",
          "user_id": 49227
         },
         {
          "index": 1256,
          "nps_group": "passive",
          "nps_rating": 7,
          "response_date": "2020-12-12",
          "source": "mobile",
          "user_id": 22139
         },
         {
          "index": 1257,
          "nps_group": "detractor",
          "nps_rating": 5,
          "response_date": "2020-12-16",
          "source": "mobile",
          "user_id": 42036
         },
         {
          "index": 1258,
          "nps_group": "passive",
          "nps_rating": 7,
          "response_date": "2020-12-05",
          "source": "mobile",
          "user_id": 48237
         },
         {
          "index": 1259,
          "nps_group": "detractor",
          "nps_rating": 6,
          "response_date": "2020-12-01",
          "source": "mobile",
          "user_id": 15616
         },
         {
          "index": 1260,
          "nps_group": "promoter",
          "nps_rating": 9,
          "response_date": "2020-11-21",
          "source": "mobile",
          "user_id": 32434
         },
         {
          "index": 1261,
          "nps_group": "promoter",
          "nps_rating": 10,
          "response_date": "2020-10-30",
          "source": "mobile",
          "user_id": 39419
         },
         {
          "index": 1262,
          "nps_group": "passive",
          "nps_rating": 7,
          "response_date": "2020-10-31",
          "source": "mobile",
          "user_id": 43079
         },
         {
          "index": 1263,
          "nps_group": "promoter",
          "nps_rating": 9,
          "response_date": "2020-10-17",
          "source": "mobile",
          "user_id": 48782
         },
         {
          "index": 1264,
          "nps_group": "passive",
          "nps_rating": 8,
          "response_date": "2020-11-11",
          "source": "mobile",
          "user_id": 34401
         },
         {
          "index": 1265,
          "nps_group": "passive",
          "nps_rating": 7,
          "response_date": "2020-11-10",
          "source": "mobile",
          "user_id": 24069
         },
         {
          "index": 1266,
          "nps_group": "detractor",
          "nps_rating": 1,
          "response_date": "2020-10-25",
          "source": "mobile",
          "user_id": 36581
         },
         {
          "index": 1267,
          "nps_group": "detractor",
          "nps_rating": 1,
          "response_date": "2020-12-07",
          "source": "mobile",
          "user_id": 14228
         },
         {
          "index": 1268,
          "nps_group": "passive",
          "nps_rating": 7,
          "response_date": "2020-10-28",
          "source": "mobile",
          "user_id": 40697
         },
         {
          "index": 1269,
          "nps_group": "detractor",
          "nps_rating": 4,
          "response_date": "2020-12-09",
          "source": "mobile",
          "user_id": 13203
         },
         {
          "index": 1270,
          "nps_group": "detractor",
          "nps_rating": 5,
          "response_date": "2020-12-13",
          "source": "mobile",
          "user_id": 48503
         },
         {
          "index": 1271,
          "nps_group": "detractor",
          "nps_rating": 5,
          "response_date": "2020-11-14",
          "source": "mobile",
          "user_id": 34340
         },
         {
          "index": 1272,
          "nps_group": "passive",
          "nps_rating": 7,
          "response_date": "2020-12-21",
          "source": "mobile",
          "user_id": 17002
         },
         {
          "index": 1273,
          "nps_group": "detractor",
          "nps_rating": 5,
          "response_date": "2020-12-14",
          "source": "mobile",
          "user_id": 39660
         },
         {
          "index": 1274,
          "nps_group": "passive",
          "nps_rating": 7,
          "response_date": "2020-12-17",
          "source": "mobile",
          "user_id": 48240
         },
         {
          "index": 1275,
          "nps_group": "passive",
          "nps_rating": 8,
          "response_date": "2020-10-12",
          "source": "mobile",
          "user_id": 13703
         },
         {
          "index": 1276,
          "nps_group": "detractor",
          "nps_rating": 6,
          "response_date": "2020-10-03",
          "source": "mobile",
          "user_id": 14034
         },
         {
          "index": 1277,
          "nps_group": "detractor",
          "nps_rating": 1,
          "response_date": "2020-10-18",
          "source": "mobile",
          "user_id": 48382
         },
         {
          "index": 1278,
          "nps_group": "detractor",
          "nps_rating": 3,
          "response_date": "2020-10-17",
          "source": "mobile",
          "user_id": 48931
         },
         {
          "index": 1279,
          "nps_group": "detractor",
          "nps_rating": 1,
          "response_date": "2020-11-16",
          "source": "mobile",
          "user_id": 16990
         },
         {
          "index": 1280,
          "nps_group": "passive",
          "nps_rating": 7,
          "response_date": "2020-11-22",
          "source": "mobile",
          "user_id": 32263
         },
         {
          "index": 1281,
          "nps_group": "promoter",
          "nps_rating": 9,
          "response_date": "2020-11-09",
          "source": "mobile",
          "user_id": 49041
         },
         {
          "index": 1282,
          "nps_group": "passive",
          "nps_rating": 7,
          "response_date": "2020-12-07",
          "source": "mobile",
          "user_id": 24459
         },
         {
          "index": 1283,
          "nps_group": "detractor",
          "nps_rating": 6,
          "response_date": "2020-10-13",
          "source": "mobile",
          "user_id": 41227
         },
         {
          "index": 1284,
          "nps_group": "passive",
          "nps_rating": 8,
          "response_date": "2020-12-12",
          "source": "mobile",
          "user_id": 19292
         },
         {
          "index": 1285,
          "nps_group": "detractor",
          "nps_rating": 5,
          "response_date": "2020-12-19",
          "source": "mobile",
          "user_id": 29651
         },
         {
          "index": 1286,
          "nps_group": "passive",
          "nps_rating": 8,
          "response_date": "2020-11-21",
          "source": "mobile",
          "user_id": 24442
         },
         {
          "index": 1287,
          "nps_group": "detractor",
          "nps_rating": 3,
          "response_date": "2020-11-04",
          "source": "mobile",
          "user_id": 30976
         },
         {
          "index": 1288,
          "nps_group": "detractor",
          "nps_rating": 3,
          "response_date": "2020-12-24",
          "source": "mobile",
          "user_id": 27554
         },
         {
          "index": 1289,
          "nps_group": "promoter",
          "nps_rating": 10,
          "response_date": "2020-12-31",
          "source": "mobile",
          "user_id": 24388
         },
         {
          "index": 1290,
          "nps_group": "passive",
          "nps_rating": 7,
          "response_date": "2020-10-02",
          "source": "mobile",
          "user_id": 38971
         },
         {
          "index": 1291,
          "nps_group": "promoter",
          "nps_rating": 9,
          "response_date": "2020-10-07",
          "source": "mobile",
          "user_id": 14413
         },
         {
          "index": 1292,
          "nps_group": "passive",
          "nps_rating": 7,
          "response_date": "2020-10-18",
          "source": "mobile",
          "user_id": 13355
         },
         {
          "index": 1293,
          "nps_group": "detractor",
          "nps_rating": 5,
          "response_date": "2020-12-31",
          "source": "mobile",
          "user_id": 44841
         },
         {
          "index": 1294,
          "nps_group": "passive",
          "nps_rating": 7,
          "response_date": "2020-12-25",
          "source": "mobile",
          "user_id": 17994
         },
         {
          "index": 1295,
          "nps_group": "detractor",
          "nps_rating": 5,
          "response_date": "2020-11-06",
          "source": "mobile",
          "user_id": 19764
         },
         {
          "index": 1296,
          "nps_group": "passive",
          "nps_rating": 8,
          "response_date": "2020-10-07",
          "source": "mobile",
          "user_id": 43100
         },
         {
          "index": 1297,
          "nps_group": "passive",
          "nps_rating": 7,
          "response_date": "2020-12-07",
          "source": "mobile",
          "user_id": 48888
         },
         {
          "index": 1298,
          "nps_group": "detractor",
          "nps_rating": 4,
          "response_date": "2020-11-22",
          "source": "mobile",
          "user_id": 43620
         },
         {
          "index": 1299,
          "nps_group": "passive",
          "nps_rating": 7,
          "response_date": "2020-12-31",
          "source": "mobile",
          "user_id": 22005
         },
         {
          "index": 1300,
          "nps_group": "passive",
          "nps_rating": 7,
          "response_date": "2020-10-13",
          "source": "mobile",
          "user_id": 28249
         },
         {
          "index": 1301,
          "nps_group": "detractor",
          "nps_rating": 4,
          "response_date": "2020-12-28",
          "source": "mobile",
          "user_id": 19539
         },
         {
          "index": 1302,
          "nps_group": "passive",
          "nps_rating": 8,
          "response_date": "2020-12-08",
          "source": "mobile",
          "user_id": 12652
         },
         {
          "index": 1303,
          "nps_group": "detractor",
          "nps_rating": 5,
          "response_date": "2020-11-03",
          "source": "mobile",
          "user_id": 14102
         },
         {
          "index": 1304,
          "nps_group": "passive",
          "nps_rating": 7,
          "response_date": "2020-12-18",
          "source": "mobile",
          "user_id": 23072
         },
         {
          "index": 1305,
          "nps_group": "passive",
          "nps_rating": 7,
          "response_date": "2020-12-09",
          "source": "mobile",
          "user_id": 34012
         },
         {
          "index": 1306,
          "nps_group": "passive",
          "nps_rating": 7,
          "response_date": "2020-12-19",
          "source": "mobile",
          "user_id": 44006
         },
         {
          "index": 1307,
          "nps_group": "passive",
          "nps_rating": 8,
          "response_date": "2020-11-06",
          "source": "mobile",
          "user_id": 37397
         },
         {
          "index": 1308,
          "nps_group": "passive",
          "nps_rating": 7,
          "response_date": "2020-12-28",
          "source": "mobile",
          "user_id": 47205
         },
         {
          "index": 1309,
          "nps_group": "detractor",
          "nps_rating": 6,
          "response_date": "2020-11-26",
          "source": "mobile",
          "user_id": 19220
         },
         {
          "index": 1310,
          "nps_group": "passive",
          "nps_rating": 7,
          "response_date": "2020-11-01",
          "source": "mobile",
          "user_id": 19383
         },
         {
          "index": 1311,
          "nps_group": "promoter",
          "nps_rating": 9,
          "response_date": "2020-11-10",
          "source": "mobile",
          "user_id": 11781
         },
         {
          "index": 1312,
          "nps_group": "passive",
          "nps_rating": 8,
          "response_date": "2020-11-24",
          "source": "mobile",
          "user_id": 49548
         },
         {
          "index": 1313,
          "nps_group": "passive",
          "nps_rating": 7,
          "response_date": "2020-11-04",
          "source": "mobile",
          "user_id": 31992
         },
         {
          "index": 1314,
          "nps_group": "detractor",
          "nps_rating": 4,
          "response_date": "2020-10-22",
          "source": "mobile",
          "user_id": 22816
         },
         {
          "index": 1315,
          "nps_group": "passive",
          "nps_rating": 8,
          "response_date": "2020-10-22",
          "source": "mobile",
          "user_id": 27380
         },
         {
          "index": 1316,
          "nps_group": "passive",
          "nps_rating": 7,
          "response_date": "2020-11-05",
          "source": "mobile",
          "user_id": 11232
         },
         {
          "index": 1317,
          "nps_group": "passive",
          "nps_rating": 7,
          "response_date": "2020-11-25",
          "source": "mobile",
          "user_id": 47143
         },
         {
          "index": 1318,
          "nps_group": "detractor",
          "nps_rating": 3,
          "response_date": "2020-10-19",
          "source": "mobile",
          "user_id": 11443
         },
         {
          "index": 1319,
          "nps_group": "passive",
          "nps_rating": 8,
          "response_date": "2020-11-10",
          "source": "mobile",
          "user_id": 30337
         },
         {
          "index": 1320,
          "nps_group": "promoter",
          "nps_rating": 10,
          "response_date": "2020-11-30",
          "source": "mobile",
          "user_id": 24162
         },
         {
          "index": 1321,
          "nps_group": "promoter",
          "nps_rating": 10,
          "response_date": "2020-10-29",
          "source": "mobile",
          "user_id": 19802
         },
         {
          "index": 1322,
          "nps_group": "passive",
          "nps_rating": 7,
          "response_date": "2020-10-16",
          "source": "mobile",
          "user_id": 18139
         },
         {
          "index": 1323,
          "nps_group": "passive",
          "nps_rating": 7,
          "response_date": "2020-10-24",
          "source": "mobile",
          "user_id": 12821
         },
         {
          "index": 1324,
          "nps_group": "detractor",
          "nps_rating": 3,
          "response_date": "2020-10-07",
          "source": "mobile",
          "user_id": 40885
         },
         {
          "index": 1325,
          "nps_group": "passive",
          "nps_rating": 7,
          "response_date": "2020-11-18",
          "source": "mobile",
          "user_id": 39203
         },
         {
          "index": 1326,
          "nps_group": "passive",
          "nps_rating": 7,
          "response_date": "2020-11-04",
          "source": "mobile",
          "user_id": 43724
         },
         {
          "index": 1327,
          "nps_group": "promoter",
          "nps_rating": 10,
          "response_date": "2020-10-30",
          "source": "mobile",
          "user_id": 23115
         },
         {
          "index": 1328,
          "nps_group": "passive",
          "nps_rating": 7,
          "response_date": "2020-10-28",
          "source": "mobile",
          "user_id": 16625
         },
         {
          "index": 1329,
          "nps_group": "passive",
          "nps_rating": 8,
          "response_date": "2020-10-27",
          "source": "mobile",
          "user_id": 10646
         },
         {
          "index": 1330,
          "nps_group": "passive",
          "nps_rating": 7,
          "response_date": "2020-11-22",
          "source": "mobile",
          "user_id": 47116
         },
         {
          "index": 1331,
          "nps_group": "detractor",
          "nps_rating": 3,
          "response_date": "2020-10-31",
          "source": "mobile",
          "user_id": 26121
         },
         {
          "index": 1332,
          "nps_group": "passive",
          "nps_rating": 7,
          "response_date": "2020-10-31",
          "source": "mobile",
          "user_id": 20899
         },
         {
          "index": 1333,
          "nps_group": "passive",
          "nps_rating": 7,
          "response_date": "2020-11-16",
          "source": "mobile",
          "user_id": 11955
         },
         {
          "index": 1334,
          "nps_group": "promoter",
          "nps_rating": 9,
          "response_date": "2020-11-05",
          "source": "mobile",
          "user_id": 10794
         },
         {
          "index": 1335,
          "nps_group": "passive",
          "nps_rating": 8,
          "response_date": "2020-10-30",
          "source": "mobile",
          "user_id": 33376
         },
         {
          "index": 1336,
          "nps_group": "detractor",
          "nps_rating": 5,
          "response_date": "2020-12-21",
          "source": "mobile",
          "user_id": 31461
         },
         {
          "index": 1337,
          "nps_group": "promoter",
          "nps_rating": 9,
          "response_date": "2020-11-22",
          "source": "mobile",
          "user_id": 18587
         },
         {
          "index": 1338,
          "nps_group": "passive",
          "nps_rating": 7,
          "response_date": "2020-11-19",
          "source": "mobile",
          "user_id": 33934
         },
         {
          "index": 1339,
          "nps_group": "passive",
          "nps_rating": 7,
          "response_date": "2020-12-30",
          "source": "mobile",
          "user_id": 44282
         },
         {
          "index": 1340,
          "nps_group": "passive",
          "nps_rating": 7,
          "response_date": "2020-11-29",
          "source": "mobile",
          "user_id": 14220
         },
         {
          "index": 1341,
          "nps_group": "detractor",
          "nps_rating": 1,
          "response_date": "2020-10-09",
          "source": "mobile",
          "user_id": 43765
         },
         {
          "index": 1342,
          "nps_group": "passive",
          "nps_rating": 8,
          "response_date": "2020-12-26",
          "source": "mobile",
          "user_id": 46455
         },
         {
          "index": 1343,
          "nps_group": "passive",
          "nps_rating": 7,
          "response_date": "2020-10-10",
          "source": "mobile",
          "user_id": 10201
         },
         {
          "index": 1344,
          "nps_group": "passive",
          "nps_rating": 7,
          "response_date": "2020-12-21",
          "source": "mobile",
          "user_id": 10478
         },
         {
          "index": 1345,
          "nps_group": "passive",
          "nps_rating": 7,
          "response_date": "2020-12-20",
          "source": "mobile",
          "user_id": 32957
         },
         {
          "index": 1346,
          "nps_group": "passive",
          "nps_rating": 7,
          "response_date": "2020-10-20",
          "source": "mobile",
          "user_id": 40422
         },
         {
          "index": 1347,
          "nps_group": "passive",
          "nps_rating": 7,
          "response_date": "2020-11-13",
          "source": "mobile",
          "user_id": 44963
         },
         {
          "index": 1348,
          "nps_group": "detractor",
          "nps_rating": 5,
          "response_date": "2020-12-19",
          "source": "mobile",
          "user_id": 20701
         },
         {
          "index": 1349,
          "nps_group": "passive",
          "nps_rating": 8,
          "response_date": "2020-11-28",
          "source": "mobile",
          "user_id": 41348
         },
         {
          "index": 1350,
          "nps_group": "passive",
          "nps_rating": 7,
          "response_date": "2020-10-16",
          "source": "mobile",
          "user_id": 31352
         },
         {
          "index": 1351,
          "nps_group": "detractor",
          "nps_rating": 4,
          "response_date": "2020-12-26",
          "source": "mobile",
          "user_id": 29361
         },
         {
          "index": 1352,
          "nps_group": "passive",
          "nps_rating": 7,
          "response_date": "2020-10-31",
          "source": "mobile",
          "user_id": 16504
         },
         {
          "index": 1353,
          "nps_group": "promoter",
          "nps_rating": 9,
          "response_date": "2020-10-19",
          "source": "mobile",
          "user_id": 37971
         },
         {
          "index": 1354,
          "nps_group": "detractor",
          "nps_rating": 4,
          "response_date": "2020-11-29",
          "source": "mobile",
          "user_id": 33783
         },
         {
          "index": 1355,
          "nps_group": "promoter",
          "nps_rating": 10,
          "response_date": "2020-12-12",
          "source": "mobile",
          "user_id": 44715
         },
         {
          "index": 1356,
          "nps_group": "detractor",
          "nps_rating": 1,
          "response_date": "2020-11-26",
          "source": "mobile",
          "user_id": 40689
         },
         {
          "index": 1357,
          "nps_group": "promoter",
          "nps_rating": 10,
          "response_date": "2020-10-04",
          "source": "mobile",
          "user_id": 30481
         },
         {
          "index": 1358,
          "nps_group": "detractor",
          "nps_rating": 4,
          "response_date": "2020-11-01",
          "source": "mobile",
          "user_id": 36814
         },
         {
          "index": 1359,
          "nps_group": "passive",
          "nps_rating": 7,
          "response_date": "2020-11-06",
          "source": "mobile",
          "user_id": 19007
         },
         {
          "index": 1360,
          "nps_group": "passive",
          "nps_rating": 7,
          "response_date": "2020-12-12",
          "source": "mobile",
          "user_id": 48584
         },
         {
          "index": 1361,
          "nps_group": "detractor",
          "nps_rating": 2,
          "response_date": "2020-11-29",
          "source": "mobile",
          "user_id": 19389
         },
         {
          "index": 1362,
          "nps_group": "passive",
          "nps_rating": 8,
          "response_date": "2020-10-26",
          "source": "mobile",
          "user_id": 33822
         },
         {
          "index": 1363,
          "nps_group": "detractor",
          "nps_rating": 3,
          "response_date": "2020-10-27",
          "source": "mobile",
          "user_id": 33775
         },
         {
          "index": 1364,
          "nps_group": "passive",
          "nps_rating": 7,
          "response_date": "2020-10-06",
          "source": "mobile",
          "user_id": 22220
         },
         {
          "index": 1365,
          "nps_group": "passive",
          "nps_rating": 7,
          "response_date": "2020-10-02",
          "source": "mobile",
          "user_id": 20543
         },
         {
          "index": 1366,
          "nps_group": "promoter",
          "nps_rating": 9,
          "response_date": "2020-10-06",
          "source": "mobile",
          "user_id": 49120
         },
         {
          "index": 1367,
          "nps_group": "detractor",
          "nps_rating": 5,
          "response_date": "2020-12-31",
          "source": "mobile",
          "user_id": 35058
         },
         {
          "index": 1368,
          "nps_group": "detractor",
          "nps_rating": 5,
          "response_date": "2020-10-27",
          "source": "mobile",
          "user_id": 28170
         },
         {
          "index": 1369,
          "nps_group": "promoter",
          "nps_rating": 10,
          "response_date": "2020-11-29",
          "source": "mobile",
          "user_id": 23310
         },
         {
          "index": 1370,
          "nps_group": "passive",
          "nps_rating": 7,
          "response_date": "2020-11-09",
          "source": "mobile",
          "user_id": 47639
         },
         {
          "index": 1371,
          "nps_group": "passive",
          "nps_rating": 7,
          "response_date": "2020-12-29",
          "source": "mobile",
          "user_id": 33224
         },
         {
          "index": 1372,
          "nps_group": "promoter",
          "nps_rating": 9,
          "response_date": "2020-12-21",
          "source": "mobile",
          "user_id": 44424
         },
         {
          "index": 1373,
          "nps_group": "passive",
          "nps_rating": 8,
          "response_date": "2020-12-03",
          "source": "mobile",
          "user_id": 32856
         },
         {
          "index": 1374,
          "nps_group": "detractor",
          "nps_rating": 5,
          "response_date": "2020-10-08",
          "source": "mobile",
          "user_id": 12142
         },
         {
          "index": 1375,
          "nps_group": "passive",
          "nps_rating": 7,
          "response_date": "2020-10-26",
          "source": "mobile",
          "user_id": 47628
         },
         {
          "index": 1376,
          "nps_group": "passive",
          "nps_rating": 8,
          "response_date": "2020-10-15",
          "source": "mobile",
          "user_id": 23391
         },
         {
          "index": 1377,
          "nps_group": "promoter",
          "nps_rating": 9,
          "response_date": "2020-11-29",
          "source": "mobile",
          "user_id": 22569
         },
         {
          "index": 1378,
          "nps_group": "detractor",
          "nps_rating": 1,
          "response_date": "2020-10-20",
          "source": "mobile",
          "user_id": 41691
         },
         {
          "index": 1379,
          "nps_group": "detractor",
          "nps_rating": 4,
          "response_date": "2020-12-05",
          "source": "mobile",
          "user_id": 38944
         },
         {
          "index": 1380,
          "nps_group": "detractor",
          "nps_rating": 4,
          "response_date": "2020-12-05",
          "source": "mobile",
          "user_id": 26503
         },
         {
          "index": 1381,
          "nps_group": "passive",
          "nps_rating": 7,
          "response_date": "2020-12-31",
          "source": "mobile",
          "user_id": 12219
         },
         {
          "index": 1382,
          "nps_group": "detractor",
          "nps_rating": 6,
          "response_date": "2020-11-29",
          "source": "mobile",
          "user_id": 20247
         },
         {
          "index": 1383,
          "nps_group": "passive",
          "nps_rating": 7,
          "response_date": "2020-11-25",
          "source": "mobile",
          "user_id": 10140
         },
         {
          "index": 1384,
          "nps_group": "passive",
          "nps_rating": 7,
          "response_date": "2020-12-04",
          "source": "mobile",
          "user_id": 31002
         },
         {
          "index": 1385,
          "nps_group": "detractor",
          "nps_rating": 2,
          "response_date": "2020-11-12",
          "source": "mobile",
          "user_id": 10919
         },
         {
          "index": 1386,
          "nps_group": "detractor",
          "nps_rating": 1,
          "response_date": "2020-10-17",
          "source": "mobile",
          "user_id": 24792
         },
         {
          "index": 1387,
          "nps_group": "detractor",
          "nps_rating": 1,
          "response_date": "2020-11-01",
          "source": "mobile",
          "user_id": 14410
         },
         {
          "index": 1388,
          "nps_group": "passive",
          "nps_rating": 7,
          "response_date": "2020-12-04",
          "source": "mobile",
          "user_id": 16805
         },
         {
          "index": 1389,
          "nps_group": "promoter",
          "nps_rating": 10,
          "response_date": "2020-11-18",
          "source": "mobile",
          "user_id": 37262
         },
         {
          "index": 1390,
          "nps_group": "detractor",
          "nps_rating": 6,
          "response_date": "2020-10-11",
          "source": "mobile",
          "user_id": 19472
         },
         {
          "index": 1391,
          "nps_group": "passive",
          "nps_rating": 8,
          "response_date": "2020-11-25",
          "source": "mobile",
          "user_id": 41648
         },
         {
          "index": 1392,
          "nps_group": "promoter",
          "nps_rating": 9,
          "response_date": "2020-10-05",
          "source": "mobile",
          "user_id": 17078
         },
         {
          "index": 1393,
          "nps_group": "promoter",
          "nps_rating": 9,
          "response_date": "2020-12-28",
          "source": "mobile",
          "user_id": 40786
         },
         {
          "index": 1394,
          "nps_group": "promoter",
          "nps_rating": 9,
          "response_date": "2020-10-09",
          "source": "mobile",
          "user_id": 35743
         },
         {
          "index": 1395,
          "nps_group": "detractor",
          "nps_rating": 5,
          "response_date": "2020-11-10",
          "source": "mobile",
          "user_id": 11003
         },
         {
          "index": 1396,
          "nps_group": "passive",
          "nps_rating": 8,
          "response_date": "2020-10-04",
          "source": "mobile",
          "user_id": 39780
         },
         {
          "index": 1397,
          "nps_group": "promoter",
          "nps_rating": 9,
          "response_date": "2020-10-18",
          "source": "mobile",
          "user_id": 41412
         },
         {
          "index": 1398,
          "nps_group": "promoter",
          "nps_rating": 9,
          "response_date": "2020-11-04",
          "source": "mobile",
          "user_id": 28220
         },
         {
          "index": 1399,
          "nps_group": "passive",
          "nps_rating": 8,
          "response_date": "2020-10-25",
          "source": "mobile",
          "user_id": 24586
         },
         {
          "index": 1400,
          "nps_group": "passive",
          "nps_rating": 7,
          "response_date": "2020-10-13",
          "source": "mobile",
          "user_id": 26796
         },
         {
          "index": 1401,
          "nps_group": "passive",
          "nps_rating": 8,
          "response_date": "2020-10-11",
          "source": "mobile",
          "user_id": 19915
         },
         {
          "index": 1402,
          "nps_group": "promoter",
          "nps_rating": 10,
          "response_date": "2020-11-17",
          "source": "mobile",
          "user_id": 15875
         },
         {
          "index": 1403,
          "nps_group": "promoter",
          "nps_rating": 10,
          "response_date": "2020-10-26",
          "source": "mobile",
          "user_id": 49538
         },
         {
          "index": 1404,
          "nps_group": "promoter",
          "nps_rating": 9,
          "response_date": "2020-11-24",
          "source": "mobile",
          "user_id": 17527
         },
         {
          "index": 1405,
          "nps_group": "passive",
          "nps_rating": 7,
          "response_date": "2020-10-12",
          "source": "mobile",
          "user_id": 27316
         },
         {
          "index": 1406,
          "nps_group": "passive",
          "nps_rating": 7,
          "response_date": "2020-11-19",
          "source": "mobile",
          "user_id": 25724
         },
         {
          "index": 1407,
          "nps_group": "detractor",
          "nps_rating": 1,
          "response_date": "2020-10-13",
          "source": "mobile",
          "user_id": 38895
         },
         {
          "index": 1408,
          "nps_group": "detractor",
          "nps_rating": 6,
          "response_date": "2020-10-02",
          "source": "mobile",
          "user_id": 28665
         },
         {
          "index": 1409,
          "nps_group": "detractor",
          "nps_rating": 6,
          "response_date": "2020-10-11",
          "source": "mobile",
          "user_id": 41887
         },
         {
          "index": 1410,
          "nps_group": "detractor",
          "nps_rating": 4,
          "response_date": "2020-12-16",
          "source": "mobile",
          "user_id": 16850
         },
         {
          "index": 1411,
          "nps_group": "promoter",
          "nps_rating": 9,
          "response_date": "2020-11-05",
          "source": "mobile",
          "user_id": 16926
         },
         {
          "index": 1412,
          "nps_group": "promoter",
          "nps_rating": 9,
          "response_date": "2020-11-05",
          "source": "mobile",
          "user_id": 29922
         },
         {
          "index": 1413,
          "nps_group": "passive",
          "nps_rating": 8,
          "response_date": "2020-12-24",
          "source": "mobile",
          "user_id": 44980
         },
         {
          "index": 1414,
          "nps_group": "passive",
          "nps_rating": 8,
          "response_date": "2020-12-28",
          "source": "mobile",
          "user_id": 42270
         },
         {
          "index": 1415,
          "nps_group": "detractor",
          "nps_rating": 6,
          "response_date": "2020-10-16",
          "source": "mobile",
          "user_id": 27379
         },
         {
          "index": 1416,
          "nps_group": "passive",
          "nps_rating": 7,
          "response_date": "2020-10-26",
          "source": "mobile",
          "user_id": 29154
         },
         {
          "index": 1417,
          "nps_group": "promoter",
          "nps_rating": 10,
          "response_date": "2020-12-14",
          "source": "mobile",
          "user_id": 24497
         },
         {
          "index": 1418,
          "nps_group": "detractor",
          "nps_rating": 6,
          "response_date": "2020-11-04",
          "source": "mobile",
          "user_id": 22109
         },
         {
          "index": 1419,
          "nps_group": "detractor",
          "nps_rating": 1,
          "response_date": "2020-12-03",
          "source": "mobile",
          "user_id": 29719
         },
         {
          "index": 1420,
          "nps_group": "detractor",
          "nps_rating": 3,
          "response_date": "2020-11-08",
          "source": "mobile",
          "user_id": 16513
         },
         {
          "index": 1421,
          "nps_group": "promoter",
          "nps_rating": 10,
          "response_date": "2020-11-15",
          "source": "mobile",
          "user_id": 31397
         },
         {
          "index": 1422,
          "nps_group": "passive",
          "nps_rating": 8,
          "response_date": "2020-10-04",
          "source": "mobile",
          "user_id": 28846
         },
         {
          "index": 1423,
          "nps_group": "detractor",
          "nps_rating": 6,
          "response_date": "2020-10-12",
          "source": "mobile",
          "user_id": 15557
         },
         {
          "index": 1424,
          "nps_group": "passive",
          "nps_rating": 7,
          "response_date": "2020-12-21",
          "source": "mobile",
          "user_id": 29419
         },
         {
          "index": 1425,
          "nps_group": "promoter",
          "nps_rating": 9,
          "response_date": "2020-10-10",
          "source": "mobile",
          "user_id": 31568
         },
         {
          "index": 1426,
          "nps_group": "promoter",
          "nps_rating": 9,
          "response_date": "2020-11-07",
          "source": "mobile",
          "user_id": 20165
         },
         {
          "index": 1427,
          "nps_group": "detractor",
          "nps_rating": 3,
          "response_date": "2020-11-15",
          "source": "mobile",
          "user_id": 18311
         },
         {
          "index": 1428,
          "nps_group": "passive",
          "nps_rating": 7,
          "response_date": "2020-11-02",
          "source": "mobile",
          "user_id": 15493
         },
         {
          "index": 1429,
          "nps_group": "passive",
          "nps_rating": 8,
          "response_date": "2020-10-16",
          "source": "mobile",
          "user_id": 28707
         },
         {
          "index": 1430,
          "nps_group": "detractor",
          "nps_rating": 6,
          "response_date": "2020-10-14",
          "source": "mobile",
          "user_id": 32266
         },
         {
          "index": 1431,
          "nps_group": "detractor",
          "nps_rating": 4,
          "response_date": "2020-11-03",
          "source": "mobile",
          "user_id": 49750
         },
         {
          "index": 1432,
          "nps_group": "passive",
          "nps_rating": 7,
          "response_date": "2020-12-07",
          "source": "mobile",
          "user_id": 11580
         },
         {
          "index": 1433,
          "nps_group": "passive",
          "nps_rating": 7,
          "response_date": "2020-11-28",
          "source": "mobile",
          "user_id": 49008
         },
         {
          "index": 1434,
          "nps_group": "detractor",
          "nps_rating": 4,
          "response_date": "2020-11-13",
          "source": "mobile",
          "user_id": 28441
         },
         {
          "index": 1435,
          "nps_group": "passive",
          "nps_rating": 7,
          "response_date": "2020-10-05",
          "source": "mobile",
          "user_id": 20014
         },
         {
          "index": 1436,
          "nps_group": "detractor",
          "nps_rating": 2,
          "response_date": "2020-10-30",
          "source": "mobile",
          "user_id": 49614
         },
         {
          "index": 1437,
          "nps_group": "promoter",
          "nps_rating": 9,
          "response_date": "2020-10-02",
          "source": "mobile",
          "user_id": 40633
         },
         {
          "index": 1438,
          "nps_group": "passive",
          "nps_rating": 7,
          "response_date": "2020-10-05",
          "source": "mobile",
          "user_id": 30185
         },
         {
          "index": 1439,
          "nps_group": "passive",
          "nps_rating": 8,
          "response_date": "2020-11-02",
          "source": "mobile",
          "user_id": 27476
         },
         {
          "index": 1440,
          "nps_group": "detractor",
          "nps_rating": 6,
          "response_date": "2020-10-16",
          "source": "mobile",
          "user_id": 20817
         },
         {
          "index": 1441,
          "nps_group": "passive",
          "nps_rating": 8,
          "response_date": "2020-12-31",
          "source": "mobile",
          "user_id": 46702
         },
         {
          "index": 1442,
          "nps_group": "detractor",
          "nps_rating": 6,
          "response_date": "2020-12-04",
          "source": "mobile",
          "user_id": 47456
         },
         {
          "index": 1443,
          "nps_group": "detractor",
          "nps_rating": 5,
          "response_date": "2020-10-04",
          "source": "mobile",
          "user_id": 20086
         },
         {
          "index": 1444,
          "nps_group": "passive",
          "nps_rating": 7,
          "response_date": "2020-12-17",
          "source": "mobile",
          "user_id": 22476
         },
         {
          "index": 1445,
          "nps_group": "detractor",
          "nps_rating": 4,
          "response_date": "2020-10-18",
          "source": "mobile",
          "user_id": 41693
         },
         {
          "index": 1446,
          "nps_group": "passive",
          "nps_rating": 7,
          "response_date": "2020-11-18",
          "source": "mobile",
          "user_id": 40221
         },
         {
          "index": 1447,
          "nps_group": "detractor",
          "nps_rating": 2,
          "response_date": "2020-12-08",
          "source": "mobile",
          "user_id": 15767
         },
         {
          "index": 1448,
          "nps_group": "passive",
          "nps_rating": 7,
          "response_date": "2020-11-07",
          "source": "mobile",
          "user_id": 13959
         },
         {
          "index": 1449,
          "nps_group": "passive",
          "nps_rating": 8,
          "response_date": "2020-10-30",
          "source": "mobile",
          "user_id": 10433
         },
         {
          "index": 1450,
          "nps_group": "passive",
          "nps_rating": 7,
          "response_date": "2020-12-29",
          "source": "mobile",
          "user_id": 33326
         },
         {
          "index": 1451,
          "nps_group": "detractor",
          "nps_rating": 5,
          "response_date": "2020-12-16",
          "source": "mobile",
          "user_id": 35848
         },
         {
          "index": 1452,
          "nps_group": "passive",
          "nps_rating": 7,
          "response_date": "2020-10-13",
          "source": "mobile",
          "user_id": 38061
         },
         {
          "index": 1453,
          "nps_group": "detractor",
          "nps_rating": 6,
          "response_date": "2020-10-10",
          "source": "mobile",
          "user_id": 29661
         },
         {
          "index": 1454,
          "nps_group": "promoter",
          "nps_rating": 9,
          "response_date": "2020-12-21",
          "source": "mobile",
          "user_id": 13193
         },
         {
          "index": 1455,
          "nps_group": "promoter",
          "nps_rating": 9,
          "response_date": "2020-12-15",
          "source": "mobile",
          "user_id": 18131
         },
         {
          "index": 1456,
          "nps_group": "promoter",
          "nps_rating": 10,
          "response_date": "2020-10-12",
          "source": "mobile",
          "user_id": 48597
         },
         {
          "index": 1457,
          "nps_group": "detractor",
          "nps_rating": 1,
          "response_date": "2020-12-13",
          "source": "mobile",
          "user_id": 40204
         },
         {
          "index": 1458,
          "nps_group": "passive",
          "nps_rating": 7,
          "response_date": "2020-10-21",
          "source": "mobile",
          "user_id": 45785
         },
         {
          "index": 1459,
          "nps_group": "promoter",
          "nps_rating": 9,
          "response_date": "2020-11-27",
          "source": "mobile",
          "user_id": 46384
         },
         {
          "index": 1460,
          "nps_group": "detractor",
          "nps_rating": 1,
          "response_date": "2020-11-09",
          "source": "mobile",
          "user_id": 13912
         },
         {
          "index": 1461,
          "nps_group": "detractor",
          "nps_rating": 2,
          "response_date": "2020-10-27",
          "source": "mobile",
          "user_id": 18867
         },
         {
          "index": 1462,
          "nps_group": "detractor",
          "nps_rating": 3,
          "response_date": "2020-11-21",
          "source": "mobile",
          "user_id": 40911
         },
         {
          "index": 1463,
          "nps_group": "promoter",
          "nps_rating": 9,
          "response_date": "2020-11-02",
          "source": "mobile",
          "user_id": 40625
         },
         {
          "index": 1464,
          "nps_group": "detractor",
          "nps_rating": 5,
          "response_date": "2020-11-03",
          "source": "mobile",
          "user_id": 42080
         },
         {
          "index": 1465,
          "nps_group": "detractor",
          "nps_rating": 3,
          "response_date": "2020-10-27",
          "source": "mobile",
          "user_id": 31262
         },
         {
          "index": 1466,
          "nps_group": "detractor",
          "nps_rating": 1,
          "response_date": "2020-12-17",
          "source": "mobile",
          "user_id": 30688
         },
         {
          "index": 1467,
          "nps_group": "passive",
          "nps_rating": 8,
          "response_date": "2020-11-12",
          "source": "mobile",
          "user_id": 44798
         },
         {
          "index": 1468,
          "nps_group": "promoter",
          "nps_rating": 10,
          "response_date": "2020-11-18",
          "source": "mobile",
          "user_id": 29844
         },
         {
          "index": 1469,
          "nps_group": "detractor",
          "nps_rating": 4,
          "response_date": "2020-12-31",
          "source": "mobile",
          "user_id": 47273
         },
         {
          "index": 1470,
          "nps_group": "passive",
          "nps_rating": 8,
          "response_date": "2020-10-23",
          "source": "mobile",
          "user_id": 39778
         },
         {
          "index": 1471,
          "nps_group": "passive",
          "nps_rating": 7,
          "response_date": "2020-10-21",
          "source": "mobile",
          "user_id": 40151
         },
         {
          "index": 1472,
          "nps_group": "passive",
          "nps_rating": 7,
          "response_date": "2020-12-21",
          "source": "mobile",
          "user_id": 27719
         },
         {
          "index": 1473,
          "nps_group": "promoter",
          "nps_rating": 10,
          "response_date": "2020-12-04",
          "source": "mobile",
          "user_id": 33250
         },
         {
          "index": 1474,
          "nps_group": "passive",
          "nps_rating": 7,
          "response_date": "2020-11-17",
          "source": "mobile",
          "user_id": 33623
         },
         {
          "index": 1475,
          "nps_group": "passive",
          "nps_rating": 8,
          "response_date": "2020-12-03",
          "source": "mobile",
          "user_id": 34747
         },
         {
          "index": 1476,
          "nps_group": "detractor",
          "nps_rating": 0,
          "response_date": "2020-11-25",
          "source": "mobile",
          "user_id": 16996
         },
         {
          "index": 1477,
          "nps_group": "promoter",
          "nps_rating": 9,
          "response_date": "2020-10-15",
          "source": "mobile",
          "user_id": 12337
         },
         {
          "index": 1478,
          "nps_group": "passive",
          "nps_rating": 7,
          "response_date": "2020-11-22",
          "source": "mobile",
          "user_id": 29061
         },
         {
          "index": 1479,
          "nps_group": "passive",
          "nps_rating": 7,
          "response_date": "2020-11-11",
          "source": "mobile",
          "user_id": 32864
         },
         {
          "index": 1480,
          "nps_group": "passive",
          "nps_rating": 7,
          "response_date": "2020-11-02",
          "source": "mobile",
          "user_id": 40587
         },
         {
          "index": 1481,
          "nps_group": "passive",
          "nps_rating": 8,
          "response_date": "2020-12-07",
          "source": "mobile",
          "user_id": 35642
         },
         {
          "index": 1482,
          "nps_group": "passive",
          "nps_rating": 7,
          "response_date": "2020-10-03",
          "source": "mobile",
          "user_id": 16535
         },
         {
          "index": 1483,
          "nps_group": "detractor",
          "nps_rating": 5,
          "response_date": "2020-12-07",
          "source": "mobile",
          "user_id": 19412
         },
         {
          "index": 1484,
          "nps_group": "detractor",
          "nps_rating": 5,
          "response_date": "2020-11-03",
          "source": "mobile",
          "user_id": 33140
         },
         {
          "index": 1485,
          "nps_group": "detractor",
          "nps_rating": 5,
          "response_date": "2020-10-02",
          "source": "mobile",
          "user_id": 26820
         },
         {
          "index": 1486,
          "nps_group": "passive",
          "nps_rating": 7,
          "response_date": "2020-11-13",
          "source": "mobile",
          "user_id": 13880
         },
         {
          "index": 1487,
          "nps_group": "passive",
          "nps_rating": 7,
          "response_date": "2020-11-22",
          "source": "mobile",
          "user_id": 37358
         },
         {
          "index": 1488,
          "nps_group": "detractor",
          "nps_rating": 5,
          "response_date": "2020-11-07",
          "source": "mobile",
          "user_id": 21508
         },
         {
          "index": 1489,
          "nps_group": "passive",
          "nps_rating": 8,
          "response_date": "2020-11-03",
          "source": "mobile",
          "user_id": 40580
         },
         {
          "index": 1490,
          "nps_group": "passive",
          "nps_rating": 7,
          "response_date": "2020-11-17",
          "source": "mobile",
          "user_id": 32548
         },
         {
          "index": 1491,
          "nps_group": "promoter",
          "nps_rating": 9,
          "response_date": "2020-10-28",
          "source": "mobile",
          "user_id": 39771
         },
         {
          "index": 1492,
          "nps_group": "promoter",
          "nps_rating": 10,
          "response_date": "2020-12-19",
          "source": "mobile",
          "user_id": 10157
         },
         {
          "index": 1493,
          "nps_group": "detractor",
          "nps_rating": 6,
          "response_date": "2020-12-03",
          "source": "mobile",
          "user_id": 37013
         },
         {
          "index": 1494,
          "nps_group": "detractor",
          "nps_rating": 6,
          "response_date": "2020-11-29",
          "source": "mobile",
          "user_id": 48722
         },
         {
          "index": 1495,
          "nps_group": "passive",
          "nps_rating": 8,
          "response_date": "2020-12-29",
          "source": "mobile",
          "user_id": 38233
         },
         {
          "index": 1496,
          "nps_group": "promoter",
          "nps_rating": 9,
          "response_date": "2020-10-18",
          "source": "mobile",
          "user_id": 34482
         },
         {
          "index": 1497,
          "nps_group": "passive",
          "nps_rating": 7,
          "response_date": "2020-10-05",
          "source": "mobile",
          "user_id": 30049
         },
         {
          "index": 1498,
          "nps_group": "detractor",
          "nps_rating": 1,
          "response_date": "2020-11-10",
          "source": "mobile",
          "user_id": 27216
         },
         {
          "index": 1499,
          "nps_group": "detractor",
          "nps_rating": 5,
          "response_date": "2020-10-29",
          "source": "mobile",
          "user_id": 47558
         },
         {
          "index": 1500,
          "nps_group": "detractor",
          "nps_rating": 6,
          "response_date": "2020-11-27",
          "source": "mobile",
          "user_id": 16346
         },
         {
          "index": 1501,
          "nps_group": "detractor",
          "nps_rating": 5,
          "response_date": "2020-12-26",
          "source": "mobile",
          "user_id": 10064
         },
         {
          "index": 1502,
          "nps_group": "detractor",
          "nps_rating": 5,
          "response_date": "2020-11-15",
          "source": "mobile",
          "user_id": 18486
         },
         {
          "index": 1503,
          "nps_group": "passive",
          "nps_rating": 7,
          "response_date": "2020-11-29",
          "source": "mobile",
          "user_id": 19269
         },
         {
          "index": 1504,
          "nps_group": "passive",
          "nps_rating": 8,
          "response_date": "2020-10-23",
          "source": "mobile",
          "user_id": 17578
         },
         {
          "index": 1505,
          "nps_group": "passive",
          "nps_rating": 7,
          "response_date": "2020-11-10",
          "source": "mobile",
          "user_id": 33870
         },
         {
          "index": 1506,
          "nps_group": "passive",
          "nps_rating": 7,
          "response_date": "2020-10-27",
          "source": "mobile",
          "user_id": 20640
         },
         {
          "index": 1507,
          "nps_group": "detractor",
          "nps_rating": 5,
          "response_date": "2020-10-24",
          "source": "mobile",
          "user_id": 26917
         },
         {
          "index": 1508,
          "nps_group": "detractor",
          "nps_rating": 4,
          "response_date": "2020-10-07",
          "source": "mobile",
          "user_id": 39321
         },
         {
          "index": 1509,
          "nps_group": "passive",
          "nps_rating": 7,
          "response_date": "2020-10-02",
          "source": "mobile",
          "user_id": 29051
         },
         {
          "index": 1510,
          "nps_group": "promoter",
          "nps_rating": 9,
          "response_date": "2020-12-28",
          "source": "mobile",
          "user_id": 42729
         },
         {
          "index": 1511,
          "nps_group": "promoter",
          "nps_rating": 10,
          "response_date": "2020-10-19",
          "source": "mobile",
          "user_id": 19535
         },
         {
          "index": 1512,
          "nps_group": "passive",
          "nps_rating": 7,
          "response_date": "2020-10-07",
          "source": "mobile",
          "user_id": 44719
         },
         {
          "index": 1513,
          "nps_group": "detractor",
          "nps_rating": 1,
          "response_date": "2020-11-11",
          "source": "mobile",
          "user_id": 29167
         },
         {
          "index": 1514,
          "nps_group": "passive",
          "nps_rating": 8,
          "response_date": "2020-10-09",
          "source": "mobile",
          "user_id": 19946
         },
         {
          "index": 1515,
          "nps_group": "detractor",
          "nps_rating": 1,
          "response_date": "2020-10-11",
          "source": "mobile",
          "user_id": 20935
         },
         {
          "index": 1516,
          "nps_group": "detractor",
          "nps_rating": 1,
          "response_date": "2020-10-15",
          "source": "mobile",
          "user_id": 15200
         },
         {
          "index": 1517,
          "nps_group": "promoter",
          "nps_rating": 10,
          "response_date": "2020-11-22",
          "source": "mobile",
          "user_id": 46483
         },
         {
          "index": 1518,
          "nps_group": "promoter",
          "nps_rating": 10,
          "response_date": "2020-12-28",
          "source": "mobile",
          "user_id": 14971
         },
         {
          "index": 1519,
          "nps_group": "passive",
          "nps_rating": 8,
          "response_date": "2020-11-15",
          "source": "mobile",
          "user_id": 25006
         },
         {
          "index": 1520,
          "nps_group": "passive",
          "nps_rating": 7,
          "response_date": "2020-10-27",
          "source": "mobile",
          "user_id": 42687
         },
         {
          "index": 1521,
          "nps_group": "passive",
          "nps_rating": 8,
          "response_date": "2020-11-27",
          "source": "mobile",
          "user_id": 25322
         },
         {
          "index": 1522,
          "nps_group": "detractor",
          "nps_rating": 3,
          "response_date": "2020-10-21",
          "source": "mobile",
          "user_id": 44523
         },
         {
          "index": 1523,
          "nps_group": "passive",
          "nps_rating": 7,
          "response_date": "2020-10-05",
          "source": "mobile",
          "user_id": 22177
         },
         {
          "index": 1524,
          "nps_group": "detractor",
          "nps_rating": 4,
          "response_date": "2020-12-05",
          "source": "mobile",
          "user_id": 36999
         },
         {
          "index": 1525,
          "nps_group": "detractor",
          "nps_rating": 2,
          "response_date": "2020-12-01",
          "source": "mobile",
          "user_id": 14601
         },
         {
          "index": 1526,
          "nps_group": "passive",
          "nps_rating": 7,
          "response_date": "2020-11-03",
          "source": "mobile",
          "user_id": 12444
         },
         {
          "index": 1527,
          "nps_group": "promoter",
          "nps_rating": 9,
          "response_date": "2020-10-24",
          "source": "mobile",
          "user_id": 41530
         },
         {
          "index": 1528,
          "nps_group": "detractor",
          "nps_rating": 2,
          "response_date": "2020-11-02",
          "source": "mobile",
          "user_id": 12346
         },
         {
          "index": 1529,
          "nps_group": "passive",
          "nps_rating": 7,
          "response_date": "2020-12-12",
          "source": "mobile",
          "user_id": 40376
         },
         {
          "index": 1530,
          "nps_group": "detractor",
          "nps_rating": 5,
          "response_date": "2020-10-22",
          "source": "mobile",
          "user_id": 25555
         },
         {
          "index": 1531,
          "nps_group": "promoter",
          "nps_rating": 9,
          "response_date": "2020-11-07",
          "source": "mobile",
          "user_id": 14360
         },
         {
          "index": 1532,
          "nps_group": "passive",
          "nps_rating": 8,
          "response_date": "2020-11-13",
          "source": "mobile",
          "user_id": 26785
         },
         {
          "index": 1533,
          "nps_group": "promoter",
          "nps_rating": 9,
          "response_date": "2020-10-26",
          "source": "mobile",
          "user_id": 32360
         },
         {
          "index": 1534,
          "nps_group": "detractor",
          "nps_rating": 6,
          "response_date": "2020-12-28",
          "source": "mobile",
          "user_id": 49390
         },
         {
          "index": 1535,
          "nps_group": "passive",
          "nps_rating": 7,
          "response_date": "2020-12-23",
          "source": "mobile",
          "user_id": 11641
         },
         {
          "index": 1536,
          "nps_group": "passive",
          "nps_rating": 8,
          "response_date": "2020-12-13",
          "source": "mobile",
          "user_id": 13209
         },
         {
          "index": 1537,
          "nps_group": "passive",
          "nps_rating": 7,
          "response_date": "2020-12-17",
          "source": "mobile",
          "user_id": 42497
         },
         {
          "index": 1538,
          "nps_group": "detractor",
          "nps_rating": 3,
          "response_date": "2020-11-10",
          "source": "mobile",
          "user_id": 42524
         },
         {
          "index": 1539,
          "nps_group": "passive",
          "nps_rating": 7,
          "response_date": "2020-12-10",
          "source": "mobile",
          "user_id": 23141
         },
         {
          "index": 1540,
          "nps_group": "detractor",
          "nps_rating": 5,
          "response_date": "2020-11-04",
          "source": "mobile",
          "user_id": 37861
         },
         {
          "index": 1541,
          "nps_group": "detractor",
          "nps_rating": 5,
          "response_date": "2020-12-23",
          "source": "mobile",
          "user_id": 11772
         },
         {
          "index": 1542,
          "nps_group": "detractor",
          "nps_rating": 1,
          "response_date": "2020-10-01",
          "source": "mobile",
          "user_id": 33351
         },
         {
          "index": 1543,
          "nps_group": "promoter",
          "nps_rating": 10,
          "response_date": "2020-12-02",
          "source": "mobile",
          "user_id": 13874
         },
         {
          "index": 1544,
          "nps_group": "passive",
          "nps_rating": 8,
          "response_date": "2020-11-23",
          "source": "mobile",
          "user_id": 11759
         },
         {
          "index": 1545,
          "nps_group": "promoter",
          "nps_rating": 9,
          "response_date": "2020-11-13",
          "source": "mobile",
          "user_id": 22666
         },
         {
          "index": 1546,
          "nps_group": "promoter",
          "nps_rating": 10,
          "response_date": "2020-10-05",
          "source": "mobile",
          "user_id": 39590
         },
         {
          "index": 1547,
          "nps_group": "passive",
          "nps_rating": 7,
          "response_date": "2020-10-29",
          "source": "mobile",
          "user_id": 14017
         },
         {
          "index": 1548,
          "nps_group": "passive",
          "nps_rating": 8,
          "response_date": "2020-11-16",
          "source": "mobile",
          "user_id": 47291
         },
         {
          "index": 1549,
          "nps_group": "detractor",
          "nps_rating": 3,
          "response_date": "2020-12-17",
          "source": "mobile",
          "user_id": 10307
         },
         {
          "index": 1550,
          "nps_group": "promoter",
          "nps_rating": 9,
          "response_date": "2020-12-14",
          "source": "mobile",
          "user_id": 36494
         },
         {
          "index": 1551,
          "nps_group": "promoter",
          "nps_rating": 9,
          "response_date": "2020-12-21",
          "source": "mobile",
          "user_id": 30159
         },
         {
          "index": 1552,
          "nps_group": "passive",
          "nps_rating": 8,
          "response_date": "2020-10-04",
          "source": "mobile",
          "user_id": 17040
         },
         {
          "index": 1553,
          "nps_group": "detractor",
          "nps_rating": 1,
          "response_date": "2020-11-09",
          "source": "mobile",
          "user_id": 29145
         },
         {
          "index": 1554,
          "nps_group": "detractor",
          "nps_rating": 1,
          "response_date": "2020-11-07",
          "source": "mobile",
          "user_id": 11605
         },
         {
          "index": 1555,
          "nps_group": "passive",
          "nps_rating": 8,
          "response_date": "2020-10-14",
          "source": "mobile",
          "user_id": 34225
         },
         {
          "index": 1556,
          "nps_group": "passive",
          "nps_rating": 7,
          "response_date": "2020-11-03",
          "source": "mobile",
          "user_id": 35875
         },
         {
          "index": 1557,
          "nps_group": "promoter",
          "nps_rating": 10,
          "response_date": "2020-10-23",
          "source": "mobile",
          "user_id": 30733
         },
         {
          "index": 1558,
          "nps_group": "detractor",
          "nps_rating": 6,
          "response_date": "2020-11-05",
          "source": "mobile",
          "user_id": 31084
         },
         {
          "index": 1559,
          "nps_group": "detractor",
          "nps_rating": 2,
          "response_date": "2020-10-29",
          "source": "mobile",
          "user_id": 47802
         },
         {
          "index": 1560,
          "nps_group": "passive",
          "nps_rating": 7,
          "response_date": "2020-12-22",
          "source": "mobile",
          "user_id": 38812
         },
         {
          "index": 1561,
          "nps_group": "detractor",
          "nps_rating": 2,
          "response_date": "2020-12-22",
          "source": "mobile",
          "user_id": 40513
         },
         {
          "index": 1562,
          "nps_group": "detractor",
          "nps_rating": 1,
          "response_date": "2020-12-21",
          "source": "mobile",
          "user_id": 47694
         },
         {
          "index": 1563,
          "nps_group": "passive",
          "nps_rating": 7,
          "response_date": "2020-12-06",
          "source": "mobile",
          "user_id": 23992
         },
         {
          "index": 1564,
          "nps_group": "passive",
          "nps_rating": 8,
          "response_date": "2020-10-15",
          "source": "mobile",
          "user_id": 40938
         },
         {
          "index": 1565,
          "nps_group": "passive",
          "nps_rating": 7,
          "response_date": "2020-11-15",
          "source": "mobile",
          "user_id": 19294
         },
         {
          "index": 1566,
          "nps_group": "promoter",
          "nps_rating": 9,
          "response_date": "2020-11-20",
          "source": "mobile",
          "user_id": 17284
         },
         {
          "index": 1567,
          "nps_group": "passive",
          "nps_rating": 7,
          "response_date": "2020-11-15",
          "source": "mobile",
          "user_id": 31828
         },
         {
          "index": 1568,
          "nps_group": "detractor",
          "nps_rating": 3,
          "response_date": "2020-11-26",
          "source": "mobile",
          "user_id": 49178
         },
         {
          "index": 1569,
          "nps_group": "detractor",
          "nps_rating": 5,
          "response_date": "2020-11-10",
          "source": "mobile",
          "user_id": 41896
         },
         {
          "index": 1570,
          "nps_group": "detractor",
          "nps_rating": 1,
          "response_date": "2020-10-30",
          "source": "mobile",
          "user_id": 24048
         },
         {
          "index": 1571,
          "nps_group": "passive",
          "nps_rating": 7,
          "response_date": "2020-12-20",
          "source": "mobile",
          "user_id": 24954
         },
         {
          "index": 1572,
          "nps_group": "passive",
          "nps_rating": 7,
          "response_date": "2020-11-13",
          "source": "mobile",
          "user_id": 21690
         },
         {
          "index": 1573,
          "nps_group": "detractor",
          "nps_rating": 5,
          "response_date": "2020-11-10",
          "source": "mobile",
          "user_id": 45009
         },
         {
          "index": 1574,
          "nps_group": "detractor",
          "nps_rating": 5,
          "response_date": "2020-10-07",
          "source": "mobile",
          "user_id": 23271
         },
         {
          "index": 1575,
          "nps_group": "passive",
          "nps_rating": 7,
          "response_date": "2020-12-23",
          "source": "mobile",
          "user_id": 33520
         },
         {
          "index": 1576,
          "nps_group": "detractor",
          "nps_rating": 3,
          "response_date": "2020-10-03",
          "source": "mobile",
          "user_id": 32346
         },
         {
          "index": 1577,
          "nps_group": "promoter",
          "nps_rating": 9,
          "response_date": "2020-12-06",
          "source": "mobile",
          "user_id": 30348
         },
         {
          "index": 1578,
          "nps_group": "detractor",
          "nps_rating": 1,
          "response_date": "2020-10-25",
          "source": "mobile",
          "user_id": 13979
         },
         {
          "index": 1579,
          "nps_group": "promoter",
          "nps_rating": 9,
          "response_date": "2020-10-30",
          "source": "mobile",
          "user_id": 11511
         },
         {
          "index": 1580,
          "nps_group": "passive",
          "nps_rating": 7,
          "response_date": "2020-12-31",
          "source": "mobile",
          "user_id": 19287
         },
         {
          "index": 1581,
          "nps_group": "detractor",
          "nps_rating": 6,
          "response_date": "2020-11-20",
          "source": "mobile",
          "user_id": 35546
         },
         {
          "index": 1582,
          "nps_group": "detractor",
          "nps_rating": 4,
          "response_date": "2020-11-26",
          "source": "mobile",
          "user_id": 15180
         },
         {
          "index": 1583,
          "nps_group": "detractor",
          "nps_rating": 1,
          "response_date": "2020-10-27",
          "source": "mobile",
          "user_id": 23285
         },
         {
          "index": 1584,
          "nps_group": "promoter",
          "nps_rating": 10,
          "response_date": "2020-11-16",
          "source": "mobile",
          "user_id": 29418
         },
         {
          "index": 1585,
          "nps_group": "promoter",
          "nps_rating": 9,
          "response_date": "2020-10-26",
          "source": "mobile",
          "user_id": 17637
         },
         {
          "index": 1586,
          "nps_group": "detractor",
          "nps_rating": 1,
          "response_date": "2020-11-11",
          "source": "mobile",
          "user_id": 47710
         },
         {
          "index": 1587,
          "nps_group": "promoter",
          "nps_rating": 10,
          "response_date": "2020-11-05",
          "source": "mobile",
          "user_id": 34278
         },
         {
          "index": 1588,
          "nps_group": "passive",
          "nps_rating": 7,
          "response_date": "2020-12-26",
          "source": "mobile",
          "user_id": 21428
         },
         {
          "index": 1589,
          "nps_group": "passive",
          "nps_rating": 8,
          "response_date": "2020-11-20",
          "source": "mobile",
          "user_id": 26127
         },
         {
          "index": 1590,
          "nps_group": "promoter",
          "nps_rating": 10,
          "response_date": "2020-10-24",
          "source": "mobile",
          "user_id": 26941
         },
         {
          "index": 1591,
          "nps_group": "detractor",
          "nps_rating": 6,
          "response_date": "2020-12-22",
          "source": "mobile",
          "user_id": 11980
         },
         {
          "index": 1592,
          "nps_group": "passive",
          "nps_rating": 7,
          "response_date": "2020-10-18",
          "source": "mobile",
          "user_id": 15584
         },
         {
          "index": 1593,
          "nps_group": "passive",
          "nps_rating": 7,
          "response_date": "2020-10-25",
          "source": "mobile",
          "user_id": 11327
         },
         {
          "index": 1594,
          "nps_group": "detractor",
          "nps_rating": 4,
          "response_date": "2020-11-10",
          "source": "mobile",
          "user_id": 15596
         },
         {
          "index": 1595,
          "nps_group": "promoter",
          "nps_rating": 9,
          "response_date": "2020-10-02",
          "source": "mobile",
          "user_id": 27696
         },
         {
          "index": 1596,
          "nps_group": "passive",
          "nps_rating": 8,
          "response_date": "2020-12-27",
          "source": "mobile",
          "user_id": 48335
         },
         {
          "index": 1597,
          "nps_group": "detractor",
          "nps_rating": 6,
          "response_date": "2020-12-10",
          "source": "mobile",
          "user_id": 43278
         },
         {
          "index": 1598,
          "nps_group": "passive",
          "nps_rating": 8,
          "response_date": "2020-12-10",
          "source": "mobile",
          "user_id": 40535
         },
         {
          "index": 1599,
          "nps_group": "detractor",
          "nps_rating": 5,
          "response_date": "2020-10-20",
          "source": "mobile",
          "user_id": 31529
         },
         {
          "index": 1600,
          "nps_group": "passive",
          "nps_rating": 7,
          "response_date": "2020-11-28",
          "source": "mobile",
          "user_id": 20292
         },
         {
          "index": 1601,
          "nps_group": "passive",
          "nps_rating": 7,
          "response_date": "2020-11-01",
          "source": "mobile",
          "user_id": 39463
         },
         {
          "index": 1602,
          "nps_group": "passive",
          "nps_rating": 7,
          "response_date": "2020-12-11",
          "source": "mobile",
          "user_id": 34154
         },
         {
          "index": 1603,
          "nps_group": "promoter",
          "nps_rating": 10,
          "response_date": "2020-11-30",
          "source": "mobile",
          "user_id": 16804
         },
         {
          "index": 1604,
          "nps_group": "promoter",
          "nps_rating": 9,
          "response_date": "2020-11-20",
          "source": "mobile",
          "user_id": 25712
         },
         {
          "index": 1605,
          "nps_group": "passive",
          "nps_rating": 7,
          "response_date": "2020-11-08",
          "source": "mobile",
          "user_id": 27063
         },
         {
          "index": 1606,
          "nps_group": "promoter",
          "nps_rating": 9,
          "response_date": "2020-12-03",
          "source": "mobile",
          "user_id": 38493
         },
         {
          "index": 1607,
          "nps_group": "passive",
          "nps_rating": 8,
          "response_date": "2020-10-17",
          "source": "mobile",
          "user_id": 19861
         },
         {
          "index": 1608,
          "nps_group": "passive",
          "nps_rating": 8,
          "response_date": "2020-10-21",
          "source": "mobile",
          "user_id": 35836
         },
         {
          "index": 1609,
          "nps_group": "promoter",
          "nps_rating": 10,
          "response_date": "2020-12-18",
          "source": "mobile",
          "user_id": 44449
         },
         {
          "index": 1610,
          "nps_group": "promoter",
          "nps_rating": 10,
          "response_date": "2020-11-04",
          "source": "mobile",
          "user_id": 12313
         },
         {
          "index": 1611,
          "nps_group": "passive",
          "nps_rating": 8,
          "response_date": "2020-10-28",
          "source": "mobile",
          "user_id": 24242
         },
         {
          "index": 1612,
          "nps_group": "promoter",
          "nps_rating": 9,
          "response_date": "2020-10-11",
          "source": "mobile",
          "user_id": 47448
         },
         {
          "index": 1613,
          "nps_group": "passive",
          "nps_rating": 7,
          "response_date": "2020-10-18",
          "source": "mobile",
          "user_id": 12190
         },
         {
          "index": 1614,
          "nps_group": "passive",
          "nps_rating": 7,
          "response_date": "2020-11-20",
          "source": "mobile",
          "user_id": 31834
         },
         {
          "index": 1615,
          "nps_group": "passive",
          "nps_rating": 7,
          "response_date": "2020-11-14",
          "source": "mobile",
          "user_id": 19351
         },
         {
          "index": 1616,
          "nps_group": "detractor",
          "nps_rating": 5,
          "response_date": "2020-10-23",
          "source": "mobile",
          "user_id": 24661
         },
         {
          "index": 1617,
          "nps_group": "passive",
          "nps_rating": 7,
          "response_date": "2020-12-02",
          "source": "mobile",
          "user_id": 27121
         },
         {
          "index": 1618,
          "nps_group": "detractor",
          "nps_rating": 5,
          "response_date": "2020-10-29",
          "source": "mobile",
          "user_id": 41738
         },
         {
          "index": 1619,
          "nps_group": "promoter",
          "nps_rating": 10,
          "response_date": "2020-11-03",
          "source": "mobile",
          "user_id": 25238
         },
         {
          "index": 1620,
          "nps_group": "detractor",
          "nps_rating": 6,
          "response_date": "2020-11-24",
          "source": "mobile",
          "user_id": 14138
         },
         {
          "index": 1621,
          "nps_group": "promoter",
          "nps_rating": 10,
          "response_date": "2020-12-29",
          "source": "mobile",
          "user_id": 14402
         },
         {
          "index": 1622,
          "nps_group": "passive",
          "nps_rating": 7,
          "response_date": "2020-12-04",
          "source": "mobile",
          "user_id": 41885
         },
         {
          "index": 1623,
          "nps_group": "promoter",
          "nps_rating": 9,
          "response_date": "2020-12-06",
          "source": "mobile",
          "user_id": 39789
         },
         {
          "index": 1624,
          "nps_group": "passive",
          "nps_rating": 7,
          "response_date": "2020-10-28",
          "source": "mobile",
          "user_id": 13968
         },
         {
          "index": 1625,
          "nps_group": "passive",
          "nps_rating": 7,
          "response_date": "2020-11-17",
          "source": "mobile",
          "user_id": 49916
         },
         {
          "index": 1626,
          "nps_group": "passive",
          "nps_rating": 7,
          "response_date": "2020-10-01",
          "source": "mobile",
          "user_id": 33693
         },
         {
          "index": 1627,
          "nps_group": "promoter",
          "nps_rating": 9,
          "response_date": "2020-12-19",
          "source": "mobile",
          "user_id": 11893
         },
         {
          "index": 1628,
          "nps_group": "passive",
          "nps_rating": 8,
          "response_date": "2020-12-22",
          "source": "mobile",
          "user_id": 29932
         },
         {
          "index": 1629,
          "nps_group": "detractor",
          "nps_rating": 5,
          "response_date": "2020-10-11",
          "source": "mobile",
          "user_id": 40288
         },
         {
          "index": 1630,
          "nps_group": "passive",
          "nps_rating": 7,
          "response_date": "2020-11-12",
          "source": "mobile",
          "user_id": 41541
         },
         {
          "index": 1631,
          "nps_group": "detractor",
          "nps_rating": 5,
          "response_date": "2020-11-05",
          "source": "mobile",
          "user_id": 23321
         },
         {
          "index": 1632,
          "nps_group": "promoter",
          "nps_rating": 9,
          "response_date": "2020-11-02",
          "source": "mobile",
          "user_id": 13800
         },
         {
          "index": 1633,
          "nps_group": "detractor",
          "nps_rating": 2,
          "response_date": "2020-10-21",
          "source": "mobile",
          "user_id": 43926
         },
         {
          "index": 1634,
          "nps_group": "promoter",
          "nps_rating": 9,
          "response_date": "2020-11-08",
          "source": "mobile",
          "user_id": 15451
         },
         {
          "index": 1635,
          "nps_group": "detractor",
          "nps_rating": 5,
          "response_date": "2020-10-11",
          "source": "mobile",
          "user_id": 40467
         },
         {
          "index": 1636,
          "nps_group": "passive",
          "nps_rating": 7,
          "response_date": "2020-10-22",
          "source": "mobile",
          "user_id": 20979
         },
         {
          "index": 1637,
          "nps_group": "detractor",
          "nps_rating": 0,
          "response_date": "2020-10-06",
          "source": "mobile",
          "user_id": 22061
         },
         {
          "index": 1638,
          "nps_group": "detractor",
          "nps_rating": 5,
          "response_date": "2020-12-26",
          "source": "mobile",
          "user_id": 31158
         },
         {
          "index": 1639,
          "nps_group": "detractor",
          "nps_rating": 2,
          "response_date": "2020-10-12",
          "source": "mobile",
          "user_id": 49627
         },
         {
          "index": 1640,
          "nps_group": "passive",
          "nps_rating": 7,
          "response_date": "2020-10-22",
          "source": "mobile",
          "user_id": 41889
         },
         {
          "index": 1641,
          "nps_group": "passive",
          "nps_rating": 7,
          "response_date": "2020-12-16",
          "source": "mobile",
          "user_id": 11402
         },
         {
          "index": 1642,
          "nps_group": "detractor",
          "nps_rating": 6,
          "response_date": "2020-10-28",
          "source": "mobile",
          "user_id": 32046
         },
         {
          "index": 1643,
          "nps_group": "promoter",
          "nps_rating": 10,
          "response_date": "2020-12-28",
          "source": "mobile",
          "user_id": 16730
         },
         {
          "index": 1644,
          "nps_group": "passive",
          "nps_rating": 7,
          "response_date": "2020-11-09",
          "source": "mobile",
          "user_id": 37533
         },
         {
          "index": 1645,
          "nps_group": "passive",
          "nps_rating": 8,
          "response_date": "2020-10-12",
          "source": "mobile",
          "user_id": 33608
         },
         {
          "index": 1646,
          "nps_group": "passive",
          "nps_rating": 7,
          "response_date": "2020-12-30",
          "source": "mobile",
          "user_id": 14060
         },
         {
          "index": 1647,
          "nps_group": "detractor",
          "nps_rating": 5,
          "response_date": "2020-12-29",
          "source": "mobile",
          "user_id": 19691
         },
         {
          "index": 1648,
          "nps_group": "detractor",
          "nps_rating": 0,
          "response_date": "2020-11-03",
          "source": "mobile",
          "user_id": 47878
         },
         {
          "index": 1649,
          "nps_group": "detractor",
          "nps_rating": 1,
          "response_date": "2020-10-11",
          "source": "mobile",
          "user_id": 49987
         },
         {
          "index": 1650,
          "nps_group": "detractor",
          "nps_rating": 4,
          "response_date": "2020-11-01",
          "source": "mobile",
          "user_id": 32134
         },
         {
          "index": 1651,
          "nps_group": "detractor",
          "nps_rating": 6,
          "response_date": "2020-12-21",
          "source": "mobile",
          "user_id": 49347
         },
         {
          "index": 1652,
          "nps_group": "promoter",
          "nps_rating": 10,
          "response_date": "2020-10-21",
          "source": "mobile",
          "user_id": 42577
         },
         {
          "index": 1653,
          "nps_group": "detractor",
          "nps_rating": 4,
          "response_date": "2020-12-29",
          "source": "mobile",
          "user_id": 10186
         },
         {
          "index": 1654,
          "nps_group": "passive",
          "nps_rating": 7,
          "response_date": "2020-10-09",
          "source": "mobile",
          "user_id": 18624
         },
         {
          "index": 1655,
          "nps_group": "passive",
          "nps_rating": 8,
          "response_date": "2020-10-09",
          "source": "mobile",
          "user_id": 26044
         },
         {
          "index": 1656,
          "nps_group": "detractor",
          "nps_rating": 1,
          "response_date": "2020-10-21",
          "source": "mobile",
          "user_id": 37393
         },
         {
          "index": 1657,
          "nps_group": "passive",
          "nps_rating": 7,
          "response_date": "2020-12-18",
          "source": "mobile",
          "user_id": 20075
         },
         {
          "index": 1658,
          "nps_group": "detractor",
          "nps_rating": 2,
          "response_date": "2020-11-27",
          "source": "mobile",
          "user_id": 28927
         },
         {
          "index": 1659,
          "nps_group": "detractor",
          "nps_rating": 6,
          "response_date": "2020-10-03",
          "source": "mobile",
          "user_id": 19771
         },
         {
          "index": 1660,
          "nps_group": "promoter",
          "nps_rating": 9,
          "response_date": "2020-10-27",
          "source": "mobile",
          "user_id": 39455
         },
         {
          "index": 1661,
          "nps_group": "promoter",
          "nps_rating": 10,
          "response_date": "2020-10-01",
          "source": "mobile",
          "user_id": 22834
         },
         {
          "index": 1662,
          "nps_group": "promoter",
          "nps_rating": 9,
          "response_date": "2020-11-14",
          "source": "mobile",
          "user_id": 45961
         },
         {
          "index": 1663,
          "nps_group": "passive",
          "nps_rating": 7,
          "response_date": "2020-10-09",
          "source": "mobile",
          "user_id": 46545
         },
         {
          "index": 1664,
          "nps_group": "promoter",
          "nps_rating": 9,
          "response_date": "2020-11-13",
          "source": "mobile",
          "user_id": 37594
         },
         {
          "index": 1665,
          "nps_group": "detractor",
          "nps_rating": 4,
          "response_date": "2020-10-23",
          "source": "mobile",
          "user_id": 21754
         },
         {
          "index": 1666,
          "nps_group": "detractor",
          "nps_rating": 6,
          "response_date": "2020-10-26",
          "source": "mobile",
          "user_id": 31944
         },
         {
          "index": 1667,
          "nps_group": "detractor",
          "nps_rating": 3,
          "response_date": "2020-12-08",
          "source": "mobile",
          "user_id": 28503
         },
         {
          "index": 1668,
          "nps_group": "passive",
          "nps_rating": 7,
          "response_date": "2020-12-24",
          "source": "mobile",
          "user_id": 40371
         },
         {
          "index": 1669,
          "nps_group": "passive",
          "nps_rating": 7,
          "response_date": "2020-12-02",
          "source": "mobile",
          "user_id": 36092
         },
         {
          "index": 1670,
          "nps_group": "passive",
          "nps_rating": 8,
          "response_date": "2020-11-29",
          "source": "mobile",
          "user_id": 32417
         },
         {
          "index": 1671,
          "nps_group": "promoter",
          "nps_rating": 9,
          "response_date": "2020-10-26",
          "source": "mobile",
          "user_id": 20058
         },
         {
          "index": 1672,
          "nps_group": "detractor",
          "nps_rating": 5,
          "response_date": "2020-11-03",
          "source": "mobile",
          "user_id": 46658
         },
         {
          "index": 1673,
          "nps_group": "promoter",
          "nps_rating": 10,
          "response_date": "2020-12-30",
          "source": "mobile",
          "user_id": 13911
         },
         {
          "index": 1674,
          "nps_group": "passive",
          "nps_rating": 7,
          "response_date": "2020-11-21",
          "source": "mobile",
          "user_id": 17884
         },
         {
          "index": 1675,
          "nps_group": "detractor",
          "nps_rating": 6,
          "response_date": "2020-10-12",
          "source": "mobile",
          "user_id": 11182
         },
         {
          "index": 1676,
          "nps_group": "detractor",
          "nps_rating": 0,
          "response_date": "2020-10-05",
          "source": "mobile",
          "user_id": 25237
         },
         {
          "index": 1677,
          "nps_group": "passive",
          "nps_rating": 7,
          "response_date": "2020-11-02",
          "source": "mobile",
          "user_id": 19116
         },
         {
          "index": 1678,
          "nps_group": "promoter",
          "nps_rating": 9,
          "response_date": "2020-11-09",
          "source": "mobile",
          "user_id": 33616
         },
         {
          "index": 1679,
          "nps_group": "detractor",
          "nps_rating": 1,
          "response_date": "2020-12-02",
          "source": "mobile",
          "user_id": 28188
         },
         {
          "index": 1680,
          "nps_group": "passive",
          "nps_rating": 8,
          "response_date": "2020-10-19",
          "source": "mobile",
          "user_id": 25610
         },
         {
          "index": 1681,
          "nps_group": "passive",
          "nps_rating": 7,
          "response_date": "2020-12-01",
          "source": "mobile",
          "user_id": 35201
         },
         {
          "index": 1682,
          "nps_group": "promoter",
          "nps_rating": 9,
          "response_date": "2020-10-30",
          "source": "mobile",
          "user_id": 47670
         },
         {
          "index": 1683,
          "nps_group": "promoter",
          "nps_rating": 10,
          "response_date": "2020-10-04",
          "source": "mobile",
          "user_id": 37969
         },
         {
          "index": 1684,
          "nps_group": "passive",
          "nps_rating": 7,
          "response_date": "2020-12-01",
          "source": "mobile",
          "user_id": 21337
         },
         {
          "index": 1685,
          "nps_group": "promoter",
          "nps_rating": 10,
          "response_date": "2020-12-08",
          "source": "mobile",
          "user_id": 22914
         },
         {
          "index": 1686,
          "nps_group": "passive",
          "nps_rating": 7,
          "response_date": "2020-11-18",
          "source": "mobile",
          "user_id": 34541
         },
         {
          "index": 1687,
          "nps_group": "detractor",
          "nps_rating": 6,
          "response_date": "2020-12-09",
          "source": "mobile",
          "user_id": 34346
         },
         {
          "index": 1688,
          "nps_group": "passive",
          "nps_rating": 7,
          "response_date": "2020-11-29",
          "source": "mobile",
          "user_id": 16875
         },
         {
          "index": 1689,
          "nps_group": "detractor",
          "nps_rating": 6,
          "response_date": "2020-10-13",
          "source": "mobile",
          "user_id": 39131
         },
         {
          "index": 1690,
          "nps_group": "detractor",
          "nps_rating": 3,
          "response_date": "2020-12-19",
          "source": "mobile",
          "user_id": 42072
         },
         {
          "index": 1691,
          "nps_group": "passive",
          "nps_rating": 8,
          "response_date": "2020-12-08",
          "source": "mobile",
          "user_id": 22803
         },
         {
          "index": 1692,
          "nps_group": "passive",
          "nps_rating": 7,
          "response_date": "2020-12-05",
          "source": "mobile",
          "user_id": 17514
         },
         {
          "index": 1693,
          "nps_group": "passive",
          "nps_rating": 7,
          "response_date": "2020-10-03",
          "source": "mobile",
          "user_id": 18494
         },
         {
          "index": 1694,
          "nps_group": "detractor",
          "nps_rating": 6,
          "response_date": "2020-10-03",
          "source": "mobile",
          "user_id": 22187
         },
         {
          "index": 1695,
          "nps_group": "detractor",
          "nps_rating": 5,
          "response_date": "2020-10-01",
          "source": "mobile",
          "user_id": 48750
         },
         {
          "index": 1696,
          "nps_group": "promoter",
          "nps_rating": 10,
          "response_date": "2020-12-03",
          "source": "mobile",
          "user_id": 31854
         },
         {
          "index": 1697,
          "nps_group": "passive",
          "nps_rating": 7,
          "response_date": "2020-10-31",
          "source": "mobile",
          "user_id": 31063
         },
         {
          "index": 1698,
          "nps_group": "detractor",
          "nps_rating": 5,
          "response_date": "2020-12-31",
          "source": "mobile",
          "user_id": 28351
         },
         {
          "index": 1699,
          "nps_group": "detractor",
          "nps_rating": 1,
          "response_date": "2020-11-11",
          "source": "mobile",
          "user_id": 13337
         },
         {
          "index": 1700,
          "nps_group": "passive",
          "nps_rating": 7,
          "response_date": "2020-10-02",
          "source": "mobile",
          "user_id": 49163
         },
         {
          "index": 1701,
          "nps_group": "detractor",
          "nps_rating": 2,
          "response_date": "2020-11-09",
          "source": "mobile",
          "user_id": 39057
         },
         {
          "index": 1702,
          "nps_group": "passive",
          "nps_rating": 7,
          "response_date": "2020-11-26",
          "source": "mobile",
          "user_id": 23061
         },
         {
          "index": 1703,
          "nps_group": "detractor",
          "nps_rating": 6,
          "response_date": "2020-11-08",
          "source": "mobile",
          "user_id": 19149
         },
         {
          "index": 1704,
          "nps_group": "passive",
          "nps_rating": 7,
          "response_date": "2020-11-18",
          "source": "mobile",
          "user_id": 49982
         },
         {
          "index": 1705,
          "nps_group": "passive",
          "nps_rating": 7,
          "response_date": "2020-11-01",
          "source": "mobile",
          "user_id": 20224
         },
         {
          "index": 1706,
          "nps_group": "detractor",
          "nps_rating": 1,
          "response_date": "2020-12-27",
          "source": "mobile",
          "user_id": 16982
         },
         {
          "index": 1707,
          "nps_group": "detractor",
          "nps_rating": 5,
          "response_date": "2020-12-05",
          "source": "mobile",
          "user_id": 35746
         },
         {
          "index": 1708,
          "nps_group": "passive",
          "nps_rating": 7,
          "response_date": "2020-10-24",
          "source": "mobile",
          "user_id": 11780
         },
         {
          "index": 1709,
          "nps_group": "passive",
          "nps_rating": 8,
          "response_date": "2020-12-09",
          "source": "mobile",
          "user_id": 14952
         },
         {
          "index": 1710,
          "nps_group": "detractor",
          "nps_rating": 0,
          "response_date": "2020-11-03",
          "source": "mobile",
          "user_id": 25422
         },
         {
          "index": 1711,
          "nps_group": "promoter",
          "nps_rating": 9,
          "response_date": "2020-11-15",
          "source": "mobile",
          "user_id": 32730
         },
         {
          "index": 1712,
          "nps_group": "passive",
          "nps_rating": 7,
          "response_date": "2020-11-07",
          "source": "mobile",
          "user_id": 41985
         },
         {
          "index": 1713,
          "nps_group": "detractor",
          "nps_rating": 4,
          "response_date": "2020-12-24",
          "source": "mobile",
          "user_id": 40493
         },
         {
          "index": 1714,
          "nps_group": "passive",
          "nps_rating": 8,
          "response_date": "2020-12-21",
          "source": "mobile",
          "user_id": 29872
         },
         {
          "index": 1715,
          "nps_group": "passive",
          "nps_rating": 8,
          "response_date": "2020-12-21",
          "source": "mobile",
          "user_id": 46514
         },
         {
          "index": 1716,
          "nps_group": "passive",
          "nps_rating": 7,
          "response_date": "2020-10-09",
          "source": "mobile",
          "user_id": 18901
         },
         {
          "index": 1717,
          "nps_group": "promoter",
          "nps_rating": 9,
          "response_date": "2020-12-10",
          "source": "mobile",
          "user_id": 34515
         },
         {
          "index": 1718,
          "nps_group": "promoter",
          "nps_rating": 9,
          "response_date": "2020-10-11",
          "source": "mobile",
          "user_id": 16979
         },
         {
          "index": 1719,
          "nps_group": "passive",
          "nps_rating": 7,
          "response_date": "2020-10-24",
          "source": "mobile",
          "user_id": 19049
         },
         {
          "index": 1720,
          "nps_group": "detractor",
          "nps_rating": 6,
          "response_date": "2020-10-21",
          "source": "mobile",
          "user_id": 32581
         },
         {
          "index": 1721,
          "nps_group": "detractor",
          "nps_rating": 0,
          "response_date": "2020-11-24",
          "source": "mobile",
          "user_id": 34490
         },
         {
          "index": 1722,
          "nps_group": "promoter",
          "nps_rating": 9,
          "response_date": "2020-11-03",
          "source": "mobile",
          "user_id": 25979
         },
         {
          "index": 1723,
          "nps_group": "passive",
          "nps_rating": 8,
          "response_date": "2020-10-14",
          "source": "mobile",
          "user_id": 18584
         },
         {
          "index": 1724,
          "nps_group": "passive",
          "nps_rating": 7,
          "response_date": "2020-12-26",
          "source": "mobile",
          "user_id": 19278
         },
         {
          "index": 1725,
          "nps_group": "promoter",
          "nps_rating": 9,
          "response_date": "2020-10-28",
          "source": "mobile",
          "user_id": 10165
         },
         {
          "index": 1726,
          "nps_group": "passive",
          "nps_rating": 7,
          "response_date": "2020-11-01",
          "source": "mobile",
          "user_id": 37245
         },
         {
          "index": 1727,
          "nps_group": "detractor",
          "nps_rating": 6,
          "response_date": "2020-12-29",
          "source": "mobile",
          "user_id": 41569
         },
         {
          "index": 1728,
          "nps_group": "passive",
          "nps_rating": 7,
          "response_date": "2020-12-05",
          "source": "mobile",
          "user_id": 36214
         },
         {
          "index": 1729,
          "nps_group": "detractor",
          "nps_rating": 6,
          "response_date": "2020-12-04",
          "source": "mobile",
          "user_id": 48162
         },
         {
          "index": 1730,
          "nps_group": "detractor",
          "nps_rating": 2,
          "response_date": "2020-10-23",
          "source": "mobile",
          "user_id": 21892
         },
         {
          "index": 1731,
          "nps_group": "passive",
          "nps_rating": 7,
          "response_date": "2020-10-09",
          "source": "mobile",
          "user_id": 43904
         },
         {
          "index": 1732,
          "nps_group": "promoter",
          "nps_rating": 10,
          "response_date": "2020-10-19",
          "source": "mobile",
          "user_id": 37845
         },
         {
          "index": 1733,
          "nps_group": "detractor",
          "nps_rating": 0,
          "response_date": "2020-10-04",
          "source": "mobile",
          "user_id": 12929
         },
         {
          "index": 1734,
          "nps_group": "detractor",
          "nps_rating": 4,
          "response_date": "2020-10-01",
          "source": "mobile",
          "user_id": 34050
         },
         {
          "index": 1735,
          "nps_group": "passive",
          "nps_rating": 8,
          "response_date": "2020-10-22",
          "source": "mobile",
          "user_id": 17778
         },
         {
          "index": 1736,
          "nps_group": "detractor",
          "nps_rating": 4,
          "response_date": "2020-12-24",
          "source": "mobile",
          "user_id": 23642
         },
         {
          "index": 1737,
          "nps_group": "passive",
          "nps_rating": 8,
          "response_date": "2020-11-01",
          "source": "mobile",
          "user_id": 27410
         },
         {
          "index": 1738,
          "nps_group": "detractor",
          "nps_rating": 5,
          "response_date": "2020-11-25",
          "source": "mobile",
          "user_id": 18608
         },
         {
          "index": 1739,
          "nps_group": "promoter",
          "nps_rating": 10,
          "response_date": "2020-10-02",
          "source": "mobile",
          "user_id": 28884
         },
         {
          "index": 1740,
          "nps_group": "detractor",
          "nps_rating": 1,
          "response_date": "2020-12-06",
          "source": "mobile",
          "user_id": 29088
         },
         {
          "index": 1741,
          "nps_group": "passive",
          "nps_rating": 7,
          "response_date": "2020-11-18",
          "source": "mobile",
          "user_id": 12594
         },
         {
          "index": 1742,
          "nps_group": "passive",
          "nps_rating": 7,
          "response_date": "2020-10-01",
          "source": "mobile",
          "user_id": 17925
         },
         {
          "index": 1743,
          "nps_group": "promoter",
          "nps_rating": 9,
          "response_date": "2020-10-26",
          "source": "mobile",
          "user_id": 30628
         },
         {
          "index": 1744,
          "nps_group": "passive",
          "nps_rating": 7,
          "response_date": "2020-11-05",
          "source": "mobile",
          "user_id": 10730
         },
         {
          "index": 1745,
          "nps_group": "passive",
          "nps_rating": 7,
          "response_date": "2020-12-20",
          "source": "mobile",
          "user_id": 23108
         },
         {
          "index": 1746,
          "nps_group": "promoter",
          "nps_rating": 9,
          "response_date": "2020-11-12",
          "source": "mobile",
          "user_id": 35813
         },
         {
          "index": 1747,
          "nps_group": "passive",
          "nps_rating": 7,
          "response_date": "2020-10-30",
          "source": "mobile",
          "user_id": 24129
         },
         {
          "index": 1748,
          "nps_group": "passive",
          "nps_rating": 8,
          "response_date": "2020-10-26",
          "source": "mobile",
          "user_id": 21310
         },
         {
          "index": 1749,
          "nps_group": "passive",
          "nps_rating": 7,
          "response_date": "2020-12-07",
          "source": "mobile",
          "user_id": 41564
         },
         {
          "index": 1750,
          "nps_group": "detractor",
          "nps_rating": 5,
          "response_date": "2020-10-02",
          "source": "mobile",
          "user_id": 45793
         },
         {
          "index": 1751,
          "nps_group": "passive",
          "nps_rating": 8,
          "response_date": "2020-11-07",
          "source": "mobile",
          "user_id": 42772
         },
         {
          "index": 1752,
          "nps_group": "promoter",
          "nps_rating": 9,
          "response_date": "2020-10-05",
          "source": "mobile",
          "user_id": 49618
         },
         {
          "index": 1753,
          "nps_group": "detractor",
          "nps_rating": 6,
          "response_date": "2020-10-15",
          "source": "mobile",
          "user_id": 49646
         },
         {
          "index": 1754,
          "nps_group": "promoter",
          "nps_rating": 10,
          "response_date": "2020-11-30",
          "source": "mobile",
          "user_id": 31554
         },
         {
          "index": 1755,
          "nps_group": "promoter",
          "nps_rating": 9,
          "response_date": "2020-10-13",
          "source": "mobile",
          "user_id": 25785
         },
         {
          "index": 1756,
          "nps_group": "passive",
          "nps_rating": 7,
          "response_date": "2020-11-15",
          "source": "mobile",
          "user_id": 27453
         },
         {
          "index": 1757,
          "nps_group": "passive",
          "nps_rating": 7,
          "response_date": "2020-11-13",
          "source": "mobile",
          "user_id": 38916
         },
         {
          "index": 1758,
          "nps_group": "detractor",
          "nps_rating": 4,
          "response_date": "2020-11-04",
          "source": "mobile",
          "user_id": 26480
         },
         {
          "index": 1759,
          "nps_group": "passive",
          "nps_rating": 7,
          "response_date": "2020-12-17",
          "source": "mobile",
          "user_id": 37273
         },
         {
          "index": 1760,
          "nps_group": "passive",
          "nps_rating": 8,
          "response_date": "2020-12-11",
          "source": "mobile",
          "user_id": 18412
         },
         {
          "index": 1761,
          "nps_group": "passive",
          "nps_rating": 8,
          "response_date": "2020-12-21",
          "source": "mobile",
          "user_id": 38804
         },
         {
          "index": 1762,
          "nps_group": "promoter",
          "nps_rating": 10,
          "response_date": "2020-12-15",
          "source": "mobile",
          "user_id": 21510
         },
         {
          "index": 1763,
          "nps_group": "detractor",
          "nps_rating": 1,
          "response_date": "2020-12-13",
          "source": "mobile",
          "user_id": 33472
         },
         {
          "index": 1764,
          "nps_group": "passive",
          "nps_rating": 7,
          "response_date": "2020-12-10",
          "source": "mobile",
          "user_id": 35939
         },
         {
          "index": 1765,
          "nps_group": "detractor",
          "nps_rating": 6,
          "response_date": "2020-12-04",
          "source": "mobile",
          "user_id": 15714
         },
         {
          "index": 1766,
          "nps_group": "passive",
          "nps_rating": 8,
          "response_date": "2020-10-25",
          "source": "mobile",
          "user_id": 17536
         },
         {
          "index": 1767,
          "nps_group": "passive",
          "nps_rating": 7,
          "response_date": "2020-10-03",
          "source": "mobile",
          "user_id": 47025
         },
         {
          "index": 1768,
          "nps_group": "passive",
          "nps_rating": 7,
          "response_date": "2020-10-29",
          "source": "mobile",
          "user_id": 43892
         },
         {
          "index": 1769,
          "nps_group": "detractor",
          "nps_rating": 0,
          "response_date": "2020-10-12",
          "source": "mobile",
          "user_id": 41131
         },
         {
          "index": 1770,
          "nps_group": "detractor",
          "nps_rating": 5,
          "response_date": "2020-10-10",
          "source": "mobile",
          "user_id": 10494
         },
         {
          "index": 1771,
          "nps_group": "promoter",
          "nps_rating": 9,
          "response_date": "2020-11-14",
          "source": "mobile",
          "user_id": 21307
         },
         {
          "index": 1772,
          "nps_group": "passive",
          "nps_rating": 7,
          "response_date": "2020-12-11",
          "source": "mobile",
          "user_id": 40174
         },
         {
          "index": 1773,
          "nps_group": "detractor",
          "nps_rating": 3,
          "response_date": "2020-11-17",
          "source": "mobile",
          "user_id": 30499
         },
         {
          "index": 1774,
          "nps_group": "passive",
          "nps_rating": 8,
          "response_date": "2020-10-06",
          "source": "mobile",
          "user_id": 34912
         },
         {
          "index": 1775,
          "nps_group": "passive",
          "nps_rating": 7,
          "response_date": "2020-12-20",
          "source": "mobile",
          "user_id": 10505
         },
         {
          "index": 1776,
          "nps_group": "passive",
          "nps_rating": 7,
          "response_date": "2020-10-20",
          "source": "mobile",
          "user_id": 19131
         },
         {
          "index": 1777,
          "nps_group": "passive",
          "nps_rating": 7,
          "response_date": "2020-12-27",
          "source": "mobile",
          "user_id": 34524
         },
         {
          "index": 1778,
          "nps_group": "promoter",
          "nps_rating": 10,
          "response_date": "2020-12-07",
          "source": "mobile",
          "user_id": 17915
         },
         {
          "index": 1779,
          "nps_group": "passive",
          "nps_rating": 8,
          "response_date": "2020-12-20",
          "source": "mobile",
          "user_id": 15062
         },
         {
          "index": 1780,
          "nps_group": "promoter",
          "nps_rating": 10,
          "response_date": "2020-12-05",
          "source": "mobile",
          "user_id": 44482
         },
         {
          "index": 1781,
          "nps_group": "promoter",
          "nps_rating": 10,
          "response_date": "2020-12-21",
          "source": "mobile",
          "user_id": 19186
         },
         {
          "index": 1782,
          "nps_group": "passive",
          "nps_rating": 7,
          "response_date": "2020-12-08",
          "source": "mobile",
          "user_id": 49170
         },
         {
          "index": 1783,
          "nps_group": "passive",
          "nps_rating": 7,
          "response_date": "2020-12-31",
          "source": "mobile",
          "user_id": 38958
         },
         {
          "index": 1784,
          "nps_group": "detractor",
          "nps_rating": 3,
          "response_date": "2020-12-27",
          "source": "mobile",
          "user_id": 31586
         },
         {
          "index": 1785,
          "nps_group": "passive",
          "nps_rating": 8,
          "response_date": "2020-12-29",
          "source": "mobile",
          "user_id": 27775
         },
         {
          "index": 1786,
          "nps_group": "detractor",
          "nps_rating": 5,
          "response_date": "2020-10-24",
          "source": "mobile",
          "user_id": 26123
         },
         {
          "index": 1787,
          "nps_group": "detractor",
          "nps_rating": 4,
          "response_date": "2020-12-27",
          "source": "mobile",
          "user_id": 41539
         },
         {
          "index": 1788,
          "nps_group": "detractor",
          "nps_rating": 5,
          "response_date": "2020-11-01",
          "source": "mobile",
          "user_id": 44540
         },
         {
          "index": 1789,
          "nps_group": "detractor",
          "nps_rating": 6,
          "response_date": "2020-11-22",
          "source": "mobile",
          "user_id": 23422
         },
         {
          "index": 1790,
          "nps_group": "detractor",
          "nps_rating": 2,
          "response_date": "2020-12-20",
          "source": "mobile",
          "user_id": 48713
         },
         {
          "index": 1791,
          "nps_group": "detractor",
          "nps_rating": 1,
          "response_date": "2020-10-21",
          "source": "mobile",
          "user_id": 33617
         },
         {
          "index": 1792,
          "nps_group": "detractor",
          "nps_rating": 0,
          "response_date": "2020-12-30",
          "source": "mobile",
          "user_id": 46670
         },
         {
          "index": 1793,
          "nps_group": "detractor",
          "nps_rating": 4,
          "response_date": "2020-11-25",
          "source": "mobile",
          "user_id": 48563
         },
         {
          "index": 1794,
          "nps_group": "promoter",
          "nps_rating": 9,
          "response_date": "2020-11-04",
          "source": "mobile",
          "user_id": 30486
         },
         {
          "index": 1795,
          "nps_group": "passive",
          "nps_rating": 7,
          "response_date": "2020-10-01",
          "source": "mobile",
          "user_id": 44154
         },
         {
          "index": 1796,
          "nps_group": "detractor",
          "nps_rating": 3,
          "response_date": "2020-12-29",
          "source": "mobile",
          "user_id": 49529
         },
         {
          "index": 1797,
          "nps_group": "passive",
          "nps_rating": 7,
          "response_date": "2020-12-24",
          "source": "mobile",
          "user_id": 23671
         },
         {
          "index": 1798,
          "nps_group": "passive",
          "nps_rating": 7,
          "response_date": "2020-11-28",
          "source": "mobile",
          "user_id": 39954
         },
         {
          "index": 1799,
          "nps_group": "passive",
          "nps_rating": 7,
          "response_date": "2020-12-19",
          "source": "mobile",
          "user_id": 21098
         },
         {
          "index": 1800,
          "nps_group": "passive",
          "nps_rating": 7,
          "response_date": "2020-12-23",
          "source": "mobile",
          "user_id": 14919
         }
        ],
        "schema": {
         "fields": [
          {
           "name": "index",
           "type": "integer"
          },
          {
           "name": "response_date",
           "type": "string"
          },
          {
           "name": "user_id",
           "type": "integer"
          },
          {
           "name": "nps_rating",
           "type": "integer"
          },
          {
           "name": "source",
           "type": "string"
          },
          {
           "name": "nps_group",
           "type": "string"
          }
         ],
         "pandas_version": "1.4.0",
         "primaryKey": [
          "index"
         ]
        }
       },
       "total_rows": 1801,
       "truncation_type": null
      },
      "text/html": [
       "<div>\n",
       "<style scoped>\n",
       "    .dataframe tbody tr th:only-of-type {\n",
       "        vertical-align: middle;\n",
       "    }\n",
       "\n",
       "    .dataframe tbody tr th {\n",
       "        vertical-align: top;\n",
       "    }\n",
       "\n",
       "    .dataframe thead th {\n",
       "        text-align: right;\n",
       "    }\n",
       "</style>\n",
       "<table border=\"1\" class=\"dataframe\">\n",
       "  <thead>\n",
       "    <tr style=\"text-align: right;\">\n",
       "      <th></th>\n",
       "      <th>response_date</th>\n",
       "      <th>user_id</th>\n",
       "      <th>nps_rating</th>\n",
       "      <th>source</th>\n",
       "      <th>nps_group</th>\n",
       "    </tr>\n",
       "  </thead>\n",
       "  <tbody>\n",
       "    <tr>\n",
       "      <th>0</th>\n",
       "      <td>2020-12-29</td>\n",
       "      <td>14178</td>\n",
       "      <td>3</td>\n",
       "      <td>mobile</td>\n",
       "      <td>detractor</td>\n",
       "    </tr>\n",
       "    <tr>\n",
       "      <th>1</th>\n",
       "      <td>2020-10-29</td>\n",
       "      <td>33221</td>\n",
       "      <td>1</td>\n",
       "      <td>mobile</td>\n",
       "      <td>detractor</td>\n",
       "    </tr>\n",
       "    <tr>\n",
       "      <th>2</th>\n",
       "      <td>2020-11-01</td>\n",
       "      <td>21127</td>\n",
       "      <td>10</td>\n",
       "      <td>mobile</td>\n",
       "      <td>promoter</td>\n",
       "    </tr>\n",
       "    <tr>\n",
       "      <th>3</th>\n",
       "      <td>2020-12-07</td>\n",
       "      <td>42894</td>\n",
       "      <td>3</td>\n",
       "      <td>mobile</td>\n",
       "      <td>detractor</td>\n",
       "    </tr>\n",
       "    <tr>\n",
       "      <th>4</th>\n",
       "      <td>2020-11-26</td>\n",
       "      <td>30501</td>\n",
       "      <td>5</td>\n",
       "      <td>mobile</td>\n",
       "      <td>detractor</td>\n",
       "    </tr>\n",
       "    <tr>\n",
       "      <th>...</th>\n",
       "      <td>...</td>\n",
       "      <td>...</td>\n",
       "      <td>...</td>\n",
       "      <td>...</td>\n",
       "      <td>...</td>\n",
       "    </tr>\n",
       "    <tr>\n",
       "      <th>1796</th>\n",
       "      <td>2020-12-29</td>\n",
       "      <td>49529</td>\n",
       "      <td>3</td>\n",
       "      <td>mobile</td>\n",
       "      <td>detractor</td>\n",
       "    </tr>\n",
       "    <tr>\n",
       "      <th>1797</th>\n",
       "      <td>2020-12-24</td>\n",
       "      <td>23671</td>\n",
       "      <td>7</td>\n",
       "      <td>mobile</td>\n",
       "      <td>passive</td>\n",
       "    </tr>\n",
       "    <tr>\n",
       "      <th>1798</th>\n",
       "      <td>2020-11-28</td>\n",
       "      <td>39954</td>\n",
       "      <td>7</td>\n",
       "      <td>mobile</td>\n",
       "      <td>passive</td>\n",
       "    </tr>\n",
       "    <tr>\n",
       "      <th>1799</th>\n",
       "      <td>2020-12-19</td>\n",
       "      <td>21098</td>\n",
       "      <td>7</td>\n",
       "      <td>mobile</td>\n",
       "      <td>passive</td>\n",
       "    </tr>\n",
       "    <tr>\n",
       "      <th>1800</th>\n",
       "      <td>2020-12-23</td>\n",
       "      <td>14919</td>\n",
       "      <td>7</td>\n",
       "      <td>mobile</td>\n",
       "      <td>passive</td>\n",
       "    </tr>\n",
       "  </tbody>\n",
       "</table>\n",
       "<p>1801 rows × 5 columns</p>\n",
       "</div>"
      ],
      "text/plain": [
       "     response_date  user_id  nps_rating  source  nps_group\n",
       "0       2020-12-29    14178           3  mobile  detractor\n",
       "1       2020-10-29    33221           1  mobile  detractor\n",
       "2       2020-11-01    21127          10  mobile   promoter\n",
       "3       2020-12-07    42894           3  mobile  detractor\n",
       "4       2020-11-26    30501           5  mobile  detractor\n",
       "...            ...      ...         ...     ...        ...\n",
       "1796    2020-12-29    49529           3  mobile  detractor\n",
       "1797    2020-12-24    23671           7  mobile    passive\n",
       "1798    2020-11-28    39954           7  mobile    passive\n",
       "1799    2020-12-19    21098           7  mobile    passive\n",
       "1800    2020-12-23    14919           7  mobile    passive\n",
       "\n",
       "[1801 rows x 5 columns]"
      ]
     },
     "execution_count": 7,
     "metadata": {},
     "output_type": "execute_result"
    }
   ],
   "source": [
    "def convert_csv_to_df(csv_name, source_type):    \n",
    "    \"\"\" Convert an NPS CSV into a DataFrame with columns for the source and NPS group.\n",
    "\n",
    "    Args:\n",
    "        csv_name (str): The name of the NPS CSV file.\n",
    "        source_type (str): The source of the NPS responses.\n",
    "\n",
    "    Returns:\n",
    "         A DataFrame with the CSV data and columns: source and nps_group.\n",
    "    \"\"\"\n",
    "    df = pd.read_csv(csv_name)\n",
    "    df['source'] = source_type\n",
    "    # Define a new column nps_group which applies categorize_nps to nps_rating\n",
    "    df['nps_group'] = df['nps_rating'].apply(categorize_nps)\n",
    "    return df\n",
    "\n",
    "# Test the updated function with mobile data\n",
    "convert_csv_to_df(\"datasets/2020Q4_nps_mobile.csv\", \"mobile\")"
   ]
  },
  {
   "cell_type": "markdown",
   "id": "345fc48b-9fef-44e8-b5f7-4df7f1ebf0fd",
   "metadata": {
    "dc": {
     "key": "38"
    },
    "run_control": {
     "frozen": true
    },
    "tags": [
     "context"
    ]
   },
   "source": [
    "## 6. Calculating the Net Promoter Score\n",
    "<p>If we hadn't broken down our code into functions earlier, we would've had to edit our code in multiple places to add a <code>nps_group</code> column, increasing the chance of introducing errors. It also helps that our functions have one responsibility keeping our code flexible and easier to edit and debug.</p>\n",
    "<p>Now we're in a good place to calculate the Net Promoter Score! This is calculated by subtracting the percentage of detractor ratings from the percentage of promoter ratings, in other words:</p>\n",
    "<p>$\n",
    "NPS = \\frac{\\text{# of Promoter Rating - # of Detractor Ratings}}{\\text{Total # of Respondents}} * 100\n",
    "$</p>\n",
    "<p>We want to calculate the NPS across all sources, so we'll use <code>combine_nps_csvs()</code> from Task 3 to consolidate the source files. As expected, that will output a DataFrame which we'll use as an input for a new function we're going to write, <code>calculate_nps()</code>. </p>"
   ]
  },
  {
   "cell_type": "code",
   "execution_count": 8,
   "id": "1b4bd647-d415-486e-90ff-b9770dad809c",
   "metadata": {
    "dc": {
     "key": "38"
    },
    "executionTime": 59,
    "lastSuccessfullyExecutedCode": "import numpy as np\nfrom IPython.core.interactiveshell import InteractiveShell\nInteractiveShell.ast_node_interactivity = \"all\"\n\n#Define a function calculate_nps that takes a DataFrame\ndef calculate_nps(nps_df):\n    # Calculate the NPS score using the nps_group column \n    nps_df['nps_group'] = nps_df.apply(lambda row: categorize_nps(row['nps_rating']) , axis=1)\n    \n    x = nps_df['nps_group'].value_counts()\n    print(type(x))\n    print(x)\n    \n    nps_group_dict = nps_df['nps_group'].value_counts().to_dict()\n    print(nps_group_dict)\n    \n    {'passive': 2255, 'promoter': 2196, 'detractor': 1592}\n    \n    passive = nps_group_dict['passive']\n    promoter = nps_group_dict['promoter']\n    detractor = nps_group_dict['detractor']\n    \n    nps = (promoter - detractor)/(passive + promoter + detractor) * 100\n    \n    return nps\n    \n\nmy_files = {\n  \"datasets/2020Q4_nps_email.csv\": \"email\",\n  \"datasets/2020Q4_nps_web.csv\": \"web\",\n  \"datasets/2020Q4_nps_mobile.csv\": \"mobile\",\n}\n\n# Test the function on the my_files dictionary\nq4_nps = combine_nps_csvs(my_files)\n# q4_nps.shape\n# q4_nps.info()\n# q4_nps.isna().sum()\n# x = q4_nps['nps_rating'].unique()\n# print(type(x))\n# np.sort(x)\ncalculate_nps(q4_nps)",
    "tags": [
     "sample_code"
    ]
   },
   "outputs": [
    {
     "name": "stdout",
     "output_type": "stream",
     "text": [
      "datasets/2020Q4_nps_email.csv\n",
      "datasets/2020Q4_nps_web.csv\n",
      "datasets/2020Q4_nps_mobile.csv\n",
      "<class 'pandas.core.series.Series'>\n",
      "passive      2255\n",
      "promoter     2196\n",
      "detractor    1592\n",
      "Name: nps_group, dtype: int64\n",
      "{'passive': 2255, 'promoter': 2196, 'detractor': 1592}\n"
     ]
    },
    {
     "data": {
      "text/plain": [
       "9.995035578355122"
      ]
     },
     "execution_count": 8,
     "metadata": {},
     "output_type": "execute_result"
    }
   ],
   "source": [
    "import numpy as np\n",
    "from IPython.core.interactiveshell import InteractiveShell\n",
    "InteractiveShell.ast_node_interactivity = \"all\"\n",
    "\n",
    "#Define a function calculate_nps that takes a DataFrame\n",
    "def calculate_nps(nps_df):\n",
    "    # Calculate the NPS score using the nps_group column \n",
    "    nps_df['nps_group'] = nps_df.apply(lambda row: categorize_nps(row['nps_rating']) , axis=1)\n",
    "    \n",
    "    x = nps_df['nps_group'].value_counts()\n",
    "    print(type(x))\n",
    "    print(x)\n",
    "    \n",
    "    nps_group_dict = nps_df['nps_group'].value_counts().to_dict()\n",
    "    print(nps_group_dict)\n",
    "    \n",
    "    {'passive': 2255, 'promoter': 2196, 'detractor': 1592}\n",
    "    \n",
    "    passive = nps_group_dict['passive']\n",
    "    promoter = nps_group_dict['promoter']\n",
    "    detractor = nps_group_dict['detractor']\n",
    "    \n",
    "    nps = (promoter - detractor)/(passive + promoter + detractor) * 100\n",
    "    \n",
    "    return nps\n",
    "    \n",
    "\n",
    "my_files = {\n",
    "  \"datasets/2020Q4_nps_email.csv\": \"email\",\n",
    "  \"datasets/2020Q4_nps_web.csv\": \"web\",\n",
    "  \"datasets/2020Q4_nps_mobile.csv\": \"mobile\",\n",
    "}\n",
    "\n",
    "# Test the function on the my_files dictionary\n",
    "q4_nps = combine_nps_csvs(my_files)\n",
    "# q4_nps.shape\n",
    "# q4_nps.info()\n",
    "# q4_nps.isna().sum()\n",
    "# x = q4_nps['nps_rating'].unique()\n",
    "# print(type(x))\n",
    "# np.sort(x)\n",
    "calculate_nps(q4_nps)"
   ]
  },
  {
   "cell_type": "markdown",
   "id": "0cdbea5d-37ed-43a8-9378-2beaaa461b39",
   "metadata": {
    "dc": {
     "key": "45"
    },
    "run_control": {
     "frozen": true
    },
    "tags": [
     "context"
    ]
   },
   "source": [
    "## 7. Breaking down NPS by source\n",
    "<p>Is it good to have an NPS score around 10? The worst NPS score you can get is -100 when all respondents are detractors, and the best is 100 when all respondents are promoters. Depending on the industry of your service or product, average NPS scores vary a lot. However, a negative score is a bad sign because it means you have more unhappy customers than happy customers. Typically, a score over 50 is considered excellent, and above 75 is considered best in class.</p>\n",
    "<p>Although our score is above 0, it's still on the lower end of the spectrum. The product team concludes that majorly increasing NPS across our customer base is a priority. Luckily, we have this NPS data that we can analyze more so we can find data-driven solutions. A good start would be breaking down the NPS score by the source type. For instance, if people are rating lower on the web than mobile, that's some evidence we need to improve the browser experience.</p>"
   ]
  },
  {
   "cell_type": "code",
   "execution_count": 9,
   "id": "1774e135-9ed1-443e-8b68-2870a1f1c353",
   "metadata": {
    "dc": {
     "key": "45"
    },
    "executionTime": 56,
    "lastSuccessfullyExecutedCode": "# Define a function calculate_nps_by_source that takes a DataFrame\ndef calculate_nps_by_source(df):\n    # Group the DataFrame by source and apply calculate_nps()\n    nps_by_source = df.groupby(['source']).apply(calculate_nps)\n    \n    # Return a Series with the NPS scores broken by source\n    return nps_by_source\n\n\nmy_files = {\n  \"datasets/2020Q4_nps_email.csv\": \"email\",\n  \"datasets/2020Q4_nps_web.csv\": \"web\",\n  \"datasets/2020Q4_nps_mobile.csv\": \"mobile\",\n}\n\n# Test the function on the my_files dictionary\nq4_nps = combine_nps_csvs(my_files)\ncalculate_nps_by_source(q4_nps)",
    "tags": [
     "sample_code"
    ]
   },
   "outputs": [
    {
     "name": "stdout",
     "output_type": "stream",
     "text": [
      "datasets/2020Q4_nps_email.csv\n",
      "datasets/2020Q4_nps_web.csv\n",
      "datasets/2020Q4_nps_mobile.csv\n",
      "<class 'pandas.core.series.Series'>\n",
      "promoter     819\n",
      "passive      677\n",
      "detractor    456\n",
      "Name: nps_group, dtype: int64\n",
      "{'promoter': 819, 'passive': 677, 'detractor': 456}\n",
      "<class 'pandas.core.series.Series'>\n",
      "passive      782\n",
      "detractor    642\n",
      "promoter     377\n",
      "Name: nps_group, dtype: int64\n",
      "{'passive': 782, 'detractor': 642, 'promoter': 377}\n",
      "<class 'pandas.core.series.Series'>\n",
      "promoter     1000\n",
      "passive       796\n",
      "detractor     494\n",
      "Name: nps_group, dtype: int64\n",
      "{'promoter': 1000, 'passive': 796, 'detractor': 494}\n"
     ]
    },
    {
     "data": {
      "text/plain": [
       "source\n",
       "email     18.596311\n",
       "mobile   -14.714048\n",
       "web       22.096070\n",
       "dtype: float64"
      ]
     },
     "execution_count": 9,
     "metadata": {},
     "output_type": "execute_result"
    }
   ],
   "source": [
    "# Define a function calculate_nps_by_source that takes a DataFrame\n",
    "def calculate_nps_by_source(df):\n",
    "    # Group the DataFrame by source and apply calculate_nps()\n",
    "    nps_by_source = df.groupby(['source']).apply(calculate_nps)\n",
    "    \n",
    "    # Return a Series with the NPS scores broken by source\n",
    "    return nps_by_source\n",
    "\n",
    "\n",
    "my_files = {\n",
    "  \"datasets/2020Q4_nps_email.csv\": \"email\",\n",
    "  \"datasets/2020Q4_nps_web.csv\": \"web\",\n",
    "  \"datasets/2020Q4_nps_mobile.csv\": \"mobile\",\n",
    "}\n",
    "\n",
    "# Test the function on the my_files dictionary\n",
    "q4_nps = combine_nps_csvs(my_files)\n",
    "calculate_nps_by_source(q4_nps)"
   ]
  },
  {
   "cell_type": "markdown",
   "id": "965014bd-54c1-4747-bcbe-9836b74d9a31",
   "metadata": {
    "dc": {
     "key": "52"
    },
    "run_control": {
     "frozen": true
    },
    "tags": [
     "context"
    ]
   },
   "source": [
    "## 8. Adding docstrings\n",
    "<p>Interesting! The mobile responses have an NPS score of about -15, which is noticeably lower than the other two sources. There are few ways we could continue our analysis from here. We could use the column <code>user_id</code> to reach out to users who rated poorly on the mobile app for user interviews. We could also breakdown NPS by source and date to see if there was a date where NPS started clearly decreasing - perhaps the same time there was a bug or feature realeased. With the functions we created, Brenda is in a good place to continue this work!</p>\n",
    "<p>The last thing we'll discuss is docstrings. In Task 1, 2, 4 and 5, we included docstrings for <code>convert_csv_to_df()</code>, <code>check_csv()</code>, and <code>categorize_nps()</code>. However, we should include docstrings for all the functions we write so that others can better re-use and maintain our code. Docstrings tell readers what a function does, its arguments, its return value(s) if any, and any other useful information you want to include, like error handling. There are several standards for writing docstrings in Python, including: <a href=\"https://numpydoc.readthedocs.io/en/latest/format.html\">Numpydoc</a>, <a href=\"https://google.github.io/styleguide/pyguide.html\">Google-style</a> (chosen style in this notebook), and <a href=\"https://www.python.org/dev/peps/pep-0287/\">reStructuredText</a>.</p>\n",
    "<p>To make sure Brenda and other colleagues can follow our work, we are going to add docstrings to the remaining undocumented functions: <code>combine_nps_csvs()</code>, <code>calculate_nps()</code>, and <code>calculate_nps_by_source</code>. It's up to you how you want to write the docstrings - we'll only check that a docstring exists for each of these functions. </p>"
   ]
  },
  {
   "cell_type": "code",
   "execution_count": 10,
   "id": "bdbd7da3-a505-4c2b-95af-8e74c9090a29",
   "metadata": {
    "collapsed": true,
    "dc": {
     "key": "52"
    },
    "executionTime": 0,
    "jupyter": {
     "outputs_hidden": true
    },
    "lastSuccessfullyExecutedCode": "# Copy and paste your code for the function from Task 3\n# Write a function combine_nps_csvs() with the arg csvs_dict \ndef combine_nps_csvs(csvs_dict):\n    \"\"\"\n    doc string for combine_nps_csvs\n    \"\"\"\n    # Define combine as an empty DataFrame\n    combined = pd.DataFrame()\n    # Iterate over csvs_dict to get the name and source of the CSVs\n    for key, value in csvs_dict.items():\n        # Check if the csv is valid using check_csv()\n        print(key)\n        if check_csv(key):\n            # Convert the CSV using convert_csv_to_df() and assign it to temp\n            temp = convert_csv_to_df(key, value)\n            \n            # Concatenate combined and temp and assign it to combined\n            combined = pd.concat([combined,temp])\n         # If the file is not valid, print a message with the CSV's name\n        else:\n            print(key + \" is not a valid file and will not be added.\")\n    # Return the combined DataFrame\n    return combined\n\n# Copy and paste your code for the function from Task 6\n#Define a function calculate_nps that takes a DataFrame\ndef calculate_nps(nps_df):\n    \"\"\"\n    doc string for calculate_nps\n    \"\"\"\n    # Calculate the NPS score using the nps_group column \n    nps_df['nps_group'] = nps_df.apply(lambda row: categorize_nps(row['nps_rating']) , axis=1)\n    \n    x = nps_df['nps_group'].value_counts()\n    print(type(x))\n    print(x)\n    \n    nps_group_dict = nps_df['nps_group'].value_counts().to_dict()\n    print(nps_group_dict)\n    \n    {'passive': 2255, 'promoter': 2196, 'detractor': 1592}\n    \n    passive = nps_group_dict['passive']\n    promoter = nps_group_dict['promoter']\n    detractor = nps_group_dict['detractor']\n    \n    nps = (promoter - detractor)/(passive + promoter + detractor) * 100\n    \n    return nps\n\n\n# Copy and paste your code for the function from Task 7\n# Define a function calculate_nps_by_source that takes a DataFrame\ndef calculate_nps_by_source(df):\n    \"\"\" Convert an NPS CSV into a DataFrame with columns for the source and NPS group.\n\n    Args:\n        csv_name (str): The name of the NPS CSV file.\n        source_type (str): The source of the NPS responses.\n\n    Returns:\n         A DataFrame with the CSV data and columns: source and nps_group.\n    \"\"\"\n    df = pd.read_csv(csv_name)\n    df['source'] = source_type\n    # Define a new column nps_group which applies categorize_nps to nps_rating\n    df['nps_group'] = df['nps_rating'].apply(categorize_nps)\n    return df\n",
    "tags": [
     "sample_code"
    ]
   },
   "outputs": [],
   "source": [
    "# Copy and paste your code for the function from Task 3\n",
    "# Write a function combine_nps_csvs() with the arg csvs_dict \n",
    "def combine_nps_csvs(csvs_dict):\n",
    "    \"\"\"\n",
    "    doc string for combine_nps_csvs\n",
    "    \"\"\"\n",
    "    # Define combine as an empty DataFrame\n",
    "    combined = pd.DataFrame()\n",
    "    # Iterate over csvs_dict to get the name and source of the CSVs\n",
    "    for key, value in csvs_dict.items():\n",
    "        # Check if the csv is valid using check_csv()\n",
    "        print(key)\n",
    "        if check_csv(key):\n",
    "            # Convert the CSV using convert_csv_to_df() and assign it to temp\n",
    "            temp = convert_csv_to_df(key, value)\n",
    "            \n",
    "            # Concatenate combined and temp and assign it to combined\n",
    "            combined = pd.concat([combined,temp])\n",
    "         # If the file is not valid, print a message with the CSV's name\n",
    "        else:\n",
    "            print(key + \" is not a valid file and will not be added.\")\n",
    "    # Return the combined DataFrame\n",
    "    return combined\n",
    "\n",
    "# Copy and paste your code for the function from Task 6\n",
    "#Define a function calculate_nps that takes a DataFrame\n",
    "def calculate_nps(nps_df):\n",
    "    \"\"\"\n",
    "    doc string for calculate_nps\n",
    "    \"\"\"\n",
    "    # Calculate the NPS score using the nps_group column \n",
    "    nps_df['nps_group'] = nps_df.apply(lambda row: categorize_nps(row['nps_rating']) , axis=1)\n",
    "    \n",
    "    x = nps_df['nps_group'].value_counts()\n",
    "    print(type(x))\n",
    "    print(x)\n",
    "    \n",
    "    nps_group_dict = nps_df['nps_group'].value_counts().to_dict()\n",
    "    print(nps_group_dict)\n",
    "    \n",
    "    {'passive': 2255, 'promoter': 2196, 'detractor': 1592}\n",
    "    \n",
    "    passive = nps_group_dict['passive']\n",
    "    promoter = nps_group_dict['promoter']\n",
    "    detractor = nps_group_dict['detractor']\n",
    "    \n",
    "    nps = (promoter - detractor)/(passive + promoter + detractor) * 100\n",
    "    \n",
    "    return nps\n",
    "\n",
    "\n",
    "# Copy and paste your code for the function from Task 7\n",
    "# Define a function calculate_nps_by_source that takes a DataFrame\n",
    "def calculate_nps_by_source(df):\n",
    "    \"\"\" Convert an NPS CSV into a DataFrame with columns for the source and NPS group.\n",
    "\n",
    "    Args:\n",
    "        csv_name (str): The name of the NPS CSV file.\n",
    "        source_type (str): The source of the NPS responses.\n",
    "\n",
    "    Returns:\n",
    "         A DataFrame with the CSV data and columns: source and nps_group.\n",
    "    \"\"\"\n",
    "    df = pd.read_csv(csv_name)\n",
    "    df['source'] = source_type\n",
    "    # Define a new column nps_group which applies categorize_nps to nps_rating\n",
    "    df['nps_group'] = df['nps_rating'].apply(categorize_nps)\n",
    "    return df\n"
   ]
  }
 ],
 "metadata": {
  "editor": "DataCamp Workspace",
  "kernelspec": {
   "display_name": "Python 3",
   "language": "python",
   "name": "python3"
  },
  "language_info": {
   "codemirror_mode": {
    "name": "ipython",
    "version": 3
   },
   "file_extension": ".py",
   "mimetype": "text/x-python",
   "name": "python",
   "nbconvert_exporter": "python",
   "pygments_lexer": "ipython3",
   "version": "3.8.13"
  }
 },
 "nbformat": 4,
 "nbformat_minor": 5
}
