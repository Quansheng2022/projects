{
 "cells": [
  {
   "cell_type": "code",
   "execution_count": 1,
   "id": "ac043dd2",
   "metadata": {},
   "outputs": [],
   "source": [
    "# FUTU OpenAPI\n",
    "#https://openapi.futunn.com/futu-api-doc/en/quote/overview.html\n",
    "#https://openapi.moomoo.com/futu-api-doc/en/?_ftsdk=1672920263987375&_ga=2.120667208.1155262499.1672920265-765018524.1672920265"
   ]
  },
  {
   "cell_type": "code",
   "execution_count": null,
   "id": "da414bad",
   "metadata": {},
   "outputs": [
    {
     "name": "stdout",
     "output_type": "stream",
     "text": [
      "\u001b[0;33m2023-01-29 23:32:26,554 | 8896 | [open_context_base.py] _connect_sync:287: Connect fail: conn_id=1; msg=WSAECONNREFUSED\u001b[0m\n",
      "\u001b[0;33m2023-01-29 23:32:36,590 | 8896 | [open_context_base.py] _connect_sync:287: Connect fail: conn_id=2; msg=WSAECONNREFUSED\u001b[0m\n",
      "\u001b[0;33m2023-01-29 23:32:46,618 | 8896 | [open_context_base.py] _connect_sync:287: Connect fail: conn_id=3; msg=WSAECONNREFUSED\u001b[0m\n"
     ]
    }
   ],
   "source": [
    "from futu import *\n",
    "quote_ctx = OpenQuoteContext(host='127.0.0.1', port=11111,is_encrypt=None)\n",
    "\n",
    "ret, data = quote_ctx.get_market_state(['HK.00700'])\n",
    "if ret == RET_OK:\n",
    "    print(data)\n",
    "else:\n",
    "    print('error:', data)\n",
    "quote_ctx.close() # After using the connection, remember to close it to prevent the number of connections from running out\n",
    " "
   ]
  }
 ],
 "metadata": {
  "kernelspec": {
   "display_name": "Python 3",
   "language": "python",
   "name": "python3"
  },
  "language_info": {
   "codemirror_mode": {
    "name": "ipython",
    "version": 3
   },
   "file_extension": ".py",
   "mimetype": "text/x-python",
   "name": "python",
   "nbconvert_exporter": "python",
   "pygments_lexer": "ipython3",
   "version": "3.8.13"
  }
 },
 "nbformat": 4,
 "nbformat_minor": 5
}
